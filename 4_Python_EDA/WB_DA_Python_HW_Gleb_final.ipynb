{
 "cells": [
  {
   "cell_type": "markdown",
   "metadata": {},
   "source": [
    "<h1>Задание 1</h1> "
   ]
  },
  {
   "cell_type": "markdown",
   "metadata": {},
   "source": [
    "<h2>Задание 1.1</h2>"
   ]
  },
  {
   "cell_type": "code",
   "execution_count": 1,
   "metadata": {},
   "outputs": [],
   "source": [
    "# Импортирую необходимые для работы библиотеки.\n",
    "import pandas as pd\n",
    "from scipy.stats import chi2_contingency\n",
    "from scipy.stats import chisquare\n",
    "from scipy.stats import pearsonr\n",
    "from scipy.stats import ttest_ind\n",
    "import sqlite3\n",
    "import matplotlib.pyplot as plt\n",
    "import seaborn as sns\n",
    "%matplotlib inline"
   ]
  },
  {
   "cell_type": "code",
   "execution_count": 2,
   "metadata": {},
   "outputs": [
    {
     "data": {
      "text/plain": [
       "<Figure size 1200x600 with 0 Axes>"
      ]
     },
     "metadata": {},
     "output_type": "display_data"
    }
   ],
   "source": [
    "# Изменение характеристик графиков:\n",
    "plt.figure(figsize=(12, 6)) # Размеры.\n",
    "sns.set_theme(style='whitegrid') # Стиль с белым фоном и сеткой.\n",
    "sns.set_context('paper') # Контекст."
   ]
  },
  {
   "cell_type": "code",
   "execution_count": 3,
   "metadata": {},
   "outputs": [],
   "source": [
    "# Импортирую файл csv.\n",
    "shopping_trends = pd.read_csv('shopping_trends.csv')"
   ]
  },
  {
   "cell_type": "code",
   "execution_count": 4,
   "metadata": {},
   "outputs": [
    {
     "data": {
      "text/html": [
       "<div>\n",
       "<style scoped>\n",
       "    .dataframe tbody tr th:only-of-type {\n",
       "        vertical-align: middle;\n",
       "    }\n",
       "\n",
       "    .dataframe tbody tr th {\n",
       "        vertical-align: top;\n",
       "    }\n",
       "\n",
       "    .dataframe thead th {\n",
       "        text-align: right;\n",
       "    }\n",
       "</style>\n",
       "<table border=\"1\" class=\"dataframe\">\n",
       "  <thead>\n",
       "    <tr style=\"text-align: right;\">\n",
       "      <th></th>\n",
       "      <th>Customer ID</th>\n",
       "      <th>Age</th>\n",
       "      <th>Gender</th>\n",
       "      <th>Item Purchased</th>\n",
       "      <th>Category</th>\n",
       "      <th>Purchase Amount (USD)</th>\n",
       "      <th>Location</th>\n",
       "      <th>Size</th>\n",
       "      <th>Color</th>\n",
       "      <th>Season</th>\n",
       "      <th>Review Rating</th>\n",
       "      <th>Subscription Status</th>\n",
       "      <th>Payment Method</th>\n",
       "      <th>Shipping Type</th>\n",
       "      <th>Discount Applied</th>\n",
       "      <th>Promo Code Used</th>\n",
       "      <th>Previous Purchases</th>\n",
       "      <th>Preferred Payment Method</th>\n",
       "      <th>Frequency of Purchases</th>\n",
       "    </tr>\n",
       "  </thead>\n",
       "  <tbody>\n",
       "    <tr>\n",
       "      <th>0</th>\n",
       "      <td>1</td>\n",
       "      <td>55</td>\n",
       "      <td>Male</td>\n",
       "      <td>Blouse</td>\n",
       "      <td>Clothing</td>\n",
       "      <td>53</td>\n",
       "      <td>Kentucky</td>\n",
       "      <td>L</td>\n",
       "      <td>Gray</td>\n",
       "      <td>Winter</td>\n",
       "      <td>3.1</td>\n",
       "      <td>Yes</td>\n",
       "      <td>Credit Card</td>\n",
       "      <td>Express</td>\n",
       "      <td>Yes</td>\n",
       "      <td>Yes</td>\n",
       "      <td>14</td>\n",
       "      <td>Venmo</td>\n",
       "      <td>Fortnightly</td>\n",
       "    </tr>\n",
       "    <tr>\n",
       "      <th>1</th>\n",
       "      <td>2</td>\n",
       "      <td>19</td>\n",
       "      <td>Male</td>\n",
       "      <td>Sweater</td>\n",
       "      <td>Clothing</td>\n",
       "      <td>64</td>\n",
       "      <td>Maine</td>\n",
       "      <td>L</td>\n",
       "      <td>Maroon</td>\n",
       "      <td>Winter</td>\n",
       "      <td>3.1</td>\n",
       "      <td>Yes</td>\n",
       "      <td>Bank Transfer</td>\n",
       "      <td>Express</td>\n",
       "      <td>Yes</td>\n",
       "      <td>Yes</td>\n",
       "      <td>2</td>\n",
       "      <td>Cash</td>\n",
       "      <td>Fortnightly</td>\n",
       "    </tr>\n",
       "    <tr>\n",
       "      <th>2</th>\n",
       "      <td>3</td>\n",
       "      <td>50</td>\n",
       "      <td>Male</td>\n",
       "      <td>Jeans</td>\n",
       "      <td>Clothing</td>\n",
       "      <td>73</td>\n",
       "      <td>Massachusetts</td>\n",
       "      <td>S</td>\n",
       "      <td>Maroon</td>\n",
       "      <td>Spring</td>\n",
       "      <td>3.1</td>\n",
       "      <td>Yes</td>\n",
       "      <td>Cash</td>\n",
       "      <td>Free Shipping</td>\n",
       "      <td>Yes</td>\n",
       "      <td>Yes</td>\n",
       "      <td>23</td>\n",
       "      <td>Credit Card</td>\n",
       "      <td>Weekly</td>\n",
       "    </tr>\n",
       "    <tr>\n",
       "      <th>3</th>\n",
       "      <td>4</td>\n",
       "      <td>21</td>\n",
       "      <td>Male</td>\n",
       "      <td>Sandals</td>\n",
       "      <td>Footwear</td>\n",
       "      <td>90</td>\n",
       "      <td>Rhode Island</td>\n",
       "      <td>M</td>\n",
       "      <td>Maroon</td>\n",
       "      <td>Spring</td>\n",
       "      <td>3.5</td>\n",
       "      <td>Yes</td>\n",
       "      <td>PayPal</td>\n",
       "      <td>Next Day Air</td>\n",
       "      <td>Yes</td>\n",
       "      <td>Yes</td>\n",
       "      <td>49</td>\n",
       "      <td>PayPal</td>\n",
       "      <td>Weekly</td>\n",
       "    </tr>\n",
       "    <tr>\n",
       "      <th>4</th>\n",
       "      <td>5</td>\n",
       "      <td>45</td>\n",
       "      <td>Male</td>\n",
       "      <td>Blouse</td>\n",
       "      <td>Clothing</td>\n",
       "      <td>49</td>\n",
       "      <td>Oregon</td>\n",
       "      <td>M</td>\n",
       "      <td>Turquoise</td>\n",
       "      <td>Spring</td>\n",
       "      <td>2.7</td>\n",
       "      <td>Yes</td>\n",
       "      <td>Cash</td>\n",
       "      <td>Free Shipping</td>\n",
       "      <td>Yes</td>\n",
       "      <td>Yes</td>\n",
       "      <td>31</td>\n",
       "      <td>PayPal</td>\n",
       "      <td>Annually</td>\n",
       "    </tr>\n",
       "  </tbody>\n",
       "</table>\n",
       "</div>"
      ],
      "text/plain": [
       "   Customer ID  Age Gender Item Purchased  Category  Purchase Amount (USD)  \\\n",
       "0            1   55   Male         Blouse  Clothing                     53   \n",
       "1            2   19   Male        Sweater  Clothing                     64   \n",
       "2            3   50   Male          Jeans  Clothing                     73   \n",
       "3            4   21   Male        Sandals  Footwear                     90   \n",
       "4            5   45   Male         Blouse  Clothing                     49   \n",
       "\n",
       "        Location Size      Color  Season  Review Rating Subscription Status  \\\n",
       "0       Kentucky    L       Gray  Winter            3.1                 Yes   \n",
       "1          Maine    L     Maroon  Winter            3.1                 Yes   \n",
       "2  Massachusetts    S     Maroon  Spring            3.1                 Yes   \n",
       "3   Rhode Island    M     Maroon  Spring            3.5                 Yes   \n",
       "4         Oregon    M  Turquoise  Spring            2.7                 Yes   \n",
       "\n",
       "  Payment Method  Shipping Type Discount Applied Promo Code Used  \\\n",
       "0    Credit Card        Express              Yes             Yes   \n",
       "1  Bank Transfer        Express              Yes             Yes   \n",
       "2           Cash  Free Shipping              Yes             Yes   \n",
       "3         PayPal   Next Day Air              Yes             Yes   \n",
       "4           Cash  Free Shipping              Yes             Yes   \n",
       "\n",
       "   Previous Purchases Preferred Payment Method Frequency of Purchases  \n",
       "0                  14                    Venmo            Fortnightly  \n",
       "1                   2                     Cash            Fortnightly  \n",
       "2                  23              Credit Card                 Weekly  \n",
       "3                  49                   PayPal                 Weekly  \n",
       "4                  31                   PayPal               Annually  "
      ]
     },
     "execution_count": 4,
     "metadata": {},
     "output_type": "execute_result"
    }
   ],
   "source": [
    "shopping_trends.head()"
   ]
  },
  {
   "cell_type": "code",
   "execution_count": 5,
   "metadata": {},
   "outputs": [],
   "source": [
    "# Изменяю название колонок на рабочие.\n",
    "shopping_trends.rename(columns=lambda x:x.replace(' ', '_'), inplace=True)\n",
    "shopping_trends = shopping_trends.rename(columns={'Purchase_Amount_(USD)':'Purchase_Amount_USD'})"
   ]
  },
  {
   "cell_type": "code",
   "execution_count": 6,
   "metadata": {},
   "outputs": [
    {
     "data": {
      "text/html": [
       "<div>\n",
       "<style scoped>\n",
       "    .dataframe tbody tr th:only-of-type {\n",
       "        vertical-align: middle;\n",
       "    }\n",
       "\n",
       "    .dataframe tbody tr th {\n",
       "        vertical-align: top;\n",
       "    }\n",
       "\n",
       "    .dataframe thead th {\n",
       "        text-align: right;\n",
       "    }\n",
       "</style>\n",
       "<table border=\"1\" class=\"dataframe\">\n",
       "  <thead>\n",
       "    <tr style=\"text-align: right;\">\n",
       "      <th></th>\n",
       "      <th>Customer_ID</th>\n",
       "      <th>Age</th>\n",
       "      <th>Gender</th>\n",
       "      <th>Item_Purchased</th>\n",
       "      <th>Category</th>\n",
       "      <th>Purchase_Amount_USD</th>\n",
       "      <th>Location</th>\n",
       "      <th>Size</th>\n",
       "      <th>Color</th>\n",
       "      <th>Season</th>\n",
       "      <th>Review_Rating</th>\n",
       "      <th>Subscription_Status</th>\n",
       "      <th>Payment_Method</th>\n",
       "      <th>Shipping_Type</th>\n",
       "      <th>Discount_Applied</th>\n",
       "      <th>Promo_Code_Used</th>\n",
       "      <th>Previous_Purchases</th>\n",
       "      <th>Preferred_Payment_Method</th>\n",
       "      <th>Frequency_of_Purchases</th>\n",
       "    </tr>\n",
       "  </thead>\n",
       "  <tbody>\n",
       "    <tr>\n",
       "      <th>0</th>\n",
       "      <td>1</td>\n",
       "      <td>55</td>\n",
       "      <td>Male</td>\n",
       "      <td>Blouse</td>\n",
       "      <td>Clothing</td>\n",
       "      <td>53</td>\n",
       "      <td>Kentucky</td>\n",
       "      <td>L</td>\n",
       "      <td>Gray</td>\n",
       "      <td>Winter</td>\n",
       "      <td>3.1</td>\n",
       "      <td>Yes</td>\n",
       "      <td>Credit Card</td>\n",
       "      <td>Express</td>\n",
       "      <td>Yes</td>\n",
       "      <td>Yes</td>\n",
       "      <td>14</td>\n",
       "      <td>Venmo</td>\n",
       "      <td>Fortnightly</td>\n",
       "    </tr>\n",
       "    <tr>\n",
       "      <th>1</th>\n",
       "      <td>2</td>\n",
       "      <td>19</td>\n",
       "      <td>Male</td>\n",
       "      <td>Sweater</td>\n",
       "      <td>Clothing</td>\n",
       "      <td>64</td>\n",
       "      <td>Maine</td>\n",
       "      <td>L</td>\n",
       "      <td>Maroon</td>\n",
       "      <td>Winter</td>\n",
       "      <td>3.1</td>\n",
       "      <td>Yes</td>\n",
       "      <td>Bank Transfer</td>\n",
       "      <td>Express</td>\n",
       "      <td>Yes</td>\n",
       "      <td>Yes</td>\n",
       "      <td>2</td>\n",
       "      <td>Cash</td>\n",
       "      <td>Fortnightly</td>\n",
       "    </tr>\n",
       "    <tr>\n",
       "      <th>2</th>\n",
       "      <td>3</td>\n",
       "      <td>50</td>\n",
       "      <td>Male</td>\n",
       "      <td>Jeans</td>\n",
       "      <td>Clothing</td>\n",
       "      <td>73</td>\n",
       "      <td>Massachusetts</td>\n",
       "      <td>S</td>\n",
       "      <td>Maroon</td>\n",
       "      <td>Spring</td>\n",
       "      <td>3.1</td>\n",
       "      <td>Yes</td>\n",
       "      <td>Cash</td>\n",
       "      <td>Free Shipping</td>\n",
       "      <td>Yes</td>\n",
       "      <td>Yes</td>\n",
       "      <td>23</td>\n",
       "      <td>Credit Card</td>\n",
       "      <td>Weekly</td>\n",
       "    </tr>\n",
       "    <tr>\n",
       "      <th>3</th>\n",
       "      <td>4</td>\n",
       "      <td>21</td>\n",
       "      <td>Male</td>\n",
       "      <td>Sandals</td>\n",
       "      <td>Footwear</td>\n",
       "      <td>90</td>\n",
       "      <td>Rhode Island</td>\n",
       "      <td>M</td>\n",
       "      <td>Maroon</td>\n",
       "      <td>Spring</td>\n",
       "      <td>3.5</td>\n",
       "      <td>Yes</td>\n",
       "      <td>PayPal</td>\n",
       "      <td>Next Day Air</td>\n",
       "      <td>Yes</td>\n",
       "      <td>Yes</td>\n",
       "      <td>49</td>\n",
       "      <td>PayPal</td>\n",
       "      <td>Weekly</td>\n",
       "    </tr>\n",
       "    <tr>\n",
       "      <th>4</th>\n",
       "      <td>5</td>\n",
       "      <td>45</td>\n",
       "      <td>Male</td>\n",
       "      <td>Blouse</td>\n",
       "      <td>Clothing</td>\n",
       "      <td>49</td>\n",
       "      <td>Oregon</td>\n",
       "      <td>M</td>\n",
       "      <td>Turquoise</td>\n",
       "      <td>Spring</td>\n",
       "      <td>2.7</td>\n",
       "      <td>Yes</td>\n",
       "      <td>Cash</td>\n",
       "      <td>Free Shipping</td>\n",
       "      <td>Yes</td>\n",
       "      <td>Yes</td>\n",
       "      <td>31</td>\n",
       "      <td>PayPal</td>\n",
       "      <td>Annually</td>\n",
       "    </tr>\n",
       "  </tbody>\n",
       "</table>\n",
       "</div>"
      ],
      "text/plain": [
       "   Customer_ID  Age Gender Item_Purchased  Category  Purchase_Amount_USD  \\\n",
       "0            1   55   Male         Blouse  Clothing                   53   \n",
       "1            2   19   Male        Sweater  Clothing                   64   \n",
       "2            3   50   Male          Jeans  Clothing                   73   \n",
       "3            4   21   Male        Sandals  Footwear                   90   \n",
       "4            5   45   Male         Blouse  Clothing                   49   \n",
       "\n",
       "        Location Size      Color  Season  Review_Rating Subscription_Status  \\\n",
       "0       Kentucky    L       Gray  Winter            3.1                 Yes   \n",
       "1          Maine    L     Maroon  Winter            3.1                 Yes   \n",
       "2  Massachusetts    S     Maroon  Spring            3.1                 Yes   \n",
       "3   Rhode Island    M     Maroon  Spring            3.5                 Yes   \n",
       "4         Oregon    M  Turquoise  Spring            2.7                 Yes   \n",
       "\n",
       "  Payment_Method  Shipping_Type Discount_Applied Promo_Code_Used  \\\n",
       "0    Credit Card        Express              Yes             Yes   \n",
       "1  Bank Transfer        Express              Yes             Yes   \n",
       "2           Cash  Free Shipping              Yes             Yes   \n",
       "3         PayPal   Next Day Air              Yes             Yes   \n",
       "4           Cash  Free Shipping              Yes             Yes   \n",
       "\n",
       "   Previous_Purchases Preferred_Payment_Method Frequency_of_Purchases  \n",
       "0                  14                    Venmo            Fortnightly  \n",
       "1                   2                     Cash            Fortnightly  \n",
       "2                  23              Credit Card                 Weekly  \n",
       "3                  49                   PayPal                 Weekly  \n",
       "4                  31                   PayPal               Annually  "
      ]
     },
     "execution_count": 6,
     "metadata": {},
     "output_type": "execute_result"
    }
   ],
   "source": [
    "shopping_trends.head()"
   ]
  },
  {
   "cell_type": "code",
   "execution_count": 7,
   "metadata": {},
   "outputs": [],
   "source": [
    "# Создаю колонку All_Purchases со значениями общего количества покупок у пользователя, включая текущею.\n",
    "shopping_trends['All_Purchases'] = shopping_trends.Previous_Purchases + 1"
   ]
  },
  {
   "cell_type": "code",
   "execution_count": 8,
   "metadata": {},
   "outputs": [
    {
     "data": {
      "text/html": [
       "<div>\n",
       "<style scoped>\n",
       "    .dataframe tbody tr th:only-of-type {\n",
       "        vertical-align: middle;\n",
       "    }\n",
       "\n",
       "    .dataframe tbody tr th {\n",
       "        vertical-align: top;\n",
       "    }\n",
       "\n",
       "    .dataframe thead th {\n",
       "        text-align: right;\n",
       "    }\n",
       "</style>\n",
       "<table border=\"1\" class=\"dataframe\">\n",
       "  <thead>\n",
       "    <tr style=\"text-align: right;\">\n",
       "      <th></th>\n",
       "      <th>Customer_ID</th>\n",
       "      <th>Age</th>\n",
       "      <th>Gender</th>\n",
       "      <th>Item_Purchased</th>\n",
       "      <th>Category</th>\n",
       "      <th>Purchase_Amount_USD</th>\n",
       "      <th>Location</th>\n",
       "      <th>Size</th>\n",
       "      <th>Color</th>\n",
       "      <th>Season</th>\n",
       "      <th>Review_Rating</th>\n",
       "      <th>Subscription_Status</th>\n",
       "      <th>Payment_Method</th>\n",
       "      <th>Shipping_Type</th>\n",
       "      <th>Discount_Applied</th>\n",
       "      <th>Promo_Code_Used</th>\n",
       "      <th>Previous_Purchases</th>\n",
       "      <th>Preferred_Payment_Method</th>\n",
       "      <th>Frequency_of_Purchases</th>\n",
       "      <th>All_Purchases</th>\n",
       "    </tr>\n",
       "  </thead>\n",
       "  <tbody>\n",
       "    <tr>\n",
       "      <th>0</th>\n",
       "      <td>1</td>\n",
       "      <td>55</td>\n",
       "      <td>Male</td>\n",
       "      <td>Blouse</td>\n",
       "      <td>Clothing</td>\n",
       "      <td>53</td>\n",
       "      <td>Kentucky</td>\n",
       "      <td>L</td>\n",
       "      <td>Gray</td>\n",
       "      <td>Winter</td>\n",
       "      <td>3.1</td>\n",
       "      <td>Yes</td>\n",
       "      <td>Credit Card</td>\n",
       "      <td>Express</td>\n",
       "      <td>Yes</td>\n",
       "      <td>Yes</td>\n",
       "      <td>14</td>\n",
       "      <td>Venmo</td>\n",
       "      <td>Fortnightly</td>\n",
       "      <td>15</td>\n",
       "    </tr>\n",
       "    <tr>\n",
       "      <th>1</th>\n",
       "      <td>2</td>\n",
       "      <td>19</td>\n",
       "      <td>Male</td>\n",
       "      <td>Sweater</td>\n",
       "      <td>Clothing</td>\n",
       "      <td>64</td>\n",
       "      <td>Maine</td>\n",
       "      <td>L</td>\n",
       "      <td>Maroon</td>\n",
       "      <td>Winter</td>\n",
       "      <td>3.1</td>\n",
       "      <td>Yes</td>\n",
       "      <td>Bank Transfer</td>\n",
       "      <td>Express</td>\n",
       "      <td>Yes</td>\n",
       "      <td>Yes</td>\n",
       "      <td>2</td>\n",
       "      <td>Cash</td>\n",
       "      <td>Fortnightly</td>\n",
       "      <td>3</td>\n",
       "    </tr>\n",
       "    <tr>\n",
       "      <th>2</th>\n",
       "      <td>3</td>\n",
       "      <td>50</td>\n",
       "      <td>Male</td>\n",
       "      <td>Jeans</td>\n",
       "      <td>Clothing</td>\n",
       "      <td>73</td>\n",
       "      <td>Massachusetts</td>\n",
       "      <td>S</td>\n",
       "      <td>Maroon</td>\n",
       "      <td>Spring</td>\n",
       "      <td>3.1</td>\n",
       "      <td>Yes</td>\n",
       "      <td>Cash</td>\n",
       "      <td>Free Shipping</td>\n",
       "      <td>Yes</td>\n",
       "      <td>Yes</td>\n",
       "      <td>23</td>\n",
       "      <td>Credit Card</td>\n",
       "      <td>Weekly</td>\n",
       "      <td>24</td>\n",
       "    </tr>\n",
       "    <tr>\n",
       "      <th>3</th>\n",
       "      <td>4</td>\n",
       "      <td>21</td>\n",
       "      <td>Male</td>\n",
       "      <td>Sandals</td>\n",
       "      <td>Footwear</td>\n",
       "      <td>90</td>\n",
       "      <td>Rhode Island</td>\n",
       "      <td>M</td>\n",
       "      <td>Maroon</td>\n",
       "      <td>Spring</td>\n",
       "      <td>3.5</td>\n",
       "      <td>Yes</td>\n",
       "      <td>PayPal</td>\n",
       "      <td>Next Day Air</td>\n",
       "      <td>Yes</td>\n",
       "      <td>Yes</td>\n",
       "      <td>49</td>\n",
       "      <td>PayPal</td>\n",
       "      <td>Weekly</td>\n",
       "      <td>50</td>\n",
       "    </tr>\n",
       "    <tr>\n",
       "      <th>4</th>\n",
       "      <td>5</td>\n",
       "      <td>45</td>\n",
       "      <td>Male</td>\n",
       "      <td>Blouse</td>\n",
       "      <td>Clothing</td>\n",
       "      <td>49</td>\n",
       "      <td>Oregon</td>\n",
       "      <td>M</td>\n",
       "      <td>Turquoise</td>\n",
       "      <td>Spring</td>\n",
       "      <td>2.7</td>\n",
       "      <td>Yes</td>\n",
       "      <td>Cash</td>\n",
       "      <td>Free Shipping</td>\n",
       "      <td>Yes</td>\n",
       "      <td>Yes</td>\n",
       "      <td>31</td>\n",
       "      <td>PayPal</td>\n",
       "      <td>Annually</td>\n",
       "      <td>32</td>\n",
       "    </tr>\n",
       "  </tbody>\n",
       "</table>\n",
       "</div>"
      ],
      "text/plain": [
       "   Customer_ID  Age Gender Item_Purchased  Category  Purchase_Amount_USD  \\\n",
       "0            1   55   Male         Blouse  Clothing                   53   \n",
       "1            2   19   Male        Sweater  Clothing                   64   \n",
       "2            3   50   Male          Jeans  Clothing                   73   \n",
       "3            4   21   Male        Sandals  Footwear                   90   \n",
       "4            5   45   Male         Blouse  Clothing                   49   \n",
       "\n",
       "        Location Size      Color  Season  Review_Rating Subscription_Status  \\\n",
       "0       Kentucky    L       Gray  Winter            3.1                 Yes   \n",
       "1          Maine    L     Maroon  Winter            3.1                 Yes   \n",
       "2  Massachusetts    S     Maroon  Spring            3.1                 Yes   \n",
       "3   Rhode Island    M     Maroon  Spring            3.5                 Yes   \n",
       "4         Oregon    M  Turquoise  Spring            2.7                 Yes   \n",
       "\n",
       "  Payment_Method  Shipping_Type Discount_Applied Promo_Code_Used  \\\n",
       "0    Credit Card        Express              Yes             Yes   \n",
       "1  Bank Transfer        Express              Yes             Yes   \n",
       "2           Cash  Free Shipping              Yes             Yes   \n",
       "3         PayPal   Next Day Air              Yes             Yes   \n",
       "4           Cash  Free Shipping              Yes             Yes   \n",
       "\n",
       "   Previous_Purchases Preferred_Payment_Method Frequency_of_Purchases  \\\n",
       "0                  14                    Venmo            Fortnightly   \n",
       "1                   2                     Cash            Fortnightly   \n",
       "2                  23              Credit Card                 Weekly   \n",
       "3                  49                   PayPal                 Weekly   \n",
       "4                  31                   PayPal               Annually   \n",
       "\n",
       "   All_Purchases  \n",
       "0             15  \n",
       "1              3  \n",
       "2             24  \n",
       "3             50  \n",
       "4             32  "
      ]
     },
     "execution_count": 8,
     "metadata": {},
     "output_type": "execute_result"
    }
   ],
   "source": [
    "shopping_trends.head()"
   ]
  },
  {
   "cell_type": "code",
   "execution_count": 9,
   "metadata": {},
   "outputs": [
    {
     "data": {
      "text/plain": [
       "(3900, 20)"
      ]
     },
     "execution_count": 9,
     "metadata": {},
     "output_type": "execute_result"
    }
   ],
   "source": [
    "# Размеры таблицы.\n",
    "shopping_trends.shape"
   ]
  },
  {
   "cell_type": "code",
   "execution_count": 10,
   "metadata": {},
   "outputs": [
    {
     "data": {
      "text/plain": [
       "Customer_ID                 0\n",
       "Age                         0\n",
       "Gender                      0\n",
       "Item_Purchased              0\n",
       "Category                    0\n",
       "Purchase_Amount_USD         0\n",
       "Location                    0\n",
       "Size                        0\n",
       "Color                       0\n",
       "Season                      0\n",
       "Review_Rating               0\n",
       "Subscription_Status         0\n",
       "Payment_Method              0\n",
       "Shipping_Type               0\n",
       "Discount_Applied            0\n",
       "Promo_Code_Used             0\n",
       "Previous_Purchases          0\n",
       "Preferred_Payment_Method    0\n",
       "Frequency_of_Purchases      0\n",
       "All_Purchases               0\n",
       "dtype: int64"
      ]
     },
     "execution_count": 10,
     "metadata": {},
     "output_type": "execute_result"
    }
   ],
   "source": [
    "# Кол-во пропущенных значений.\n",
    "shopping_trends.isna().sum()"
   ]
  },
  {
   "cell_type": "code",
   "execution_count": 11,
   "metadata": {},
   "outputs": [
    {
     "data": {
      "text/plain": [
       "Customer_ID                 3900\n",
       "Age                           53\n",
       "Gender                         2\n",
       "Item_Purchased                25\n",
       "Category                       4\n",
       "Purchase_Amount_USD           81\n",
       "Location                      50\n",
       "Size                           4\n",
       "Color                         25\n",
       "Season                         4\n",
       "Review_Rating                 26\n",
       "Subscription_Status            2\n",
       "Payment_Method                 6\n",
       "Shipping_Type                  6\n",
       "Discount_Applied               2\n",
       "Promo_Code_Used                2\n",
       "Previous_Purchases            50\n",
       "Preferred_Payment_Method       6\n",
       "Frequency_of_Purchases         7\n",
       "All_Purchases                 50\n",
       "dtype: int64"
      ]
     },
     "execution_count": 11,
     "metadata": {},
     "output_type": "execute_result"
    }
   ],
   "source": [
    "# Кол-во уникальных элементов.\n",
    "shopping_trends.nunique()"
   ]
  },
  {
   "cell_type": "code",
   "execution_count": 12,
   "metadata": {},
   "outputs": [
    {
     "name": "stdout",
     "output_type": "stream",
     "text": [
      "<class 'pandas.core.frame.DataFrame'>\n",
      "RangeIndex: 3900 entries, 0 to 3899\n",
      "Data columns (total 20 columns):\n",
      " #   Column                    Non-Null Count  Dtype  \n",
      "---  ------                    --------------  -----  \n",
      " 0   Customer_ID               3900 non-null   int64  \n",
      " 1   Age                       3900 non-null   int64  \n",
      " 2   Gender                    3900 non-null   object \n",
      " 3   Item_Purchased            3900 non-null   object \n",
      " 4   Category                  3900 non-null   object \n",
      " 5   Purchase_Amount_USD       3900 non-null   int64  \n",
      " 6   Location                  3900 non-null   object \n",
      " 7   Size                      3900 non-null   object \n",
      " 8   Color                     3900 non-null   object \n",
      " 9   Season                    3900 non-null   object \n",
      " 10  Review_Rating             3900 non-null   float64\n",
      " 11  Subscription_Status       3900 non-null   object \n",
      " 12  Payment_Method            3900 non-null   object \n",
      " 13  Shipping_Type             3900 non-null   object \n",
      " 14  Discount_Applied          3900 non-null   object \n",
      " 15  Promo_Code_Used           3900 non-null   object \n",
      " 16  Previous_Purchases        3900 non-null   int64  \n",
      " 17  Preferred_Payment_Method  3900 non-null   object \n",
      " 18  Frequency_of_Purchases    3900 non-null   object \n",
      " 19  All_Purchases             3900 non-null   int64  \n",
      "dtypes: float64(1), int64(5), object(14)\n",
      "memory usage: 609.5+ KB\n"
     ]
    }
   ],
   "source": [
    "# Типы колонок таблицы.\n",
    "shopping_trends.info()"
   ]
  },
  {
   "cell_type": "code",
   "execution_count": 13,
   "metadata": {},
   "outputs": [
    {
     "data": {
      "text/html": [
       "<div>\n",
       "<style scoped>\n",
       "    .dataframe tbody tr th:only-of-type {\n",
       "        vertical-align: middle;\n",
       "    }\n",
       "\n",
       "    .dataframe tbody tr th {\n",
       "        vertical-align: top;\n",
       "    }\n",
       "\n",
       "    .dataframe thead th {\n",
       "        text-align: right;\n",
       "    }\n",
       "</style>\n",
       "<table border=\"1\" class=\"dataframe\">\n",
       "  <thead>\n",
       "    <tr style=\"text-align: right;\">\n",
       "      <th></th>\n",
       "      <th>Customer_ID</th>\n",
       "      <th>Age</th>\n",
       "      <th>Purchase_Amount_USD</th>\n",
       "      <th>Review_Rating</th>\n",
       "      <th>Previous_Purchases</th>\n",
       "      <th>All_Purchases</th>\n",
       "    </tr>\n",
       "  </thead>\n",
       "  <tbody>\n",
       "    <tr>\n",
       "      <th>count</th>\n",
       "      <td>3900.000000</td>\n",
       "      <td>3900.000000</td>\n",
       "      <td>3900.000000</td>\n",
       "      <td>3900.000000</td>\n",
       "      <td>3900.000000</td>\n",
       "      <td>3900.000000</td>\n",
       "    </tr>\n",
       "    <tr>\n",
       "      <th>mean</th>\n",
       "      <td>1950.500000</td>\n",
       "      <td>44.068462</td>\n",
       "      <td>59.764359</td>\n",
       "      <td>3.749949</td>\n",
       "      <td>25.351538</td>\n",
       "      <td>26.351538</td>\n",
       "    </tr>\n",
       "    <tr>\n",
       "      <th>std</th>\n",
       "      <td>1125.977353</td>\n",
       "      <td>15.207589</td>\n",
       "      <td>23.685392</td>\n",
       "      <td>0.716223</td>\n",
       "      <td>14.447125</td>\n",
       "      <td>14.447125</td>\n",
       "    </tr>\n",
       "    <tr>\n",
       "      <th>min</th>\n",
       "      <td>1.000000</td>\n",
       "      <td>18.000000</td>\n",
       "      <td>20.000000</td>\n",
       "      <td>2.500000</td>\n",
       "      <td>1.000000</td>\n",
       "      <td>2.000000</td>\n",
       "    </tr>\n",
       "    <tr>\n",
       "      <th>25%</th>\n",
       "      <td>975.750000</td>\n",
       "      <td>31.000000</td>\n",
       "      <td>39.000000</td>\n",
       "      <td>3.100000</td>\n",
       "      <td>13.000000</td>\n",
       "      <td>14.000000</td>\n",
       "    </tr>\n",
       "    <tr>\n",
       "      <th>50%</th>\n",
       "      <td>1950.500000</td>\n",
       "      <td>44.000000</td>\n",
       "      <td>60.000000</td>\n",
       "      <td>3.700000</td>\n",
       "      <td>25.000000</td>\n",
       "      <td>26.000000</td>\n",
       "    </tr>\n",
       "    <tr>\n",
       "      <th>75%</th>\n",
       "      <td>2925.250000</td>\n",
       "      <td>57.000000</td>\n",
       "      <td>81.000000</td>\n",
       "      <td>4.400000</td>\n",
       "      <td>38.000000</td>\n",
       "      <td>39.000000</td>\n",
       "    </tr>\n",
       "    <tr>\n",
       "      <th>max</th>\n",
       "      <td>3900.000000</td>\n",
       "      <td>70.000000</td>\n",
       "      <td>100.000000</td>\n",
       "      <td>5.000000</td>\n",
       "      <td>50.000000</td>\n",
       "      <td>51.000000</td>\n",
       "    </tr>\n",
       "  </tbody>\n",
       "</table>\n",
       "</div>"
      ],
      "text/plain": [
       "       Customer_ID          Age  Purchase_Amount_USD  Review_Rating  \\\n",
       "count  3900.000000  3900.000000          3900.000000    3900.000000   \n",
       "mean   1950.500000    44.068462            59.764359       3.749949   \n",
       "std    1125.977353    15.207589            23.685392       0.716223   \n",
       "min       1.000000    18.000000            20.000000       2.500000   \n",
       "25%     975.750000    31.000000            39.000000       3.100000   \n",
       "50%    1950.500000    44.000000            60.000000       3.700000   \n",
       "75%    2925.250000    57.000000            81.000000       4.400000   \n",
       "max    3900.000000    70.000000           100.000000       5.000000   \n",
       "\n",
       "       Previous_Purchases  All_Purchases  \n",
       "count         3900.000000    3900.000000  \n",
       "mean            25.351538      26.351538  \n",
       "std             14.447125      14.447125  \n",
       "min              1.000000       2.000000  \n",
       "25%             13.000000      14.000000  \n",
       "50%             25.000000      26.000000  \n",
       "75%             38.000000      39.000000  \n",
       "max             50.000000      51.000000  "
      ]
     },
     "execution_count": 13,
     "metadata": {},
     "output_type": "execute_result"
    }
   ],
   "source": [
    "# Описание числовых колонок.\n",
    "shopping_trends.describe()"
   ]
  },
  {
   "cell_type": "code",
   "execution_count": 14,
   "metadata": {},
   "outputs": [
    {
     "data": {
      "text/html": [
       "<div>\n",
       "<style scoped>\n",
       "    .dataframe tbody tr th:only-of-type {\n",
       "        vertical-align: middle;\n",
       "    }\n",
       "\n",
       "    .dataframe tbody tr th {\n",
       "        vertical-align: top;\n",
       "    }\n",
       "\n",
       "    .dataframe thead th {\n",
       "        text-align: right;\n",
       "    }\n",
       "</style>\n",
       "<table border=\"1\" class=\"dataframe\">\n",
       "  <thead>\n",
       "    <tr style=\"text-align: right;\">\n",
       "      <th></th>\n",
       "      <th>Gender</th>\n",
       "      <th>Item_Purchased</th>\n",
       "      <th>Category</th>\n",
       "      <th>Location</th>\n",
       "      <th>Size</th>\n",
       "      <th>Color</th>\n",
       "      <th>Season</th>\n",
       "      <th>Subscription_Status</th>\n",
       "      <th>Payment_Method</th>\n",
       "      <th>Shipping_Type</th>\n",
       "      <th>Discount_Applied</th>\n",
       "      <th>Promo_Code_Used</th>\n",
       "      <th>Preferred_Payment_Method</th>\n",
       "      <th>Frequency_of_Purchases</th>\n",
       "    </tr>\n",
       "  </thead>\n",
       "  <tbody>\n",
       "    <tr>\n",
       "      <th>count</th>\n",
       "      <td>3900</td>\n",
       "      <td>3900</td>\n",
       "      <td>3900</td>\n",
       "      <td>3900</td>\n",
       "      <td>3900</td>\n",
       "      <td>3900</td>\n",
       "      <td>3900</td>\n",
       "      <td>3900</td>\n",
       "      <td>3900</td>\n",
       "      <td>3900</td>\n",
       "      <td>3900</td>\n",
       "      <td>3900</td>\n",
       "      <td>3900</td>\n",
       "      <td>3900</td>\n",
       "    </tr>\n",
       "    <tr>\n",
       "      <th>unique</th>\n",
       "      <td>2</td>\n",
       "      <td>25</td>\n",
       "      <td>4</td>\n",
       "      <td>50</td>\n",
       "      <td>4</td>\n",
       "      <td>25</td>\n",
       "      <td>4</td>\n",
       "      <td>2</td>\n",
       "      <td>6</td>\n",
       "      <td>6</td>\n",
       "      <td>2</td>\n",
       "      <td>2</td>\n",
       "      <td>6</td>\n",
       "      <td>7</td>\n",
       "    </tr>\n",
       "    <tr>\n",
       "      <th>top</th>\n",
       "      <td>Male</td>\n",
       "      <td>Blouse</td>\n",
       "      <td>Clothing</td>\n",
       "      <td>Montana</td>\n",
       "      <td>M</td>\n",
       "      <td>Olive</td>\n",
       "      <td>Spring</td>\n",
       "      <td>No</td>\n",
       "      <td>Credit Card</td>\n",
       "      <td>Free Shipping</td>\n",
       "      <td>No</td>\n",
       "      <td>No</td>\n",
       "      <td>PayPal</td>\n",
       "      <td>Every 3 Months</td>\n",
       "    </tr>\n",
       "    <tr>\n",
       "      <th>freq</th>\n",
       "      <td>2652</td>\n",
       "      <td>171</td>\n",
       "      <td>1737</td>\n",
       "      <td>96</td>\n",
       "      <td>1755</td>\n",
       "      <td>177</td>\n",
       "      <td>999</td>\n",
       "      <td>2847</td>\n",
       "      <td>696</td>\n",
       "      <td>675</td>\n",
       "      <td>2223</td>\n",
       "      <td>2223</td>\n",
       "      <td>677</td>\n",
       "      <td>584</td>\n",
       "    </tr>\n",
       "  </tbody>\n",
       "</table>\n",
       "</div>"
      ],
      "text/plain": [
       "       Gender Item_Purchased  Category Location  Size  Color  Season  \\\n",
       "count    3900           3900      3900     3900  3900   3900    3900   \n",
       "unique      2             25         4       50     4     25       4   \n",
       "top      Male         Blouse  Clothing  Montana     M  Olive  Spring   \n",
       "freq     2652            171      1737       96  1755    177     999   \n",
       "\n",
       "       Subscription_Status Payment_Method  Shipping_Type Discount_Applied  \\\n",
       "count                 3900           3900           3900             3900   \n",
       "unique                   2              6              6                2   \n",
       "top                     No    Credit Card  Free Shipping               No   \n",
       "freq                  2847            696            675             2223   \n",
       "\n",
       "       Promo_Code_Used Preferred_Payment_Method Frequency_of_Purchases  \n",
       "count             3900                     3900                   3900  \n",
       "unique               2                        6                      7  \n",
       "top                 No                   PayPal         Every 3 Months  \n",
       "freq              2223                      677                    584  "
      ]
     },
     "execution_count": 14,
     "metadata": {},
     "output_type": "execute_result"
    }
   ],
   "source": [
    "# Описание строковых колонок.\n",
    "shopping_trends.describe(include='object')"
   ]
  },
  {
   "cell_type": "code",
   "execution_count": null,
   "metadata": {},
   "outputs": [],
   "source": []
  },
  {
   "cell_type": "markdown",
   "metadata": {},
   "source": [
    "### 10 гипотез на проверку:\n",
    "1. Возраст клиента имеет влияние на количество покупок\n",
    "2. Пол пользователя влияет на сумму покупки\n",
    "3. Местоположение влияет на тип доставки\n",
    "4. Частота покупок влияет на статус подписки\n",
    "5. Сезон влияет на сумму покупки\n",
    "6. Предыдущие покупки влияют на частоту покупок\n",
    "7. Возраст пользователя влияет на местоположение\n",
    "8. Возраст влияет на способ оплаты\n",
    "9. Пол влияет на категорию купленного товара\n",
    "10. Статус подписки влияет на применённую скидку"
   ]
  },
  {
   "cell_type": "markdown",
   "metadata": {},
   "source": [
    "### 1) Возраст пользователя имеет влияние на количество покупок"
   ]
  },
  {
   "cell_type": "code",
   "execution_count": 15,
   "metadata": {},
   "outputs": [
    {
     "name": "stdout",
     "output_type": "stream",
     "text": [
      "Влияние возраста на количество покупок: \n",
      "Значение p-value: 0.01154\n"
     ]
    }
   ],
   "source": [
    "# Коррелирующие колонки типа int, использую коэффициент корреляции Пирсона:\n",
    "_, p_age_purchases = pearsonr(shopping_trends['Age'], shopping_trends['All_Purchases'])\n",
    "print(f\"Влияние возраста на количество покупок: \\nЗначение p-value: {p_age_purchases:.4}\")"
   ]
  },
  {
   "cell_type": "markdown",
   "metadata": {},
   "source": [
    "#### Значение p-value ниже заданного уровня значимости (0.05), значит мы можем отвергнуть нулевую гипотезу о том, что существует статистически значимая зависимость между возрастом пользователя и количеством покупок, в пользу альтернативной."
   ]
  },
  {
   "cell_type": "markdown",
   "metadata": {},
   "source": [
    "### 2) Пол пользователя влияет на сумму покупки"
   ]
  },
  {
   "cell_type": "code",
   "execution_count": 16,
   "metadata": {},
   "outputs": [],
   "source": [
    "# Создаю array-s male_purchase и female_purchase\n",
    "male_purchase = shopping_trends[shopping_trends['Gender'] == 'Male']['Purchase_Amount_USD']\n",
    "female_purchase = shopping_trends[shopping_trends['Gender'] == 'Female']['Purchase_Amount_USD']"
   ]
  },
  {
   "cell_type": "code",
   "execution_count": 17,
   "metadata": {},
   "outputs": [
    {
     "name": "stdout",
     "output_type": "stream",
     "text": [
      "Влияние пола на сумму покупки: \n",
      "Значение p-value: 0.3806\n"
     ]
    }
   ],
   "source": [
    "# Сравниваю array-s численого типа, используя T-тест:\n",
    "_, p_gender_purchase = ttest_ind(male_purchase, female_purchase)\n",
    "print(f\"Влияние пола на сумму покупки: \\nЗначение p-value: {p_gender_purchase:.4}\")"
   ]
  },
  {
   "cell_type": "markdown",
   "metadata": {},
   "source": [
    "#### Значение p-value выше заданного уровня значимости (0.05), значит мы не можем отвергнуть нулевую гипотезу о том, что существует статистически значимая зависимость между полом пользователя и суммой его покупок."
   ]
  },
  {
   "cell_type": "markdown",
   "metadata": {},
   "source": [
    "### 3) Местоположение пользователя влияет на тип доставки"
   ]
  },
  {
   "cell_type": "code",
   "execution_count": 18,
   "metadata": {},
   "outputs": [
    {
     "name": "stdout",
     "output_type": "stream",
     "text": [
      "Влияние местоположения на тип доставки: \n",
      "Значение p-value: 0.8808\n"
     ]
    }
   ],
   "source": [
    "# Колонки типа object, создаю таблицу сопряженности и использую Хи-квадрат:\n",
    "_, p_location_shipping, _, _ = chi2_contingency(pd.crosstab(shopping_trends['Location'], shopping_trends['Shipping_Type']))\n",
    "print(f\"Влияние местоположения на тип доставки: \\nЗначение p-value: {p_location_shipping:.4}\")"
   ]
  },
  {
   "cell_type": "markdown",
   "metadata": {},
   "source": [
    "#### Значение p-value выше заданного уровня значимости (0.05), значит мы не можем отвергнуть нулевую гипотезу о том, что существует статистически значимая зависимость между местоположением клиента и типом доставки."
   ]
  },
  {
   "cell_type": "markdown",
   "metadata": {},
   "source": [
    "### 4) Частота покупок влияет на статус подписки"
   ]
  },
  {
   "cell_type": "code",
   "execution_count": 19,
   "metadata": {},
   "outputs": [
    {
     "name": "stdout",
     "output_type": "stream",
     "text": [
      "Влияние частоты покупок на статус подписки: \n",
      "Значение p-value: 0.6909\n"
     ]
    }
   ],
   "source": [
    "# Колонки типа int и object, создаю таблицу сопряженности и использую Хи-квадрат:\n",
    "_, p_frequency_subscription, _, _ = chi2_contingency(pd.crosstab(shopping_trends['Frequency_of_Purchases'], shopping_trends['Subscription_Status']))\n",
    "print(f\"Влияние частоты покупок на статус подписки: \\nЗначение p-value: {p_frequency_subscription:.4}\")"
   ]
  },
  {
   "cell_type": "markdown",
   "metadata": {},
   "source": [
    "#### Значение p-value выше заданного уровня значимости (0.05), значит мы не можем отвергнуть нулевую гипотезу о том, что существует статистически значимая зависимость между частотой покупок и статусом подписки."
   ]
  },
  {
   "cell_type": "markdown",
   "metadata": {},
   "source": [
    "### 5) Сезон влияет на сумму покупки"
   ]
  },
  {
   "cell_type": "code",
   "execution_count": 20,
   "metadata": {},
   "outputs": [
    {
     "name": "stdout",
     "output_type": "stream",
     "text": [
      "Влияние сезона на сумму покупки: \n",
      "Значение p-value: 0.0244\n"
     ]
    }
   ],
   "source": [
    "# Колонки типа object и int, создаю таблицу сопряженности и использую Хи-квадрат:\n",
    "_, p_season_purchase, _, _ = chi2_contingency(pd.crosstab(shopping_trends['Season'], shopping_trends['Purchase_Amount_USD']))\n",
    "print(f\"Влияние сезона на сумму покупки: \\nЗначение p-value: {p_season_purchase:.4}\")"
   ]
  },
  {
   "cell_type": "markdown",
   "metadata": {},
   "source": [
    "#### Значение p-value ниже заданного уровня значимости (0.05), значит мы можем отвергнуть нулевую гипотезу о том, что существует статистически значимая зависимость между сезоном года и суммой покупок, в пользу альтернативной."
   ]
  },
  {
   "cell_type": "markdown",
   "metadata": {},
   "source": [
    "### 6) Предыдущие покупки влияют на частоту покупок"
   ]
  },
  {
   "cell_type": "code",
   "execution_count": 21,
   "metadata": {},
   "outputs": [
    {
     "name": "stdout",
     "output_type": "stream",
     "text": [
      "Влияние количества предыдущих покупкок на частоту покупок: \n",
      "Значение p-value: 0.431\n"
     ]
    }
   ],
   "source": [
    "# Колонки типа int и object, создаю таблицу сопряженности и использую Хи-квадрат:\n",
    "_, p_previous_frequency, _, _ = chi2_contingency(pd.crosstab(shopping_trends['Previous_Purchases'], shopping_trends['Frequency_of_Purchases']))\n",
    "print(f\"Влияние количества предыдущих покупкок на частоту покупок: \\nЗначение p-value: {p_previous_frequency:.4}\")"
   ]
  },
  {
   "cell_type": "markdown",
   "metadata": {},
   "source": [
    "#### Значение p-value выше заданного уровня значимости (0.05), значит мы не можем отвергнуть нулевую гипотезу о том, что существует статистически значимая зависимость между предыдущими покупками и частотой покупок."
   ]
  },
  {
   "cell_type": "markdown",
   "metadata": {},
   "source": [
    "### 7) Возраст пользователя влияет на местоположение"
   ]
  },
  {
   "cell_type": "code",
   "execution_count": 22,
   "metadata": {},
   "outputs": [
    {
     "name": "stdout",
     "output_type": "stream",
     "text": [
      "Влияние возраста на местоположение: \n",
      "Значение p-value: 0.8284\n"
     ]
    }
   ],
   "source": [
    "# Колонки типа int и object.\n",
    "# Разбиваю на промежутки колонку Age.\n",
    "# Создаю таблицу сопряженности и использую Хи-квадрат:\n",
    "_, p_age_location, _, _ = chi2_contingency(pd.crosstab(pd.cut(shopping_trends['Age'], bins=[0, 18, 35, 65]), shopping_trends['Location']))\n",
    "print(f\"Влияние возраста на местоположение: \\nЗначение p-value: {p_age_location:.4}\")"
   ]
  },
  {
   "cell_type": "markdown",
   "metadata": {},
   "source": [
    "#### Значение p-value выше заданного уровня значимости (0.05), значит мы не можем отвергнуть нулевую гипотезу о том, что существует статистически значимая зависимость между возрастом пользователя и его местоположением."
   ]
  },
  {
   "cell_type": "markdown",
   "metadata": {},
   "source": [
    "### 8) Возраст пользователя влияет на способ оплаты"
   ]
  },
  {
   "cell_type": "code",
   "execution_count": 23,
   "metadata": {},
   "outputs": [
    {
     "name": "stdout",
     "output_type": "stream",
     "text": [
      "Влияние возраста на способ оплаты: \n",
      "Значение p-value: 0.5964\n"
     ]
    }
   ],
   "source": [
    "# Колонки типа int и object.\n",
    "# Разбиваю на промежутки колонку Age.\n",
    "# Создаю таблицу сопряженности и использую Хи-квадрат:\n",
    "_, p_age_payment, _, _ = chi2_contingency(pd.crosstab(pd.cut(shopping_trends['Age'], bins=[0, 18, 35, 65]), shopping_trends['Payment_Method']))\n",
    "print(f\"Влияние возраста на способ оплаты: \\nЗначение p-value: {p_age_payment:.4}\")"
   ]
  },
  {
   "cell_type": "markdown",
   "metadata": {},
   "source": [
    "#### Значение p-value выше заданного уровня значимости (0.05), значит мы не можем отвергнуть нулевую гипотезу о том, что существует статистически значимая зависимость между возрастом пользователя и способом оплаты."
   ]
  },
  {
   "cell_type": "markdown",
   "metadata": {},
   "source": [
    "### 9) Пол пользователя влияет на категорию купленного товара"
   ]
  },
  {
   "cell_type": "code",
   "execution_count": 24,
   "metadata": {},
   "outputs": [
    {
     "name": "stdout",
     "output_type": "stream",
     "text": [
      "Влияние пола на категорию товара: \n",
      "Значение p-value: 0.8968\n"
     ]
    }
   ],
   "source": [
    "_, p_gender_category, _, _ = chi2_contingency(pd.crosstab(shopping_trends['Gender'], shopping_trends['Category']))\n",
    "print(f\"Влияние пола на категорию товара: \\nЗначение p-value: {p_gender_category:.4}\")"
   ]
  },
  {
   "cell_type": "markdown",
   "metadata": {},
   "source": [
    "#### Значение p-value выше заданного уровня значимости (0.05), значит мы не можем отвергнуть нулевую гипотезу о том, что существует статистически значимая зависимость между пол пользователя и категорией купленного товара."
   ]
  },
  {
   "cell_type": "markdown",
   "metadata": {},
   "source": [
    "### 10) Статус подписки влияет на применённую скидку"
   ]
  },
  {
   "cell_type": "code",
   "execution_count": 25,
   "metadata": {},
   "outputs": [
    {
     "name": "stdout",
     "output_type": "stream",
     "text": [
      "Влияние статуса подписки на применённую скидку: \n",
      "Значение p-value: 0.0\n"
     ]
    }
   ],
   "source": [
    "# Колонки типа object и object, создаю таблицу сопряженности и использую Хи-квадрат:\n",
    "_, p_subscription_discount, _, _ = chi2_contingency(pd.crosstab(shopping_trends['Subscription_Status'], shopping_trends['Discount_Applied']))\n",
    "print(f\"Влияние статуса подписки на применённую скидку: \\nЗначение p-value: {p_subscription_discount:.4}\")"
   ]
  },
  {
   "cell_type": "markdown",
   "metadata": {},
   "source": [
    "#### Значение p-value ниже заданного уровня значимости (0.05), значит мы можем отвергнуть нулевую гипотезу о том, что существует статистически значимая зависимость между статусом подписки и применённой скидкой, в пользу альтернативной."
   ]
  },
  {
   "cell_type": "code",
   "execution_count": null,
   "metadata": {},
   "outputs": [],
   "source": []
  },
  {
   "cell_type": "code",
   "execution_count": null,
   "metadata": {},
   "outputs": [],
   "source": []
  },
  {
   "cell_type": "markdown",
   "metadata": {},
   "source": [
    "<h2>Задание 1.2</h2>"
   ]
  },
  {
   "cell_type": "markdown",
   "metadata": {},
   "source": [
    "## 1) "
   ]
  },
  {
   "cell_type": "code",
   "execution_count": 26,
   "metadata": {},
   "outputs": [
    {
     "data": {
      "text/html": [
       "<div>\n",
       "<style scoped>\n",
       "    .dataframe tbody tr th:only-of-type {\n",
       "        vertical-align: middle;\n",
       "    }\n",
       "\n",
       "    .dataframe tbody tr th {\n",
       "        vertical-align: top;\n",
       "    }\n",
       "\n",
       "    .dataframe thead th {\n",
       "        text-align: right;\n",
       "    }\n",
       "</style>\n",
       "<table border=\"1\" class=\"dataframe\">\n",
       "  <thead>\n",
       "    <tr style=\"text-align: right;\">\n",
       "      <th></th>\n",
       "      <th>Item_Purchased</th>\n",
       "      <th>count</th>\n",
       "    </tr>\n",
       "  </thead>\n",
       "  <tbody>\n",
       "    <tr>\n",
       "      <th>0</th>\n",
       "      <td>Blouse</td>\n",
       "      <td>171</td>\n",
       "    </tr>\n",
       "    <tr>\n",
       "      <th>1</th>\n",
       "      <td>Pants</td>\n",
       "      <td>171</td>\n",
       "    </tr>\n",
       "    <tr>\n",
       "      <th>2</th>\n",
       "      <td>Jewelry</td>\n",
       "      <td>171</td>\n",
       "    </tr>\n",
       "    <tr>\n",
       "      <th>3</th>\n",
       "      <td>Shirt</td>\n",
       "      <td>169</td>\n",
       "    </tr>\n",
       "    <tr>\n",
       "      <th>4</th>\n",
       "      <td>Dress</td>\n",
       "      <td>166</td>\n",
       "    </tr>\n",
       "  </tbody>\n",
       "</table>\n",
       "</div>"
      ],
      "text/plain": [
       "  Item_Purchased  count\n",
       "0         Blouse    171\n",
       "1          Pants    171\n",
       "2        Jewelry    171\n",
       "3          Shirt    169\n",
       "4          Dress    166"
      ]
     },
     "execution_count": 26,
     "metadata": {},
     "output_type": "execute_result"
    }
   ],
   "source": [
    "# Нахожу количество покупок у каждого товара.\n",
    "number_orders_product = shopping_trends.Item_Purchased.value_counts().reset_index()\n",
    "number_orders_product.head()"
   ]
  },
  {
   "cell_type": "code",
   "execution_count": 27,
   "metadata": {},
   "outputs": [],
   "source": [
    "# Нахожу наибольшее число покупок среди товаров.\n",
    "max_count_purchases = number_orders_product['count'].max()"
   ]
  },
  {
   "cell_type": "code",
   "execution_count": 28,
   "metadata": {},
   "outputs": [],
   "source": [
    "# Нахожу продукты, которые продали наибольшее кол-во раз.\n",
    "max_number_orders_product = number_orders_product.query('count == @max_count_purchases')"
   ]
  },
  {
   "cell_type": "code",
   "execution_count": 29,
   "metadata": {},
   "outputs": [],
   "source": [
    "# Чтобы более красиво вывести названия товаров, использую ''.join.\n",
    "keys = ', '.join(max_number_orders_product['Item_Purchased'])"
   ]
  },
  {
   "cell_type": "code",
   "execution_count": 30,
   "metadata": {},
   "outputs": [
    {
     "name": "stdout",
     "output_type": "stream",
     "text": [
      "Максимальное количество заказов товара равно 171\n",
      "Самые популярные товары: Blouse, Pants, Jewelry\n"
     ]
    }
   ],
   "source": [
    "print(f'Максимальное количество заказов товара равно {max_count_purchases}')\n",
    "print(f'Самые популярные товары: {keys}')"
   ]
  },
  {
   "cell_type": "code",
   "execution_count": null,
   "metadata": {},
   "outputs": [],
   "source": []
  },
  {
   "cell_type": "code",
   "execution_count": null,
   "metadata": {},
   "outputs": [],
   "source": []
  },
  {
   "cell_type": "markdown",
   "metadata": {},
   "source": [
    "## 2)"
   ]
  },
  {
   "cell_type": "code",
   "execution_count": 31,
   "metadata": {},
   "outputs": [],
   "source": [
    "# Нахожу кол-во представителей от каждого пола\n",
    "distribution_buyers_gender = shopping_trends.groupby('Gender', as_index=False) \\\n",
    ".agg({'Item_Purchased':'count'})"
   ]
  },
  {
   "cell_type": "code",
   "execution_count": 32,
   "metadata": {},
   "outputs": [
    {
     "data": {
      "image/png": "[encoded data removed]",
      "text/plain": [
       "<Figure size 640x480 with 1 Axes>"
      ]
     },
     "metadata": {},
     "output_type": "display_data"
    }
   ],
   "source": [
    "# Устанавливаю голубой и розовый цвет для пользователей мужского и женского пола.\n",
    "# (Из-за увеличения прозрачности синий и красный окажутся соответсвенно искомыми )\n",
    "palette = {\n",
    "'Male': '#1f77b4',\n",
    "'Female': '#d62728' \n",
    "}\n",
    "# Строю барплот, с прозрачностью 0.5, без легенды, разделяя данные на подгруппы по полу.\n",
    "ax = sns.barplot(x='Gender', y='Item_Purchased', data=distribution_buyers_gender, alpha=0.5, hue='Gender', palette=palette, legend=False)\n",
    "# Переименовываю оси X и Y.\n",
    "ax.set(xlabel='Пол пользователя', ylabel='Количество представителей') \n",
    "# Удаляю границы графика и вывожу его.\n",
    "sns.despine()\n",
    "plt.show()"
   ]
  },
  {
   "cell_type": "code",
   "execution_count": null,
   "metadata": {},
   "outputs": [],
   "source": []
  },
  {
   "cell_type": "code",
   "execution_count": null,
   "metadata": {},
   "outputs": [],
   "source": []
  },
  {
   "cell_type": "markdown",
   "metadata": {},
   "source": [
    "## 3)"
   ]
  },
  {
   "cell_type": "markdown",
   "metadata": {},
   "source": [
    "### Определение по полу"
   ]
  },
  {
   "cell_type": "code",
   "execution_count": 33,
   "metadata": {},
   "outputs": [
    {
     "data": {
      "text/html": [
       "<div>\n",
       "<style scoped>\n",
       "    .dataframe tbody tr th:only-of-type {\n",
       "        vertical-align: middle;\n",
       "    }\n",
       "\n",
       "    .dataframe tbody tr th {\n",
       "        vertical-align: top;\n",
       "    }\n",
       "\n",
       "    .dataframe thead th {\n",
       "        text-align: right;\n",
       "    }\n",
       "</style>\n",
       "<table border=\"1\" class=\"dataframe\">\n",
       "  <thead>\n",
       "    <tr style=\"text-align: right;\">\n",
       "      <th></th>\n",
       "      <th>Gender</th>\n",
       "      <th>quantity_goods_purchased</th>\n",
       "    </tr>\n",
       "  </thead>\n",
       "  <tbody>\n",
       "    <tr>\n",
       "      <th>1</th>\n",
       "      <td>Male</td>\n",
       "      <td>70827</td>\n",
       "    </tr>\n",
       "    <tr>\n",
       "      <th>0</th>\n",
       "      <td>Female</td>\n",
       "      <td>31944</td>\n",
       "    </tr>\n",
       "  </tbody>\n",
       "</table>\n",
       "</div>"
      ],
      "text/plain": [
       "   Gender  quantity_goods_purchased\n",
       "1    Male                     70827\n",
       "0  Female                     31944"
      ]
     },
     "execution_count": 33,
     "metadata": {},
     "output_type": "execute_result"
    }
   ],
   "source": [
    "# Нахожу кол-во общего числа покупок у представителей каждого пола.\n",
    "largest_number_total_purchases_gender = shopping_trends.groupby('Gender', as_index=False) \\\n",
    ".agg({'All_Purchases':'sum'}) \\\n",
    ".sort_values('All_Purchases', ascending=False) \\\n",
    ".rename(columns={'All_Purchases': 'quantity_goods_purchased'})\n",
    "largest_number_total_purchases_gender.head()"
   ]
  },
  {
   "cell_type": "code",
   "execution_count": 34,
   "metadata": {},
   "outputs": [],
   "source": [
    "# Нахожу какой пол покупает в целом больше всего товаров.\n",
    "gender_buys_the_most_goods = largest_number_total_purchases_gender.Gender.iloc[0]"
   ]
  },
  {
   "cell_type": "code",
   "execution_count": 35,
   "metadata": {},
   "outputs": [
    {
     "name": "stdout",
     "output_type": "stream",
     "text": [
      "Male больше всех покупают товары\n"
     ]
    }
   ],
   "source": [
    "print(f'{gender_buys_the_most_goods} больше всех покупают товары')"
   ]
  },
  {
   "cell_type": "code",
   "execution_count": 36,
   "metadata": {},
   "outputs": [
    {
     "data": {
      "image/png": "[encoded data removed]",
      "text/plain": [
       "<Figure size 640x480 with 1 Axes>"
      ]
     },
     "metadata": {},
     "output_type": "display_data"
    }
   ],
   "source": [
    "# Для наглядности строю барплот.\n",
    "ax = sns.barplot(x='Gender', y='quantity_goods_purchased', data=largest_number_total_purchases_gender, color='green', alpha=0.5)\n",
    "ax.set(xlabel='Пол пользователя', ylabel='Общее количество покупок')\n",
    "sns.despine()\n",
    "plt.show()"
   ]
  },
  {
   "cell_type": "code",
   "execution_count": null,
   "metadata": {},
   "outputs": [],
   "source": []
  },
  {
   "cell_type": "code",
   "execution_count": 37,
   "metadata": {},
   "outputs": [
    {
     "data": {
      "text/html": [
       "<div>\n",
       "<style scoped>\n",
       "    .dataframe tbody tr th:only-of-type {\n",
       "        vertical-align: middle;\n",
       "    }\n",
       "\n",
       "    .dataframe tbody tr th {\n",
       "        vertical-align: top;\n",
       "    }\n",
       "\n",
       "    .dataframe thead th {\n",
       "        text-align: right;\n",
       "    }\n",
       "</style>\n",
       "<table border=\"1\" class=\"dataframe\">\n",
       "  <thead>\n",
       "    <tr style=\"text-align: right;\">\n",
       "      <th></th>\n",
       "      <th>Gender</th>\n",
       "      <th>number_most_frequent_buyers</th>\n",
       "    </tr>\n",
       "  </thead>\n",
       "  <tbody>\n",
       "    <tr>\n",
       "      <th>1</th>\n",
       "      <td>Male</td>\n",
       "      <td>367</td>\n",
       "    </tr>\n",
       "    <tr>\n",
       "      <th>0</th>\n",
       "      <td>Female</td>\n",
       "      <td>172</td>\n",
       "    </tr>\n",
       "  </tbody>\n",
       "</table>\n",
       "</div>"
      ],
      "text/plain": [
       "   Gender  number_most_frequent_buyers\n",
       "1    Male                          367\n",
       "0  Female                          172"
      ]
     },
     "execution_count": 37,
     "metadata": {},
     "output_type": "execute_result"
    }
   ],
   "source": [
    "# Нахожу кол-во раз, когда представители каждого пола покупали товары чаще всего (еженедельно).\n",
    "buys_more_goods_week_gender_df = shopping_trends.query('Frequency_of_Purchases == \"Weekly\"') \\\n",
    "    .groupby('Gender', as_index=False) \\\n",
    "    .agg({'Item_Purchased':'count'}) \\\n",
    "    .sort_values('Item_Purchased', ascending=False) \\\n",
    "    .rename(columns={'Item_Purchased': 'number_most_frequent_buyers'})\n",
    "buys_more_goods_week_gender_df.head()"
   ]
  },
  {
   "cell_type": "code",
   "execution_count": 38,
   "metadata": {},
   "outputs": [],
   "source": [
    "# Нахожу какой пол покупает товары чаще всего.\n",
    "buys_more_goods_week_gender = buys_more_goods_week_gender_df.Gender.iloc[0]"
   ]
  },
  {
   "cell_type": "code",
   "execution_count": 39,
   "metadata": {},
   "outputs": [
    {
     "name": "stdout",
     "output_type": "stream",
     "text": [
      "Male чаще всех покупают товары\n"
     ]
    }
   ],
   "source": [
    "print(f'{buys_more_goods_week_gender} чаще всех покупают товары')"
   ]
  },
  {
   "cell_type": "code",
   "execution_count": 40,
   "metadata": {},
   "outputs": [
    {
     "data": {
      "image/png": "[encoded data removed]",
      "text/plain": [
       "<Figure size 640x480 with 1 Axes>"
      ]
     },
     "metadata": {},
     "output_type": "display_data"
    }
   ],
   "source": [
    "# Для наглядности строю барплот.\n",
    "ax = sns.barplot(x='Gender', y='number_most_frequent_buyers', data=buys_more_goods_week_gender_df, color='black', alpha=0.5)\n",
    "ax.set(xlabel='Пол пользователя', ylabel='Kоличество наиболее частых покупателей')\n",
    "sns.despine()\n",
    "plt.show()"
   ]
  },
  {
   "cell_type": "code",
   "execution_count": null,
   "metadata": {},
   "outputs": [],
   "source": []
  },
  {
   "cell_type": "code",
   "execution_count": 41,
   "metadata": {},
   "outputs": [
    {
     "data": {
      "text/plain": [
       "np.float64(93.0)"
      ]
     },
     "execution_count": 41,
     "metadata": {},
     "output_type": "execute_result"
    }
   ],
   "source": [
    "# Устанавливаю уровень определения дорогих товаров на 90-м процентиле цен покупок.\n",
    "percentile_90th = shopping_trends.Purchase_Amount_USD.quantile(q=0.9)\n",
    "percentile_90th"
   ]
  },
  {
   "cell_type": "code",
   "execution_count": 42,
   "metadata": {},
   "outputs": [
    {
     "data": {
      "text/html": [
       "<div>\n",
       "<style scoped>\n",
       "    .dataframe tbody tr th:only-of-type {\n",
       "        vertical-align: middle;\n",
       "    }\n",
       "\n",
       "    .dataframe tbody tr th {\n",
       "        vertical-align: top;\n",
       "    }\n",
       "\n",
       "    .dataframe thead th {\n",
       "        text-align: right;\n",
       "    }\n",
       "</style>\n",
       "<table border=\"1\" class=\"dataframe\">\n",
       "  <thead>\n",
       "    <tr style=\"text-align: right;\">\n",
       "      <th></th>\n",
       "      <th>Gender</th>\n",
       "      <th>number_most_expensive_goods</th>\n",
       "    </tr>\n",
       "  </thead>\n",
       "  <tbody>\n",
       "    <tr>\n",
       "      <th>1</th>\n",
       "      <td>Male</td>\n",
       "      <td>277</td>\n",
       "    </tr>\n",
       "    <tr>\n",
       "      <th>0</th>\n",
       "      <td>Female</td>\n",
       "      <td>130</td>\n",
       "    </tr>\n",
       "  </tbody>\n",
       "</table>\n",
       "</div>"
      ],
      "text/plain": [
       "   Gender  number_most_expensive_goods\n",
       "1    Male                          277\n",
       "0  Female                          130"
      ]
     },
     "execution_count": 42,
     "metadata": {},
     "output_type": "execute_result"
    }
   ],
   "source": [
    "# Нахожу кол-во раз, когда представители каждого пола купили дорогие товары.\n",
    "buy_most_expensive_goods_gender_df = shopping_trends.query('Purchase_Amount_USD >= @percentile_90th') \\\n",
    ".groupby('Gender', as_index=False) \\\n",
    ".agg({'Item_Purchased':'count'}) \\\n",
    ".sort_values('Item_Purchased', ascending=False) \\\n",
    ".rename(columns={'Item_Purchased': 'number_most_expensive_goods'})\n",
    "buy_most_expensive_goods_gender_df.head()"
   ]
  },
  {
   "cell_type": "code",
   "execution_count": 43,
   "metadata": {},
   "outputs": [],
   "source": [
    "# Нахожу какой пол покупает дорогие товары чаще всего.\n",
    "buy_most_expensive_goods_gender = buy_most_expensive_goods_gender_df.Gender.iloc[0]"
   ]
  },
  {
   "cell_type": "code",
   "execution_count": 44,
   "metadata": {},
   "outputs": [
    {
     "name": "stdout",
     "output_type": "stream",
     "text": [
      "Male больше всех покупают дорогие товары\n"
     ]
    }
   ],
   "source": [
    "print(f'{buy_most_expensive_goods_gender} больше всех покупают дорогие товары')"
   ]
  },
  {
   "cell_type": "code",
   "execution_count": 45,
   "metadata": {},
   "outputs": [
    {
     "data": {
      "image/png": "[encoded data removed]",
      "text/plain": [
       "<Figure size 640x480 with 1 Axes>"
      ]
     },
     "metadata": {},
     "output_type": "display_data"
    }
   ],
   "source": [
    "# Для наглядности строю барплот.\n",
    "ax = sns.barplot(x='Gender', y='number_most_expensive_goods', data=buy_most_expensive_goods_gender_df, color='yellow', alpha=0.5)\n",
    "ax.set(xlabel='Пол пользователя', ylabel='Количесвто дорогих покупок')\n",
    "sns.despine()\n",
    "plt.show()"
   ]
  },
  {
   "cell_type": "code",
   "execution_count": null,
   "metadata": {},
   "outputs": [],
   "source": []
  },
  {
   "cell_type": "markdown",
   "metadata": {},
   "source": [
    "### Определение по возрасту"
   ]
  },
  {
   "cell_type": "code",
   "execution_count": 46,
   "metadata": {},
   "outputs": [
    {
     "data": {
      "text/html": [
       "<div>\n",
       "<style scoped>\n",
       "    .dataframe tbody tr th:only-of-type {\n",
       "        vertical-align: middle;\n",
       "    }\n",
       "\n",
       "    .dataframe tbody tr th {\n",
       "        vertical-align: top;\n",
       "    }\n",
       "\n",
       "    .dataframe thead th {\n",
       "        text-align: right;\n",
       "    }\n",
       "</style>\n",
       "<table border=\"1\" class=\"dataframe\">\n",
       "  <thead>\n",
       "    <tr style=\"text-align: right;\">\n",
       "      <th></th>\n",
       "      <th>Customer_ID</th>\n",
       "      <th>Age</th>\n",
       "      <th>Gender</th>\n",
       "      <th>Item_Purchased</th>\n",
       "      <th>Category</th>\n",
       "      <th>Purchase_Amount_USD</th>\n",
       "      <th>Location</th>\n",
       "      <th>Size</th>\n",
       "      <th>Color</th>\n",
       "      <th>Season</th>\n",
       "      <th>...</th>\n",
       "      <th>Subscription_Status</th>\n",
       "      <th>Payment_Method</th>\n",
       "      <th>Shipping_Type</th>\n",
       "      <th>Discount_Applied</th>\n",
       "      <th>Promo_Code_Used</th>\n",
       "      <th>Previous_Purchases</th>\n",
       "      <th>Preferred_Payment_Method</th>\n",
       "      <th>Frequency_of_Purchases</th>\n",
       "      <th>All_Purchases</th>\n",
       "      <th>Age_Classification</th>\n",
       "    </tr>\n",
       "  </thead>\n",
       "  <tbody>\n",
       "    <tr>\n",
       "      <th>0</th>\n",
       "      <td>1</td>\n",
       "      <td>55</td>\n",
       "      <td>Male</td>\n",
       "      <td>Blouse</td>\n",
       "      <td>Clothing</td>\n",
       "      <td>53</td>\n",
       "      <td>Kentucky</td>\n",
       "      <td>L</td>\n",
       "      <td>Gray</td>\n",
       "      <td>Winter</td>\n",
       "      <td>...</td>\n",
       "      <td>Yes</td>\n",
       "      <td>Credit Card</td>\n",
       "      <td>Express</td>\n",
       "      <td>Yes</td>\n",
       "      <td>Yes</td>\n",
       "      <td>14</td>\n",
       "      <td>Venmo</td>\n",
       "      <td>Fortnightly</td>\n",
       "      <td>15</td>\n",
       "      <td>35-64</td>\n",
       "    </tr>\n",
       "    <tr>\n",
       "      <th>1</th>\n",
       "      <td>2</td>\n",
       "      <td>19</td>\n",
       "      <td>Male</td>\n",
       "      <td>Sweater</td>\n",
       "      <td>Clothing</td>\n",
       "      <td>64</td>\n",
       "      <td>Maine</td>\n",
       "      <td>L</td>\n",
       "      <td>Maroon</td>\n",
       "      <td>Winter</td>\n",
       "      <td>...</td>\n",
       "      <td>Yes</td>\n",
       "      <td>Bank Transfer</td>\n",
       "      <td>Express</td>\n",
       "      <td>Yes</td>\n",
       "      <td>Yes</td>\n",
       "      <td>2</td>\n",
       "      <td>Cash</td>\n",
       "      <td>Fortnightly</td>\n",
       "      <td>3</td>\n",
       "      <td>18-34</td>\n",
       "    </tr>\n",
       "    <tr>\n",
       "      <th>2</th>\n",
       "      <td>3</td>\n",
       "      <td>50</td>\n",
       "      <td>Male</td>\n",
       "      <td>Jeans</td>\n",
       "      <td>Clothing</td>\n",
       "      <td>73</td>\n",
       "      <td>Massachusetts</td>\n",
       "      <td>S</td>\n",
       "      <td>Maroon</td>\n",
       "      <td>Spring</td>\n",
       "      <td>...</td>\n",
       "      <td>Yes</td>\n",
       "      <td>Cash</td>\n",
       "      <td>Free Shipping</td>\n",
       "      <td>Yes</td>\n",
       "      <td>Yes</td>\n",
       "      <td>23</td>\n",
       "      <td>Credit Card</td>\n",
       "      <td>Weekly</td>\n",
       "      <td>24</td>\n",
       "      <td>35-64</td>\n",
       "    </tr>\n",
       "    <tr>\n",
       "      <th>3</th>\n",
       "      <td>4</td>\n",
       "      <td>21</td>\n",
       "      <td>Male</td>\n",
       "      <td>Sandals</td>\n",
       "      <td>Footwear</td>\n",
       "      <td>90</td>\n",
       "      <td>Rhode Island</td>\n",
       "      <td>M</td>\n",
       "      <td>Maroon</td>\n",
       "      <td>Spring</td>\n",
       "      <td>...</td>\n",
       "      <td>Yes</td>\n",
       "      <td>PayPal</td>\n",
       "      <td>Next Day Air</td>\n",
       "      <td>Yes</td>\n",
       "      <td>Yes</td>\n",
       "      <td>49</td>\n",
       "      <td>PayPal</td>\n",
       "      <td>Weekly</td>\n",
       "      <td>50</td>\n",
       "      <td>18-34</td>\n",
       "    </tr>\n",
       "    <tr>\n",
       "      <th>4</th>\n",
       "      <td>5</td>\n",
       "      <td>45</td>\n",
       "      <td>Male</td>\n",
       "      <td>Blouse</td>\n",
       "      <td>Clothing</td>\n",
       "      <td>49</td>\n",
       "      <td>Oregon</td>\n",
       "      <td>M</td>\n",
       "      <td>Turquoise</td>\n",
       "      <td>Spring</td>\n",
       "      <td>...</td>\n",
       "      <td>Yes</td>\n",
       "      <td>Cash</td>\n",
       "      <td>Free Shipping</td>\n",
       "      <td>Yes</td>\n",
       "      <td>Yes</td>\n",
       "      <td>31</td>\n",
       "      <td>PayPal</td>\n",
       "      <td>Annually</td>\n",
       "      <td>32</td>\n",
       "      <td>35-64</td>\n",
       "    </tr>\n",
       "  </tbody>\n",
       "</table>\n",
       "<p>5 rows × 21 columns</p>\n",
       "</div>"
      ],
      "text/plain": [
       "   Customer_ID  Age Gender Item_Purchased  Category  Purchase_Amount_USD  \\\n",
       "0            1   55   Male         Blouse  Clothing                   53   \n",
       "1            2   19   Male        Sweater  Clothing                   64   \n",
       "2            3   50   Male          Jeans  Clothing                   73   \n",
       "3            4   21   Male        Sandals  Footwear                   90   \n",
       "4            5   45   Male         Blouse  Clothing                   49   \n",
       "\n",
       "        Location Size      Color  Season  ...  Subscription_Status  \\\n",
       "0       Kentucky    L       Gray  Winter  ...                  Yes   \n",
       "1          Maine    L     Maroon  Winter  ...                  Yes   \n",
       "2  Massachusetts    S     Maroon  Spring  ...                  Yes   \n",
       "3   Rhode Island    M     Maroon  Spring  ...                  Yes   \n",
       "4         Oregon    M  Turquoise  Spring  ...                  Yes   \n",
       "\n",
       "  Payment_Method  Shipping_Type Discount_Applied Promo_Code_Used  \\\n",
       "0    Credit Card        Express              Yes             Yes   \n",
       "1  Bank Transfer        Express              Yes             Yes   \n",
       "2           Cash  Free Shipping              Yes             Yes   \n",
       "3         PayPal   Next Day Air              Yes             Yes   \n",
       "4           Cash  Free Shipping              Yes             Yes   \n",
       "\n",
       "  Previous_Purchases  Preferred_Payment_Method Frequency_of_Purchases  \\\n",
       "0                 14                     Venmo            Fortnightly   \n",
       "1                  2                      Cash            Fortnightly   \n",
       "2                 23               Credit Card                 Weekly   \n",
       "3                 49                    PayPal                 Weekly   \n",
       "4                 31                    PayPal               Annually   \n",
       "\n",
       "  All_Purchases  Age_Classification  \n",
       "0            15               35-64  \n",
       "1             3               18-34  \n",
       "2            24               35-64  \n",
       "3            50               18-34  \n",
       "4            32               35-64  \n",
       "\n",
       "[5 rows x 21 columns]"
      ]
     },
     "execution_count": 46,
     "metadata": {},
     "output_type": "execute_result"
    }
   ],
   "source": [
    "# С помощью функции classify_age подразделяю покупателей на основе их возраста \n",
    "# на возрастные промежутки 0-17, 18-34, 35-64 и 65+.\n",
    "\n",
    "def classify_age(age):\n",
    "    if 0 <= age <= 17:\n",
    "        return '0-17'\n",
    "    elif 18 <= age <= 34:\n",
    "        return '18-34'\n",
    "    elif 35 <= age <= 64:\n",
    "        return '35-64'\n",
    "    elif 65 <= age:\n",
    "        return '65+'\n",
    "\n",
    "# Создаю отдельную колонку с классификацией.\n",
    "shopping_trends['Age_Classification'] = shopping_trends['Age'].apply(classify_age)\n",
    "shopping_trends.head()"
   ]
  },
  {
   "cell_type": "code",
   "execution_count": 47,
   "metadata": {},
   "outputs": [
    {
     "data": {
      "text/html": [
       "<div>\n",
       "<style scoped>\n",
       "    .dataframe tbody tr th:only-of-type {\n",
       "        vertical-align: middle;\n",
       "    }\n",
       "\n",
       "    .dataframe tbody tr th {\n",
       "        vertical-align: top;\n",
       "    }\n",
       "\n",
       "    .dataframe thead th {\n",
       "        text-align: right;\n",
       "    }\n",
       "</style>\n",
       "<table border=\"1\" class=\"dataframe\">\n",
       "  <thead>\n",
       "    <tr style=\"text-align: right;\">\n",
       "      <th></th>\n",
       "      <th>Age_Classification</th>\n",
       "      <th>quantity_goods_purchased</th>\n",
       "    </tr>\n",
       "  </thead>\n",
       "  <tbody>\n",
       "    <tr>\n",
       "      <th>1</th>\n",
       "      <td>35-64</td>\n",
       "      <td>59160</td>\n",
       "    </tr>\n",
       "    <tr>\n",
       "      <th>0</th>\n",
       "      <td>18-34</td>\n",
       "      <td>31916</td>\n",
       "    </tr>\n",
       "    <tr>\n",
       "      <th>2</th>\n",
       "      <td>65+</td>\n",
       "      <td>11695</td>\n",
       "    </tr>\n",
       "  </tbody>\n",
       "</table>\n",
       "</div>"
      ],
      "text/plain": [
       "  Age_Classification  quantity_goods_purchased\n",
       "1              35-64                     59160\n",
       "0              18-34                     31916\n",
       "2                65+                     11695"
      ]
     },
     "execution_count": 47,
     "metadata": {},
     "output_type": "execute_result"
    }
   ],
   "source": [
    "# Нахожу кол-во общего числа покупок у представителей каждой возрастной группы.\n",
    "largest_number_total_purchases_age_classification = shopping_trends.groupby('Age_Classification', as_index=False) \\\n",
    ".agg({'All_Purchases':'sum'}) \\\n",
    ".sort_values('All_Purchases', ascending=False) \\\n",
    ".rename(columns={'All_Purchases': 'quantity_goods_purchased'})\n",
    "largest_number_total_purchases_age_classification.head()"
   ]
  },
  {
   "cell_type": "code",
   "execution_count": 48,
   "metadata": {},
   "outputs": [],
   "source": [
    "# Нахожу какая возрастная группа покупает товары больше всего.\n",
    "age_category_buys_most_goods = largest_number_total_purchases_age_classification.Age_Classification.iloc[0]"
   ]
  },
  {
   "cell_type": "code",
   "execution_count": 49,
   "metadata": {},
   "outputs": [
    {
     "name": "stdout",
     "output_type": "stream",
     "text": [
      "Возрастаная категория 35-64 больше всех покупает товары\n"
     ]
    }
   ],
   "source": [
    "print(f'Возрастаная категория {age_category_buys_most_goods} больше всех покупает товары')"
   ]
  },
  {
   "cell_type": "code",
   "execution_count": 50,
   "metadata": {},
   "outputs": [
    {
     "data": {
      "image/png": "[encoded data removed]",
      "text/plain": [
       "<Figure size 640x480 with 1 Axes>"
      ]
     },
     "metadata": {},
     "output_type": "display_data"
    }
   ],
   "source": [
    "# Для наглядности строю барплот.\n",
    "ax = sns.barplot(x='Age_Classification', y='quantity_goods_purchased', data=largest_number_total_purchases_age_classification, color='green', alpha=0.5)\n",
    "ax.set(xlabel='Возрастная категория', ylabel='Общее количество покупок')\n",
    "sns.despine()\n",
    "plt.show()"
   ]
  },
  {
   "cell_type": "code",
   "execution_count": null,
   "metadata": {},
   "outputs": [],
   "source": []
  },
  {
   "cell_type": "code",
   "execution_count": 51,
   "metadata": {},
   "outputs": [
    {
     "data": {
      "text/html": [
       "<div>\n",
       "<style scoped>\n",
       "    .dataframe tbody tr th:only-of-type {\n",
       "        vertical-align: middle;\n",
       "    }\n",
       "\n",
       "    .dataframe tbody tr th {\n",
       "        vertical-align: top;\n",
       "    }\n",
       "\n",
       "    .dataframe thead th {\n",
       "        text-align: right;\n",
       "    }\n",
       "</style>\n",
       "<table border=\"1\" class=\"dataframe\">\n",
       "  <thead>\n",
       "    <tr style=\"text-align: right;\">\n",
       "      <th></th>\n",
       "      <th>Age_Classification</th>\n",
       "      <th>number_most_frequent_buyers</th>\n",
       "    </tr>\n",
       "  </thead>\n",
       "  <tbody>\n",
       "    <tr>\n",
       "      <th>1</th>\n",
       "      <td>35-64</td>\n",
       "      <td>321</td>\n",
       "    </tr>\n",
       "    <tr>\n",
       "      <th>0</th>\n",
       "      <td>18-34</td>\n",
       "      <td>156</td>\n",
       "    </tr>\n",
       "    <tr>\n",
       "      <th>2</th>\n",
       "      <td>65+</td>\n",
       "      <td>62</td>\n",
       "    </tr>\n",
       "  </tbody>\n",
       "</table>\n",
       "</div>"
      ],
      "text/plain": [
       "  Age_Classification  number_most_frequent_buyers\n",
       "1              35-64                          321\n",
       "0              18-34                          156\n",
       "2                65+                           62"
      ]
     },
     "execution_count": 51,
     "metadata": {},
     "output_type": "execute_result"
    }
   ],
   "source": [
    "# Нахожу кол-во раз, когда представители каждой возрастной группы покупали товары чаще всего (еженедельно)\n",
    "age_category_buys_more_goods_week_df = shopping_trends.query('Frequency_of_Purchases == \"Weekly\"') \\\n",
    ".groupby('Age_Classification', as_index=False) \\\n",
    ".agg({'Purchase_Amount_USD':'count'}) \\\n",
    ".sort_values('Purchase_Amount_USD', ascending=False) \\\n",
    ".rename(columns={'Purchase_Amount_USD': 'number_most_frequent_buyers'})\n",
    "age_category_buys_more_goods_week_df.head()"
   ]
  },
  {
   "cell_type": "code",
   "execution_count": 52,
   "metadata": {},
   "outputs": [],
   "source": [
    "# Нахожу какая возрастная группа покупает товары чаще всего.\n",
    "age_category_buys_more_goods_week = age_category_buys_more_goods_week_df.Age_Classification.iloc[0]"
   ]
  },
  {
   "cell_type": "code",
   "execution_count": 53,
   "metadata": {},
   "outputs": [
    {
     "name": "stdout",
     "output_type": "stream",
     "text": [
      "Возрастная категория 35-64 чаще всех покупает товары\n"
     ]
    }
   ],
   "source": [
    "print(f'Возрастная категория {age_category_buys_more_goods_week} чаще всех покупает товары')"
   ]
  },
  {
   "cell_type": "code",
   "execution_count": 54,
   "metadata": {},
   "outputs": [
    {
     "data": {
      "image/png": "[encoded data removed]",
      "text/plain": [
       "<Figure size 640x480 with 1 Axes>"
      ]
     },
     "metadata": {},
     "output_type": "display_data"
    }
   ],
   "source": [
    "# Для наглядности строю барплот.\n",
    "ax = sns.barplot(x='Age_Classification', y='number_most_frequent_buyers', data=age_category_buys_more_goods_week_df, color='black', alpha=0.5)\n",
    "ax.set(xlabel='Возрастная категория', ylabel='Kоличество наиболее частых покупателей')\n",
    "sns.despine()\n",
    "plt.show()"
   ]
  },
  {
   "cell_type": "code",
   "execution_count": null,
   "metadata": {},
   "outputs": [],
   "source": []
  },
  {
   "cell_type": "code",
   "execution_count": 55,
   "metadata": {},
   "outputs": [
    {
     "data": {
      "text/html": [
       "<div>\n",
       "<style scoped>\n",
       "    .dataframe tbody tr th:only-of-type {\n",
       "        vertical-align: middle;\n",
       "    }\n",
       "\n",
       "    .dataframe tbody tr th {\n",
       "        vertical-align: top;\n",
       "    }\n",
       "\n",
       "    .dataframe thead th {\n",
       "        text-align: right;\n",
       "    }\n",
       "</style>\n",
       "<table border=\"1\" class=\"dataframe\">\n",
       "  <thead>\n",
       "    <tr style=\"text-align: right;\">\n",
       "      <th></th>\n",
       "      <th>Age_Classification</th>\n",
       "      <th>number_most_expensive_goods</th>\n",
       "    </tr>\n",
       "  </thead>\n",
       "  <tbody>\n",
       "    <tr>\n",
       "      <th>1</th>\n",
       "      <td>35-64</td>\n",
       "      <td>230</td>\n",
       "    </tr>\n",
       "    <tr>\n",
       "      <th>0</th>\n",
       "      <td>18-34</td>\n",
       "      <td>130</td>\n",
       "    </tr>\n",
       "    <tr>\n",
       "      <th>2</th>\n",
       "      <td>65+</td>\n",
       "      <td>47</td>\n",
       "    </tr>\n",
       "  </tbody>\n",
       "</table>\n",
       "</div>"
      ],
      "text/plain": [
       "  Age_Classification  number_most_expensive_goods\n",
       "1              35-64                          230\n",
       "0              18-34                          130\n",
       "2                65+                           47"
      ]
     },
     "execution_count": 55,
     "metadata": {},
     "output_type": "execute_result"
    }
   ],
   "source": [
    "# Нахожу кол-во раз, когда представители каждой возрастной группы купили дорогие товары.\n",
    "age_category_buy_most_expensive_goods_df = shopping_trends.query('Purchase_Amount_USD >= @percentile_90th') \\\n",
    ".groupby('Age_Classification', as_index=False) \\\n",
    ".agg({'All_Purchases':'count'}) \\\n",
    ".sort_values('All_Purchases', ascending=False) \\\n",
    ".rename(columns={'All_Purchases': 'number_most_expensive_goods'})\n",
    "age_category_buy_most_expensive_goods_df.head()"
   ]
  },
  {
   "cell_type": "code",
   "execution_count": 56,
   "metadata": {},
   "outputs": [],
   "source": [
    "# Нахожу какая возрастная группа покупает дорогие товары чаще всего.\n",
    "age_category_buy_most_expensive_goods = age_category_buy_most_expensive_goods_df.Age_Classification.iloc[0]"
   ]
  },
  {
   "cell_type": "code",
   "execution_count": 57,
   "metadata": {},
   "outputs": [
    {
     "name": "stdout",
     "output_type": "stream",
     "text": [
      "Возрастная категория 35-64 больше всех покупает дорогие товары\n"
     ]
    }
   ],
   "source": [
    "print(f'Возрастная категория {age_category_buy_most_expensive_goods} больше всех покупает дорогие товары')"
   ]
  },
  {
   "cell_type": "code",
   "execution_count": 58,
   "metadata": {},
   "outputs": [
    {
     "data": {
      "image/png": "[encoded data removed]",
      "text/plain": [
       "<Figure size 640x480 with 1 Axes>"
      ]
     },
     "metadata": {},
     "output_type": "display_data"
    }
   ],
   "source": [
    "# Для наглядности строю барплот.\n",
    "ax = sns.barplot(x='Age_Classification', y='number_most_expensive_goods', data=age_category_buy_most_expensive_goods_df, color='yellow', alpha=0.5)\n",
    "ax.set(xlabel='Возрастная категория', ylabel='Количесвто дорогих заказов')\n",
    "sns.despine()\n",
    "plt.show()"
   ]
  },
  {
   "cell_type": "code",
   "execution_count": null,
   "metadata": {},
   "outputs": [],
   "source": []
  },
  {
   "cell_type": "code",
   "execution_count": null,
   "metadata": {},
   "outputs": [],
   "source": []
  },
  {
   "cell_type": "markdown",
   "metadata": {},
   "source": [
    "## 4)"
   ]
  },
  {
   "cell_type": "code",
   "execution_count": 59,
   "metadata": {},
   "outputs": [
    {
     "data": {
      "text/html": [
       "<div>\n",
       "<style scoped>\n",
       "    .dataframe tbody tr th:only-of-type {\n",
       "        vertical-align: middle;\n",
       "    }\n",
       "\n",
       "    .dataframe tbody tr th {\n",
       "        vertical-align: top;\n",
       "    }\n",
       "\n",
       "    .dataframe thead th {\n",
       "        text-align: right;\n",
       "    }\n",
       "</style>\n",
       "<table border=\"1\" class=\"dataframe\">\n",
       "  <thead>\n",
       "    <tr style=\"text-align: right;\">\n",
       "      <th>Color</th>\n",
       "      <th>Beige</th>\n",
       "      <th>Black</th>\n",
       "      <th>Blue</th>\n",
       "      <th>Brown</th>\n",
       "      <th>Charcoal</th>\n",
       "      <th>Cyan</th>\n",
       "      <th>Gold</th>\n",
       "      <th>Gray</th>\n",
       "      <th>Green</th>\n",
       "      <th>Indigo</th>\n",
       "      <th>...</th>\n",
       "      <th>Peach</th>\n",
       "      <th>Pink</th>\n",
       "      <th>Purple</th>\n",
       "      <th>Red</th>\n",
       "      <th>Silver</th>\n",
       "      <th>Teal</th>\n",
       "      <th>Turquoise</th>\n",
       "      <th>Violet</th>\n",
       "      <th>White</th>\n",
       "      <th>Yellow</th>\n",
       "    </tr>\n",
       "    <tr>\n",
       "      <th>Season</th>\n",
       "      <th></th>\n",
       "      <th></th>\n",
       "      <th></th>\n",
       "      <th></th>\n",
       "      <th></th>\n",
       "      <th></th>\n",
       "      <th></th>\n",
       "      <th></th>\n",
       "      <th></th>\n",
       "      <th></th>\n",
       "      <th></th>\n",
       "      <th></th>\n",
       "      <th></th>\n",
       "      <th></th>\n",
       "      <th></th>\n",
       "      <th></th>\n",
       "      <th></th>\n",
       "      <th></th>\n",
       "      <th></th>\n",
       "      <th></th>\n",
       "      <th></th>\n",
       "    </tr>\n",
       "  </thead>\n",
       "  <tbody>\n",
       "    <tr>\n",
       "      <th>Fall</th>\n",
       "      <td>34</td>\n",
       "      <td>42</td>\n",
       "      <td>32</td>\n",
       "      <td>35</td>\n",
       "      <td>32</td>\n",
       "      <td>43</td>\n",
       "      <td>36</td>\n",
       "      <td>44</td>\n",
       "      <td>37</td>\n",
       "      <td>37</td>\n",
       "      <td>...</td>\n",
       "      <td>42</td>\n",
       "      <td>35</td>\n",
       "      <td>37</td>\n",
       "      <td>42</td>\n",
       "      <td>39</td>\n",
       "      <td>40</td>\n",
       "      <td>27</td>\n",
       "      <td>44</td>\n",
       "      <td>27</td>\n",
       "      <td>50</td>\n",
       "    </tr>\n",
       "    <tr>\n",
       "      <th>Spring</th>\n",
       "      <td>39</td>\n",
       "      <td>43</td>\n",
       "      <td>39</td>\n",
       "      <td>33</td>\n",
       "      <td>42</td>\n",
       "      <td>42</td>\n",
       "      <td>38</td>\n",
       "      <td>48</td>\n",
       "      <td>38</td>\n",
       "      <td>37</td>\n",
       "      <td>...</td>\n",
       "      <td>38</td>\n",
       "      <td>44</td>\n",
       "      <td>43</td>\n",
       "      <td>31</td>\n",
       "      <td>37</td>\n",
       "      <td>46</td>\n",
       "      <td>41</td>\n",
       "      <td>45</td>\n",
       "      <td>36</td>\n",
       "      <td>40</td>\n",
       "    </tr>\n",
       "    <tr>\n",
       "      <th>Summer</th>\n",
       "      <td>37</td>\n",
       "      <td>42</td>\n",
       "      <td>46</td>\n",
       "      <td>33</td>\n",
       "      <td>36</td>\n",
       "      <td>42</td>\n",
       "      <td>30</td>\n",
       "      <td>40</td>\n",
       "      <td>44</td>\n",
       "      <td>32</td>\n",
       "      <td>...</td>\n",
       "      <td>24</td>\n",
       "      <td>29</td>\n",
       "      <td>38</td>\n",
       "      <td>36</td>\n",
       "      <td>59</td>\n",
       "      <td>49</td>\n",
       "      <td>36</td>\n",
       "      <td>40</td>\n",
       "      <td>43</td>\n",
       "      <td>38</td>\n",
       "    </tr>\n",
       "    <tr>\n",
       "      <th>Winter</th>\n",
       "      <td>37</td>\n",
       "      <td>40</td>\n",
       "      <td>35</td>\n",
       "      <td>40</td>\n",
       "      <td>43</td>\n",
       "      <td>39</td>\n",
       "      <td>34</td>\n",
       "      <td>27</td>\n",
       "      <td>50</td>\n",
       "      <td>41</td>\n",
       "      <td>...</td>\n",
       "      <td>45</td>\n",
       "      <td>45</td>\n",
       "      <td>33</td>\n",
       "      <td>39</td>\n",
       "      <td>38</td>\n",
       "      <td>37</td>\n",
       "      <td>41</td>\n",
       "      <td>37</td>\n",
       "      <td>36</td>\n",
       "      <td>46</td>\n",
       "    </tr>\n",
       "  </tbody>\n",
       "</table>\n",
       "<p>4 rows × 25 columns</p>\n",
       "</div>"
      ],
      "text/plain": [
       "Color   Beige  Black  Blue  Brown  Charcoal  Cyan  Gold  Gray  Green  Indigo  \\\n",
       "Season                                                                         \n",
       "Fall       34     42    32     35        32    43    36    44     37      37   \n",
       "Spring     39     43    39     33        42    42    38    48     38      37   \n",
       "Summer     37     42    46     33        36    42    30    40     44      32   \n",
       "Winter     37     40    35     40        43    39    34    27     50      41   \n",
       "\n",
       "Color   ...  Peach  Pink  Purple  Red  Silver  Teal  Turquoise  Violet  White  \\\n",
       "Season  ...                                                                     \n",
       "Fall    ...     42    35      37   42      39    40         27      44     27   \n",
       "Spring  ...     38    44      43   31      37    46         41      45     36   \n",
       "Summer  ...     24    29      38   36      59    49         36      40     43   \n",
       "Winter  ...     45    45      33   39      38    37         41      37     36   \n",
       "\n",
       "Color   Yellow  \n",
       "Season          \n",
       "Fall        50  \n",
       "Spring      40  \n",
       "Summer      38  \n",
       "Winter      46  \n",
       "\n",
       "[4 rows x 25 columns]"
      ]
     },
     "execution_count": 59,
     "metadata": {},
     "output_type": "execute_result"
    }
   ],
   "source": [
    "# Создаю таблицу сопряженности сезона и цвета товара заказа.\n",
    "table_of_relationships = pd.crosstab(shopping_trends['Season'], shopping_trends['Color'])\n",
    "table_of_relationships.head()"
   ]
  },
  {
   "cell_type": "code",
   "execution_count": 60,
   "metadata": {},
   "outputs": [],
   "source": [
    "# Примененяю тест хи-квадрат.\n",
    "_, p_value, _, _ = chi2_contingency(table_of_relationships)"
   ]
  },
  {
   "cell_type": "code",
   "execution_count": 61,
   "metadata": {},
   "outputs": [
    {
     "name": "stdout",
     "output_type": "stream",
     "text": [
      "Значение p-value: 0.7186\n"
     ]
    }
   ],
   "source": [
    "print(f\"Значение p-value: {p_value:.4}\")"
   ]
  },
  {
   "cell_type": "markdown",
   "metadata": {},
   "source": [
    "#### Значение p-value выше заданного уровня значимости (0.05), значит мы не можем отвергнуть нулевую гипотезу о том, что существует статистически значимая зависимость между цветом одежды и сезоном."
   ]
  },
  {
   "cell_type": "code",
   "execution_count": null,
   "metadata": {},
   "outputs": [],
   "source": []
  },
  {
   "cell_type": "code",
   "execution_count": null,
   "metadata": {},
   "outputs": [],
   "source": []
  },
  {
   "cell_type": "markdown",
   "metadata": {},
   "source": [
    "## 5)"
   ]
  },
  {
   "cell_type": "code",
   "execution_count": 62,
   "metadata": {},
   "outputs": [],
   "source": [
    "# Устанавливаю порядок сезонов.\n",
    "season_order = [\"Spring\", \"Summer\", \"Fall\", \"Winter\"]\n",
    "shopping_trends[\"Season\"] = pd.Categorical(shopping_trends[\"Season\"], categories=season_order, ordered=True)"
   ]
  },
  {
   "cell_type": "code",
   "execution_count": 63,
   "metadata": {},
   "outputs": [
    {
     "data": {
      "text/html": [
       "<div>\n",
       "<style scoped>\n",
       "    .dataframe tbody tr th:only-of-type {\n",
       "        vertical-align: middle;\n",
       "    }\n",
       "\n",
       "    .dataframe tbody tr th {\n",
       "        vertical-align: top;\n",
       "    }\n",
       "\n",
       "    .dataframe thead th {\n",
       "        text-align: right;\n",
       "    }\n",
       "</style>\n",
       "<table border=\"1\" class=\"dataframe\">\n",
       "  <thead>\n",
       "    <tr style=\"text-align: right;\">\n",
       "      <th></th>\n",
       "      <th>Season</th>\n",
       "      <th>number_unique_users</th>\n",
       "    </tr>\n",
       "  </thead>\n",
       "  <tbody>\n",
       "    <tr>\n",
       "      <th>0</th>\n",
       "      <td>Spring</td>\n",
       "      <td>999</td>\n",
       "    </tr>\n",
       "    <tr>\n",
       "      <th>1</th>\n",
       "      <td>Summer</td>\n",
       "      <td>955</td>\n",
       "    </tr>\n",
       "    <tr>\n",
       "      <th>2</th>\n",
       "      <td>Fall</td>\n",
       "      <td>975</td>\n",
       "    </tr>\n",
       "    <tr>\n",
       "      <th>3</th>\n",
       "      <td>Winter</td>\n",
       "      <td>971</td>\n",
       "    </tr>\n",
       "  </tbody>\n",
       "</table>\n",
       "</div>"
      ],
      "text/plain": [
       "   Season  number_unique_users\n",
       "0  Spring                  999\n",
       "1  Summer                  955\n",
       "2    Fall                  975\n",
       "3  Winter                  971"
      ]
     },
     "execution_count": 63,
     "metadata": {},
     "output_type": "execute_result"
    }
   ],
   "source": [
    "# В каждом сезоне нахожу число уникальных пользователей.\n",
    "mau = shopping_trends.groupby('Season', as_index=False, observed=False) \\\n",
    ".agg({'Customer_ID':'nunique'}) \\\n",
    ".rename(columns={'Customer_ID': 'number_unique_users'})\n",
    "mau.head()"
   ]
  },
  {
   "cell_type": "code",
   "execution_count": 64,
   "metadata": {},
   "outputs": [
    {
     "data": {
      "image/png": "[encoded data removed]",
      "text/plain": [
       "<Figure size 640x480 with 1 Axes>"
      ]
     },
     "metadata": {},
     "output_type": "display_data"
    }
   ],
   "source": [
    "# Строю график для наглядности.\n",
    "plt.plot(mau['Season'], mau['number_unique_users'], marker='o', linestyle='-', color='blue', label='Unique Users')\n",
    "plt.title('Динамика уникальных пользователей по сезонам', fontsize=12)\n",
    "# Не пишу название оси X (Оно понятно интуитивно).\n",
    "plt.ylabel('Количество уникальных пользователей', fontsize=12)\n",
    "# Отображаю сетку на графике и удаляю границы графика.\n",
    "ax.grid(True) \n",
    "sns.despine() \n",
    "# Устанавливаю размер меток для осей.\n",
    "plt.xticks(fontsize=12) \n",
    "plt.yticks(fontsize=12) \n",
    "plt.show()"
   ]
  },
  {
   "cell_type": "code",
   "execution_count": 65,
   "metadata": {},
   "outputs": [],
   "source": [
    "# Создаю колонку динамики mau, устанавливая вместо первого значения 0.\n",
    "mau['user_dynamics'] = mau['number_unique_users'].diff().fillna(0)"
   ]
  },
  {
   "cell_type": "code",
   "execution_count": 66,
   "metadata": {},
   "outputs": [
    {
     "data": {
      "image/png": "[encoded data removed]",
      "text/plain": [
       "<Figure size 640x480 with 1 Axes>"
      ]
     },
     "metadata": {},
     "output_type": "display_data"
    }
   ],
   "source": [
    "# Строю график для наглядности.\n",
    "plt.plot(mau['Season'], mau['user_dynamics'], marker='o', linestyle='-', color='blue', label='Unique Users')\n",
    "plt.title('Динамика уникальных пользователей по сезонам', fontsize=12)\n",
    "plt.ylabel('Количественные изменения', fontsize=12)\n",
    "ax.grid(True) \n",
    "sns.despine() \n",
    "plt.xticks(fontsize=12) \n",
    "plt.yticks(fontsize=12) \n",
    "plt.show()"
   ]
  },
  {
   "cell_type": "code",
   "execution_count": null,
   "metadata": {},
   "outputs": [],
   "source": []
  },
  {
   "cell_type": "code",
   "execution_count": null,
   "metadata": {},
   "outputs": [],
   "source": []
  },
  {
   "cell_type": "markdown",
   "metadata": {},
   "source": [
    "## 6)"
   ]
  },
  {
   "cell_type": "code",
   "execution_count": 67,
   "metadata": {},
   "outputs": [],
   "source": [
    "# Объединяю все названия товаров.\n",
    "combined_names = ''.join(shopping_trends['Item_Purchased'])"
   ]
  },
  {
   "cell_type": "code",
   "execution_count": 68,
   "metadata": {},
   "outputs": [],
   "source": [
    "# Создаю словарь для подсчёта кол-ва букв.\n",
    "count_letters = dict()"
   ]
  },
  {
   "cell_type": "code",
   "execution_count": 69,
   "metadata": {},
   "outputs": [],
   "source": [
    "# Использую цикл for, прохожусь по каждому символу в строке.\n",
    "# Если это буква, то придаю ей нижний регистр.\n",
    "# Если такая буква уже была, то прибавляю к числу встреч +1, если нет, то добавляю в словарь.\n",
    "for letter in combined_names:\n",
    "    if letter.isalpha(): \n",
    "        letter = letter.lower() \n",
    "        if letter in count_letters:\n",
    "            count_letters[letter] += 1\n",
    "        else:\n",
    "            count_letters[letter] = 1"
   ]
  },
  {
   "cell_type": "code",
   "execution_count": 70,
   "metadata": {},
   "outputs": [
    {
     "data": {
      "text/plain": [
       "{'b': 772,\n",
       " 'l': 964,\n",
       " 'o': 1528,\n",
       " 'u': 332,\n",
       " 's': 4063,\n",
       " 'e': 2347,\n",
       " 'w': 335,\n",
       " 'a': 2312,\n",
       " 't': 1896,\n",
       " 'r': 1434,\n",
       " 'j': 458,\n",
       " 'n': 914,\n",
       " 'd': 630,\n",
       " 'k': 911,\n",
       " 'h': 1081,\n",
       " 'i': 625,\n",
       " 'c': 926,\n",
       " 'g': 454,\n",
       " 'p': 314,\n",
       " 'y': 171,\n",
       " 'f': 157,\n",
       " 'v': 140}"
      ]
     },
     "execution_count": 70,
     "metadata": {},
     "output_type": "execute_result"
    }
   ],
   "source": [
    "count_letters"
   ]
  },
  {
   "cell_type": "code",
   "execution_count": 71,
   "metadata": {},
   "outputs": [
    {
     "name": "stdout",
     "output_type": "stream",
     "text": [
      "Самая популярная буква в названии одежды: 's', она встречается 4063 раз\n"
     ]
    }
   ],
   "source": [
    "# С помощью lambda-функции нахожу самую частую букву и кол-во её использвания в названиях товаров.\n",
    "most_popular_letter = sorted(count_letters.items(), key=lambda value: value[1], reverse=True)[0]\n",
    "print(f\"Самая популярная буква в названии одежды: '{most_popular_letter[0]}', она встречается {most_popular_letter[1]} раз\")"
   ]
  },
  {
   "cell_type": "code",
   "execution_count": null,
   "metadata": {},
   "outputs": [],
   "source": []
  },
  {
   "cell_type": "code",
   "execution_count": null,
   "metadata": {},
   "outputs": [],
   "source": []
  },
  {
   "cell_type": "code",
   "execution_count": null,
   "metadata": {},
   "outputs": [],
   "source": []
  },
  {
   "cell_type": "markdown",
   "metadata": {},
   "source": [
    "<h1>Задание 2</h1> "
   ]
  },
  {
   "cell_type": "code",
   "execution_count": 72,
   "metadata": {},
   "outputs": [],
   "source": [
    "drinks = pd.read_csv('drinks.csv')"
   ]
  },
  {
   "cell_type": "code",
   "execution_count": 73,
   "metadata": {},
   "outputs": [
    {
     "data": {
      "text/html": [
       "<div>\n",
       "<style scoped>\n",
       "    .dataframe tbody tr th:only-of-type {\n",
       "        vertical-align: middle;\n",
       "    }\n",
       "\n",
       "    .dataframe tbody tr th {\n",
       "        vertical-align: top;\n",
       "    }\n",
       "\n",
       "    .dataframe thead th {\n",
       "        text-align: right;\n",
       "    }\n",
       "</style>\n",
       "<table border=\"1\" class=\"dataframe\">\n",
       "  <thead>\n",
       "    <tr style=\"text-align: right;\">\n",
       "      <th></th>\n",
       "      <th>country</th>\n",
       "      <th>beer_servings</th>\n",
       "      <th>spirit_servings</th>\n",
       "      <th>wine_servings</th>\n",
       "      <th>total_litres_of_pure_alcohol</th>\n",
       "    </tr>\n",
       "  </thead>\n",
       "  <tbody>\n",
       "    <tr>\n",
       "      <th>0</th>\n",
       "      <td>Afghanistan</td>\n",
       "      <td>0</td>\n",
       "      <td>0</td>\n",
       "      <td>0</td>\n",
       "      <td>0.0</td>\n",
       "    </tr>\n",
       "    <tr>\n",
       "      <th>1</th>\n",
       "      <td>Albania</td>\n",
       "      <td>89</td>\n",
       "      <td>132</td>\n",
       "      <td>54</td>\n",
       "      <td>4.9</td>\n",
       "    </tr>\n",
       "    <tr>\n",
       "      <th>2</th>\n",
       "      <td>Algeria</td>\n",
       "      <td>25</td>\n",
       "      <td>0</td>\n",
       "      <td>14</td>\n",
       "      <td>0.7</td>\n",
       "    </tr>\n",
       "    <tr>\n",
       "      <th>3</th>\n",
       "      <td>Andorra</td>\n",
       "      <td>245</td>\n",
       "      <td>138</td>\n",
       "      <td>312</td>\n",
       "      <td>12.4</td>\n",
       "    </tr>\n",
       "    <tr>\n",
       "      <th>4</th>\n",
       "      <td>Angola</td>\n",
       "      <td>217</td>\n",
       "      <td>57</td>\n",
       "      <td>45</td>\n",
       "      <td>5.9</td>\n",
       "    </tr>\n",
       "  </tbody>\n",
       "</table>\n",
       "</div>"
      ],
      "text/plain": [
       "       country  beer_servings  spirit_servings  wine_servings  \\\n",
       "0  Afghanistan              0                0              0   \n",
       "1      Albania             89              132             54   \n",
       "2      Algeria             25                0             14   \n",
       "3      Andorra            245              138            312   \n",
       "4       Angola            217               57             45   \n",
       "\n",
       "   total_litres_of_pure_alcohol  \n",
       "0                           0.0  \n",
       "1                           4.9  \n",
       "2                           0.7  \n",
       "3                          12.4  \n",
       "4                           5.9  "
      ]
     },
     "execution_count": 73,
     "metadata": {},
     "output_type": "execute_result"
    }
   ],
   "source": [
    "drinks.head()"
   ]
  },
  {
   "cell_type": "code",
   "execution_count": 74,
   "metadata": {},
   "outputs": [
    {
     "data": {
      "text/plain": [
       "(193, 5)"
      ]
     },
     "execution_count": 74,
     "metadata": {},
     "output_type": "execute_result"
    }
   ],
   "source": [
    "drinks.shape"
   ]
  },
  {
   "cell_type": "code",
   "execution_count": 75,
   "metadata": {},
   "outputs": [
    {
     "data": {
      "text/plain": [
       "country                         0\n",
       "beer_servings                   0\n",
       "spirit_servings                 0\n",
       "wine_servings                   0\n",
       "total_litres_of_pure_alcohol    0\n",
       "dtype: int64"
      ]
     },
     "execution_count": 75,
     "metadata": {},
     "output_type": "execute_result"
    }
   ],
   "source": [
    "drinks.isna().sum()"
   ]
  },
  {
   "cell_type": "code",
   "execution_count": 76,
   "metadata": {},
   "outputs": [
    {
     "data": {
      "text/plain": [
       "country                         193\n",
       "beer_servings                   130\n",
       "spirit_servings                 109\n",
       "wine_servings                    79\n",
       "total_litres_of_pure_alcohol     90\n",
       "dtype: int64"
      ]
     },
     "execution_count": 76,
     "metadata": {},
     "output_type": "execute_result"
    }
   ],
   "source": [
    "drinks.nunique()"
   ]
  },
  {
   "cell_type": "code",
   "execution_count": 77,
   "metadata": {},
   "outputs": [
    {
     "name": "stdout",
     "output_type": "stream",
     "text": [
      "<class 'pandas.core.frame.DataFrame'>\n",
      "RangeIndex: 193 entries, 0 to 192\n",
      "Data columns (total 5 columns):\n",
      " #   Column                        Non-Null Count  Dtype  \n",
      "---  ------                        --------------  -----  \n",
      " 0   country                       193 non-null    object \n",
      " 1   beer_servings                 193 non-null    int64  \n",
      " 2   spirit_servings               193 non-null    int64  \n",
      " 3   wine_servings                 193 non-null    int64  \n",
      " 4   total_litres_of_pure_alcohol  193 non-null    float64\n",
      "dtypes: float64(1), int64(3), object(1)\n",
      "memory usage: 7.7+ KB\n"
     ]
    }
   ],
   "source": [
    "drinks.info()"
   ]
  },
  {
   "cell_type": "code",
   "execution_count": 78,
   "metadata": {},
   "outputs": [
    {
     "data": {
      "text/html": [
       "<div>\n",
       "<style scoped>\n",
       "    .dataframe tbody tr th:only-of-type {\n",
       "        vertical-align: middle;\n",
       "    }\n",
       "\n",
       "    .dataframe tbody tr th {\n",
       "        vertical-align: top;\n",
       "    }\n",
       "\n",
       "    .dataframe thead th {\n",
       "        text-align: right;\n",
       "    }\n",
       "</style>\n",
       "<table border=\"1\" class=\"dataframe\">\n",
       "  <thead>\n",
       "    <tr style=\"text-align: right;\">\n",
       "      <th></th>\n",
       "      <th>beer_servings</th>\n",
       "      <th>spirit_servings</th>\n",
       "      <th>wine_servings</th>\n",
       "      <th>total_litres_of_pure_alcohol</th>\n",
       "    </tr>\n",
       "  </thead>\n",
       "  <tbody>\n",
       "    <tr>\n",
       "      <th>count</th>\n",
       "      <td>193.000000</td>\n",
       "      <td>193.000000</td>\n",
       "      <td>193.000000</td>\n",
       "      <td>193.000000</td>\n",
       "    </tr>\n",
       "    <tr>\n",
       "      <th>mean</th>\n",
       "      <td>106.160622</td>\n",
       "      <td>80.994819</td>\n",
       "      <td>49.450777</td>\n",
       "      <td>4.717098</td>\n",
       "    </tr>\n",
       "    <tr>\n",
       "      <th>std</th>\n",
       "      <td>101.143103</td>\n",
       "      <td>88.284312</td>\n",
       "      <td>79.697598</td>\n",
       "      <td>3.773298</td>\n",
       "    </tr>\n",
       "    <tr>\n",
       "      <th>min</th>\n",
       "      <td>0.000000</td>\n",
       "      <td>0.000000</td>\n",
       "      <td>0.000000</td>\n",
       "      <td>0.000000</td>\n",
       "    </tr>\n",
       "    <tr>\n",
       "      <th>25%</th>\n",
       "      <td>20.000000</td>\n",
       "      <td>4.000000</td>\n",
       "      <td>1.000000</td>\n",
       "      <td>1.300000</td>\n",
       "    </tr>\n",
       "    <tr>\n",
       "      <th>50%</th>\n",
       "      <td>76.000000</td>\n",
       "      <td>56.000000</td>\n",
       "      <td>8.000000</td>\n",
       "      <td>4.200000</td>\n",
       "    </tr>\n",
       "    <tr>\n",
       "      <th>75%</th>\n",
       "      <td>188.000000</td>\n",
       "      <td>128.000000</td>\n",
       "      <td>59.000000</td>\n",
       "      <td>7.200000</td>\n",
       "    </tr>\n",
       "    <tr>\n",
       "      <th>max</th>\n",
       "      <td>376.000000</td>\n",
       "      <td>438.000000</td>\n",
       "      <td>370.000000</td>\n",
       "      <td>14.400000</td>\n",
       "    </tr>\n",
       "  </tbody>\n",
       "</table>\n",
       "</div>"
      ],
      "text/plain": [
       "       beer_servings  spirit_servings  wine_servings  \\\n",
       "count     193.000000       193.000000     193.000000   \n",
       "mean      106.160622        80.994819      49.450777   \n",
       "std       101.143103        88.284312      79.697598   \n",
       "min         0.000000         0.000000       0.000000   \n",
       "25%        20.000000         4.000000       1.000000   \n",
       "50%        76.000000        56.000000       8.000000   \n",
       "75%       188.000000       128.000000      59.000000   \n",
       "max       376.000000       438.000000     370.000000   \n",
       "\n",
       "       total_litres_of_pure_alcohol  \n",
       "count                    193.000000  \n",
       "mean                       4.717098  \n",
       "std                        3.773298  \n",
       "min                        0.000000  \n",
       "25%                        1.300000  \n",
       "50%                        4.200000  \n",
       "75%                        7.200000  \n",
       "max                       14.400000  "
      ]
     },
     "execution_count": 78,
     "metadata": {},
     "output_type": "execute_result"
    }
   ],
   "source": [
    "drinks.describe()"
   ]
  },
  {
   "cell_type": "code",
   "execution_count": 79,
   "metadata": {},
   "outputs": [
    {
     "data": {
      "text/html": [
       "<div>\n",
       "<style scoped>\n",
       "    .dataframe tbody tr th:only-of-type {\n",
       "        vertical-align: middle;\n",
       "    }\n",
       "\n",
       "    .dataframe tbody tr th {\n",
       "        vertical-align: top;\n",
       "    }\n",
       "\n",
       "    .dataframe thead th {\n",
       "        text-align: right;\n",
       "    }\n",
       "</style>\n",
       "<table border=\"1\" class=\"dataframe\">\n",
       "  <thead>\n",
       "    <tr style=\"text-align: right;\">\n",
       "      <th></th>\n",
       "      <th>country</th>\n",
       "      <th>beer_servings</th>\n",
       "      <th>spirit_servings</th>\n",
       "      <th>wine_servings</th>\n",
       "      <th>total_litres_of_pure_alcohol</th>\n",
       "    </tr>\n",
       "  </thead>\n",
       "  <tbody>\n",
       "    <tr>\n",
       "      <th>0</th>\n",
       "      <td>Afghanistan</td>\n",
       "      <td>0</td>\n",
       "      <td>0</td>\n",
       "      <td>0</td>\n",
       "      <td>0.0</td>\n",
       "    </tr>\n",
       "    <tr>\n",
       "      <th>1</th>\n",
       "      <td>Albania</td>\n",
       "      <td>89</td>\n",
       "      <td>132</td>\n",
       "      <td>54</td>\n",
       "      <td>4.9</td>\n",
       "    </tr>\n",
       "    <tr>\n",
       "      <th>2</th>\n",
       "      <td>Algeria</td>\n",
       "      <td>25</td>\n",
       "      <td>0</td>\n",
       "      <td>14</td>\n",
       "      <td>0.7</td>\n",
       "    </tr>\n",
       "    <tr>\n",
       "      <th>3</th>\n",
       "      <td>Andorra</td>\n",
       "      <td>245</td>\n",
       "      <td>138</td>\n",
       "      <td>312</td>\n",
       "      <td>12.4</td>\n",
       "    </tr>\n",
       "    <tr>\n",
       "      <th>4</th>\n",
       "      <td>Angola</td>\n",
       "      <td>217</td>\n",
       "      <td>57</td>\n",
       "      <td>45</td>\n",
       "      <td>5.9</td>\n",
       "    </tr>\n",
       "  </tbody>\n",
       "</table>\n",
       "</div>"
      ],
      "text/plain": [
       "       country  beer_servings  spirit_servings  wine_servings  \\\n",
       "0  Afghanistan              0                0              0   \n",
       "1      Albania             89              132             54   \n",
       "2      Algeria             25                0             14   \n",
       "3      Andorra            245              138            312   \n",
       "4       Angola            217               57             45   \n",
       "\n",
       "   total_litres_of_pure_alcohol  \n",
       "0                           0.0  \n",
       "1                           4.9  \n",
       "2                           0.7  \n",
       "3                          12.4  \n",
       "4                           5.9  "
      ]
     },
     "execution_count": 79,
     "metadata": {},
     "output_type": "execute_result"
    }
   ],
   "source": [
    "drinks.head()"
   ]
  },
  {
   "cell_type": "code",
   "execution_count": null,
   "metadata": {},
   "outputs": [],
   "source": []
  },
  {
   "cell_type": "markdown",
   "metadata": {},
   "source": [
    "#### Создаю колонки с количеством выпитого алкоголя по странам, без счёта определённой категории."
   ]
  },
  {
   "cell_type": "code",
   "execution_count": 80,
   "metadata": {},
   "outputs": [],
   "source": [
    "drinks['amount_alcohol_other_beer'] = drinks.spirit_servings + drinks.wine_servings"
   ]
  },
  {
   "cell_type": "code",
   "execution_count": 81,
   "metadata": {},
   "outputs": [],
   "source": [
    "drinks['amount_alcohol_other_spirit'] = drinks.beer_servings + drinks.wine_servings"
   ]
  },
  {
   "cell_type": "code",
   "execution_count": 82,
   "metadata": {},
   "outputs": [],
   "source": [
    "drinks['amount_alcohol_other_wine'] = drinks.beer_servings + drinks.spirit_servings"
   ]
  },
  {
   "cell_type": "code",
   "execution_count": 83,
   "metadata": {},
   "outputs": [
    {
     "data": {
      "text/html": [
       "<div>\n",
       "<style scoped>\n",
       "    .dataframe tbody tr th:only-of-type {\n",
       "        vertical-align: middle;\n",
       "    }\n",
       "\n",
       "    .dataframe tbody tr th {\n",
       "        vertical-align: top;\n",
       "    }\n",
       "\n",
       "    .dataframe thead th {\n",
       "        text-align: right;\n",
       "    }\n",
       "</style>\n",
       "<table border=\"1\" class=\"dataframe\">\n",
       "  <thead>\n",
       "    <tr style=\"text-align: right;\">\n",
       "      <th></th>\n",
       "      <th>country</th>\n",
       "      <th>beer_servings</th>\n",
       "      <th>spirit_servings</th>\n",
       "      <th>wine_servings</th>\n",
       "      <th>total_litres_of_pure_alcohol</th>\n",
       "      <th>amount_alcohol_other_beer</th>\n",
       "      <th>amount_alcohol_other_spirit</th>\n",
       "      <th>amount_alcohol_other_wine</th>\n",
       "    </tr>\n",
       "  </thead>\n",
       "  <tbody>\n",
       "    <tr>\n",
       "      <th>0</th>\n",
       "      <td>Afghanistan</td>\n",
       "      <td>0</td>\n",
       "      <td>0</td>\n",
       "      <td>0</td>\n",
       "      <td>0.0</td>\n",
       "      <td>0</td>\n",
       "      <td>0</td>\n",
       "      <td>0</td>\n",
       "    </tr>\n",
       "    <tr>\n",
       "      <th>1</th>\n",
       "      <td>Albania</td>\n",
       "      <td>89</td>\n",
       "      <td>132</td>\n",
       "      <td>54</td>\n",
       "      <td>4.9</td>\n",
       "      <td>186</td>\n",
       "      <td>143</td>\n",
       "      <td>221</td>\n",
       "    </tr>\n",
       "    <tr>\n",
       "      <th>2</th>\n",
       "      <td>Algeria</td>\n",
       "      <td>25</td>\n",
       "      <td>0</td>\n",
       "      <td>14</td>\n",
       "      <td>0.7</td>\n",
       "      <td>14</td>\n",
       "      <td>39</td>\n",
       "      <td>25</td>\n",
       "    </tr>\n",
       "    <tr>\n",
       "      <th>3</th>\n",
       "      <td>Andorra</td>\n",
       "      <td>245</td>\n",
       "      <td>138</td>\n",
       "      <td>312</td>\n",
       "      <td>12.4</td>\n",
       "      <td>450</td>\n",
       "      <td>557</td>\n",
       "      <td>383</td>\n",
       "    </tr>\n",
       "    <tr>\n",
       "      <th>4</th>\n",
       "      <td>Angola</td>\n",
       "      <td>217</td>\n",
       "      <td>57</td>\n",
       "      <td>45</td>\n",
       "      <td>5.9</td>\n",
       "      <td>102</td>\n",
       "      <td>262</td>\n",
       "      <td>274</td>\n",
       "    </tr>\n",
       "  </tbody>\n",
       "</table>\n",
       "</div>"
      ],
      "text/plain": [
       "       country  beer_servings  spirit_servings  wine_servings  \\\n",
       "0  Afghanistan              0                0              0   \n",
       "1      Albania             89              132             54   \n",
       "2      Algeria             25                0             14   \n",
       "3      Andorra            245              138            312   \n",
       "4       Angola            217               57             45   \n",
       "\n",
       "   total_litres_of_pure_alcohol  amount_alcohol_other_beer  \\\n",
       "0                           0.0                          0   \n",
       "1                           4.9                        186   \n",
       "2                           0.7                         14   \n",
       "3                          12.4                        450   \n",
       "4                           5.9                        102   \n",
       "\n",
       "   amount_alcohol_other_spirit  amount_alcohol_other_wine  \n",
       "0                            0                          0  \n",
       "1                          143                        221  \n",
       "2                           39                         25  \n",
       "3                          557                        383  \n",
       "4                          262                        274  "
      ]
     },
     "execution_count": 83,
     "metadata": {},
     "output_type": "execute_result"
    }
   ],
   "source": [
    "drinks.head()"
   ]
  },
  {
   "cell_type": "code",
   "execution_count": null,
   "metadata": {},
   "outputs": [],
   "source": []
  },
  {
   "cell_type": "markdown",
   "metadata": {},
   "source": [
    "#### Нахожу в каких странах соответственно потребляют больше пива, крепкого алкоголя или вина, чем всего другого алкоголя."
   ]
  },
  {
   "cell_type": "code",
   "execution_count": 84,
   "metadata": {},
   "outputs": [],
   "source": [
    "drink_more_beer = drinks.query('beer_servings > amount_alcohol_other_beer')"
   ]
  },
  {
   "cell_type": "code",
   "execution_count": 85,
   "metadata": {},
   "outputs": [],
   "source": [
    "# Чтобы вывести названия стран, использую ''.join.\n",
    "countries_drink_more_beer = ', '.join(drink_more_beer['country'])"
   ]
  },
  {
   "cell_type": "code",
   "execution_count": 86,
   "metadata": {},
   "outputs": [
    {
     "name": "stdout",
     "output_type": "stream",
     "text": [
      "В этих странах: \n",
      "Algeria, Angola, Austria, Belize, Benin, Bhutan, Bolivia, Botswana, Brazil, Brunei, Burkina Faso, Burundi, Cote d'Ivoire, Cabo Verde, Cameroon, Canada, Central African Republic, Chad, Colombia, Congo, Costa Rica, Czech Republic, DR Congo, Dominican Republic, Ecuador, Egypt, Eritrea, Ethiopia, Fiji, Finland, Gabon, Gambia, Germany, Ghana, Guinea, Iceland, Indonesia, Iraq, Ireland, Kenya, Latvia, Lesotho, Lithuania, Madagascar, Malaysia, Mali, Mauritius, Mexico, Mozambique, Myanmar, Namibia, Nauru, Nigeria, Oman, Palau, Panama, Papua New Guinea, Paraguay, Poland, South Korea, Romania, Rwanda, Samoa, Senegal, Serbia, Seychelles, Sierra Leone, Singapore, Solomon Islands, South Africa, Spain, Swaziland, Togo, Tonga, Trinidad & Tobago, Tunisia, Turkey, Uganda, Tanzania, USA, Venezuela, Vietnam, Yemen, Zambia, Zimbabwe \n",
      "люди больше пьют пиво, чем другие алкогольные напитки\n"
     ]
    }
   ],
   "source": [
    "print(f'В этих странах: \\n{countries_drink_more_beer} \\nлюди больше пьют пиво, чем другие алкогольные напитки')"
   ]
  },
  {
   "cell_type": "code",
   "execution_count": 87,
   "metadata": {},
   "outputs": [],
   "source": [
    "drink_more_spirit = drinks.query('spirit_servings > amount_alcohol_other_spirit')"
   ]
  },
  {
   "cell_type": "code",
   "execution_count": 88,
   "metadata": {},
   "outputs": [],
   "source": [
    "countries_drink_more_spirit = ', '.join(drink_more_spirit['country'])"
   ]
  },
  {
   "cell_type": "code",
   "execution_count": 89,
   "metadata": {},
   "outputs": [
    {
     "name": "stdout",
     "output_type": "stream",
     "text": [
      "В этих странах: \n",
      "Armenia, Azerbaijan, Bahamas, Bahrain, Belarus, Bosnia-Herzegovina, Cambodia, China, Comoros, Cook Islands, Cuba, Djibouti, Dominica, El Salvador, Grenada, Guatemala, Guyana, Haiti, Honduras, India, Jamaica, Japan, Jordan, Kazakhstan, Kiribati, Kyrgyzstan, Lebanon, Liberia, Malawi, Mongolia, Nepal, Nicaragua, Niue, Philippines, Qatar, Moldova, Russian Federation, St. Lucia, St. Vincent & the Grenadines, Saudi Arabia, Sri Lanka, Sudan, Suriname, Syria, Tajikistan, Thailand, Turkmenistan, Tuvalu, United Arab Emirates, Uzbekistan \n",
      "люди больше пьют крепкие алкогольные напитки, чем другие алкогольные напитки\n"
     ]
    }
   ],
   "source": [
    "print(f'В этих странах: \\n{countries_drink_more_spirit} \\nлюди больше пьют крепкие алкогольные напитки, чем другие алкогольные напитки')"
   ]
  },
  {
   "cell_type": "code",
   "execution_count": 90,
   "metadata": {},
   "outputs": [],
   "source": [
    "drink_more_wine = drinks.query('wine_servings > amount_alcohol_other_wine')"
   ]
  },
  {
   "cell_type": "code",
   "execution_count": 91,
   "metadata": {},
   "outputs": [],
   "source": [
    "countries_drink_more_wine = ', '.join(drink_more_wine['country'])"
   ]
  },
  {
   "cell_type": "code",
   "execution_count": 92,
   "metadata": {},
   "outputs": [
    {
     "name": "stdout",
     "output_type": "stream",
     "text": [
      "В этих странах: \n",
      "Argentina, Equatorial Guinea, France, Italy, Laos, Portugal, Sao Tome & Principe, Timor-Leste, Uruguay \n",
      "люди больше пьют вино, чем другие алкогольные напитки\n"
     ]
    }
   ],
   "source": [
    "print(f'В этих странах: \\n{countries_drink_more_wine} \\nлюди больше пьют вино, чем другие алкогольные напитки')"
   ]
  },
  {
   "cell_type": "code",
   "execution_count": null,
   "metadata": {},
   "outputs": [],
   "source": []
  },
  {
   "cell_type": "code",
   "execution_count": null,
   "metadata": {},
   "outputs": [],
   "source": []
  },
  {
   "cell_type": "code",
   "execution_count": null,
   "metadata": {},
   "outputs": [],
   "source": []
  },
  {
   "cell_type": "markdown",
   "metadata": {},
   "source": [
    "<h1>Задание 3</h1> "
   ]
  },
  {
   "cell_type": "code",
   "execution_count": 93,
   "metadata": {},
   "outputs": [],
   "source": [
    "tarantino = pd.read_csv('tarantino.csv')"
   ]
  },
  {
   "cell_type": "code",
   "execution_count": 94,
   "metadata": {},
   "outputs": [
    {
     "data": {
      "text/html": [
       "<div>\n",
       "<style scoped>\n",
       "    .dataframe tbody tr th:only-of-type {\n",
       "        vertical-align: middle;\n",
       "    }\n",
       "\n",
       "    .dataframe tbody tr th {\n",
       "        vertical-align: top;\n",
       "    }\n",
       "\n",
       "    .dataframe thead th {\n",
       "        text-align: right;\n",
       "    }\n",
       "</style>\n",
       "<table border=\"1\" class=\"dataframe\">\n",
       "  <thead>\n",
       "    <tr style=\"text-align: right;\">\n",
       "      <th></th>\n",
       "      <th>movie</th>\n",
       "      <th>type</th>\n",
       "      <th>word</th>\n",
       "      <th>minutes_in</th>\n",
       "    </tr>\n",
       "  </thead>\n",
       "  <tbody>\n",
       "    <tr>\n",
       "      <th>0</th>\n",
       "      <td>Reservoir Dogs</td>\n",
       "      <td>word</td>\n",
       "      <td>dick</td>\n",
       "      <td>0.40</td>\n",
       "    </tr>\n",
       "    <tr>\n",
       "      <th>1</th>\n",
       "      <td>Reservoir Dogs</td>\n",
       "      <td>word</td>\n",
       "      <td>dicks</td>\n",
       "      <td>0.43</td>\n",
       "    </tr>\n",
       "    <tr>\n",
       "      <th>2</th>\n",
       "      <td>Reservoir Dogs</td>\n",
       "      <td>word</td>\n",
       "      <td>fucked</td>\n",
       "      <td>0.55</td>\n",
       "    </tr>\n",
       "    <tr>\n",
       "      <th>3</th>\n",
       "      <td>Reservoir Dogs</td>\n",
       "      <td>word</td>\n",
       "      <td>fucking</td>\n",
       "      <td>0.61</td>\n",
       "    </tr>\n",
       "    <tr>\n",
       "      <th>4</th>\n",
       "      <td>Reservoir Dogs</td>\n",
       "      <td>word</td>\n",
       "      <td>bullshit</td>\n",
       "      <td>0.61</td>\n",
       "    </tr>\n",
       "  </tbody>\n",
       "</table>\n",
       "</div>"
      ],
      "text/plain": [
       "            movie  type      word  minutes_in\n",
       "0  Reservoir Dogs  word      dick        0.40\n",
       "1  Reservoir Dogs  word     dicks        0.43\n",
       "2  Reservoir Dogs  word    fucked        0.55\n",
       "3  Reservoir Dogs  word   fucking        0.61\n",
       "4  Reservoir Dogs  word  bullshit        0.61"
      ]
     },
     "execution_count": 94,
     "metadata": {},
     "output_type": "execute_result"
    }
   ],
   "source": [
    "tarantino.head()"
   ]
  },
  {
   "cell_type": "code",
   "execution_count": 95,
   "metadata": {},
   "outputs": [],
   "source": [
    "tarantino = tarantino.rename(columns={'word':'curse'})"
   ]
  },
  {
   "cell_type": "code",
   "execution_count": 96,
   "metadata": {},
   "outputs": [
    {
     "data": {
      "text/html": [
       "<div>\n",
       "<style scoped>\n",
       "    .dataframe tbody tr th:only-of-type {\n",
       "        vertical-align: middle;\n",
       "    }\n",
       "\n",
       "    .dataframe tbody tr th {\n",
       "        vertical-align: top;\n",
       "    }\n",
       "\n",
       "    .dataframe thead th {\n",
       "        text-align: right;\n",
       "    }\n",
       "</style>\n",
       "<table border=\"1\" class=\"dataframe\">\n",
       "  <thead>\n",
       "    <tr style=\"text-align: right;\">\n",
       "      <th></th>\n",
       "      <th>movie</th>\n",
       "      <th>type</th>\n",
       "      <th>curse</th>\n",
       "      <th>minutes_in</th>\n",
       "    </tr>\n",
       "  </thead>\n",
       "  <tbody>\n",
       "    <tr>\n",
       "      <th>0</th>\n",
       "      <td>Reservoir Dogs</td>\n",
       "      <td>word</td>\n",
       "      <td>dick</td>\n",
       "      <td>0.40</td>\n",
       "    </tr>\n",
       "    <tr>\n",
       "      <th>1</th>\n",
       "      <td>Reservoir Dogs</td>\n",
       "      <td>word</td>\n",
       "      <td>dicks</td>\n",
       "      <td>0.43</td>\n",
       "    </tr>\n",
       "    <tr>\n",
       "      <th>2</th>\n",
       "      <td>Reservoir Dogs</td>\n",
       "      <td>word</td>\n",
       "      <td>fucked</td>\n",
       "      <td>0.55</td>\n",
       "    </tr>\n",
       "    <tr>\n",
       "      <th>3</th>\n",
       "      <td>Reservoir Dogs</td>\n",
       "      <td>word</td>\n",
       "      <td>fucking</td>\n",
       "      <td>0.61</td>\n",
       "    </tr>\n",
       "    <tr>\n",
       "      <th>4</th>\n",
       "      <td>Reservoir Dogs</td>\n",
       "      <td>word</td>\n",
       "      <td>bullshit</td>\n",
       "      <td>0.61</td>\n",
       "    </tr>\n",
       "  </tbody>\n",
       "</table>\n",
       "</div>"
      ],
      "text/plain": [
       "            movie  type     curse  minutes_in\n",
       "0  Reservoir Dogs  word      dick        0.40\n",
       "1  Reservoir Dogs  word     dicks        0.43\n",
       "2  Reservoir Dogs  word    fucked        0.55\n",
       "3  Reservoir Dogs  word   fucking        0.61\n",
       "4  Reservoir Dogs  word  bullshit        0.61"
      ]
     },
     "execution_count": 96,
     "metadata": {},
     "output_type": "execute_result"
    }
   ],
   "source": [
    "tarantino.head()"
   ]
  },
  {
   "cell_type": "code",
   "execution_count": 97,
   "metadata": {},
   "outputs": [
    {
     "data": {
      "text/plain": [
       "(1894, 4)"
      ]
     },
     "execution_count": 97,
     "metadata": {},
     "output_type": "execute_result"
    }
   ],
   "source": [
    "tarantino.shape"
   ]
  },
  {
   "cell_type": "code",
   "execution_count": 98,
   "metadata": {},
   "outputs": [
    {
     "data": {
      "text/plain": [
       "movie           0\n",
       "type            0\n",
       "curse         190\n",
       "minutes_in      0\n",
       "dtype: int64"
      ]
     },
     "execution_count": 98,
     "metadata": {},
     "output_type": "execute_result"
    }
   ],
   "source": [
    "# Есть пустые значения в колонке curse, т.к. тогда были смерти (type=death) а не проклятия.\n",
    "tarantino.isna().sum()"
   ]
  },
  {
   "cell_type": "code",
   "execution_count": 99,
   "metadata": {},
   "outputs": [
    {
     "data": {
      "text/plain": [
       "movie            7\n",
       "type             2\n",
       "curse           60\n",
       "minutes_in    1690\n",
       "dtype: int64"
      ]
     },
     "execution_count": 99,
     "metadata": {},
     "output_type": "execute_result"
    }
   ],
   "source": [
    "tarantino.nunique()"
   ]
  },
  {
   "cell_type": "code",
   "execution_count": 100,
   "metadata": {},
   "outputs": [
    {
     "name": "stdout",
     "output_type": "stream",
     "text": [
      "<class 'pandas.core.frame.DataFrame'>\n",
      "RangeIndex: 1894 entries, 0 to 1893\n",
      "Data columns (total 4 columns):\n",
      " #   Column      Non-Null Count  Dtype  \n",
      "---  ------      --------------  -----  \n",
      " 0   movie       1894 non-null   object \n",
      " 1   type        1894 non-null   object \n",
      " 2   curse       1704 non-null   object \n",
      " 3   minutes_in  1894 non-null   float64\n",
      "dtypes: float64(1), object(3)\n",
      "memory usage: 59.3+ KB\n"
     ]
    }
   ],
   "source": [
    "tarantino.info()"
   ]
  },
  {
   "cell_type": "code",
   "execution_count": 101,
   "metadata": {},
   "outputs": [
    {
     "data": {
      "text/html": [
       "<div>\n",
       "<style scoped>\n",
       "    .dataframe tbody tr th:only-of-type {\n",
       "        vertical-align: middle;\n",
       "    }\n",
       "\n",
       "    .dataframe tbody tr th {\n",
       "        vertical-align: top;\n",
       "    }\n",
       "\n",
       "    .dataframe thead th {\n",
       "        text-align: right;\n",
       "    }\n",
       "</style>\n",
       "<table border=\"1\" class=\"dataframe\">\n",
       "  <thead>\n",
       "    <tr style=\"text-align: right;\">\n",
       "      <th></th>\n",
       "      <th>minutes_in</th>\n",
       "    </tr>\n",
       "  </thead>\n",
       "  <tbody>\n",
       "    <tr>\n",
       "      <th>count</th>\n",
       "      <td>1894.000000</td>\n",
       "    </tr>\n",
       "    <tr>\n",
       "      <th>mean</th>\n",
       "      <td>71.529071</td>\n",
       "    </tr>\n",
       "    <tr>\n",
       "      <th>std</th>\n",
       "      <td>45.075036</td>\n",
       "    </tr>\n",
       "    <tr>\n",
       "      <th>min</th>\n",
       "      <td>0.400000</td>\n",
       "    </tr>\n",
       "    <tr>\n",
       "      <th>25%</th>\n",
       "      <td>29.655000</td>\n",
       "    </tr>\n",
       "    <tr>\n",
       "      <th>50%</th>\n",
       "      <td>70.525000</td>\n",
       "    </tr>\n",
       "    <tr>\n",
       "      <th>75%</th>\n",
       "      <td>112.835000</td>\n",
       "    </tr>\n",
       "    <tr>\n",
       "      <th>max</th>\n",
       "      <td>160.450000</td>\n",
       "    </tr>\n",
       "  </tbody>\n",
       "</table>\n",
       "</div>"
      ],
      "text/plain": [
       "        minutes_in\n",
       "count  1894.000000\n",
       "mean     71.529071\n",
       "std      45.075036\n",
       "min       0.400000\n",
       "25%      29.655000\n",
       "50%      70.525000\n",
       "75%     112.835000\n",
       "max     160.450000"
      ]
     },
     "execution_count": 101,
     "metadata": {},
     "output_type": "execute_result"
    }
   ],
   "source": [
    "tarantino.describe()"
   ]
  },
  {
   "cell_type": "code",
   "execution_count": 102,
   "metadata": {},
   "outputs": [
    {
     "data": {
      "text/html": [
       "<div>\n",
       "<style scoped>\n",
       "    .dataframe tbody tr th:only-of-type {\n",
       "        vertical-align: middle;\n",
       "    }\n",
       "\n",
       "    .dataframe tbody tr th {\n",
       "        vertical-align: top;\n",
       "    }\n",
       "\n",
       "    .dataframe thead th {\n",
       "        text-align: right;\n",
       "    }\n",
       "</style>\n",
       "<table border=\"1\" class=\"dataframe\">\n",
       "  <thead>\n",
       "    <tr style=\"text-align: right;\">\n",
       "      <th></th>\n",
       "      <th>movie</th>\n",
       "      <th>type</th>\n",
       "      <th>curse</th>\n",
       "    </tr>\n",
       "  </thead>\n",
       "  <tbody>\n",
       "    <tr>\n",
       "      <th>count</th>\n",
       "      <td>1894</td>\n",
       "      <td>1894</td>\n",
       "      <td>1704</td>\n",
       "    </tr>\n",
       "    <tr>\n",
       "      <th>unique</th>\n",
       "      <td>7</td>\n",
       "      <td>2</td>\n",
       "      <td>60</td>\n",
       "    </tr>\n",
       "    <tr>\n",
       "      <th>top</th>\n",
       "      <td>Pulp Fiction</td>\n",
       "      <td>word</td>\n",
       "      <td>fucking</td>\n",
       "    </tr>\n",
       "    <tr>\n",
       "      <th>freq</th>\n",
       "      <td>476</td>\n",
       "      <td>1704</td>\n",
       "      <td>407</td>\n",
       "    </tr>\n",
       "  </tbody>\n",
       "</table>\n",
       "</div>"
      ],
      "text/plain": [
       "               movie  type    curse\n",
       "count           1894  1894     1704\n",
       "unique             7     2       60\n",
       "top     Pulp Fiction  word  fucking\n",
       "freq             476  1704      407"
      ]
     },
     "execution_count": 102,
     "metadata": {},
     "output_type": "execute_result"
    }
   ],
   "source": [
    "tarantino.describe(include='object')"
   ]
  },
  {
   "cell_type": "code",
   "execution_count": null,
   "metadata": {},
   "outputs": [],
   "source": []
  },
  {
   "cell_type": "code",
   "execution_count": null,
   "metadata": {},
   "outputs": [],
   "source": []
  },
  {
   "cell_type": "markdown",
   "metadata": {},
   "source": [
    "## 1) "
   ]
  },
  {
   "cell_type": "code",
   "execution_count": 103,
   "metadata": {},
   "outputs": [],
   "source": [
    "# Нахожу для каждого фильма число смертей и проклятий.\n",
    "ratio_by_films = tarantino.groupby('movie', as_index=False) \\\n",
    ".type.value_counts() \\\n",
    ".pivot(index='movie', columns='type', values='count') \\\n",
    ".rename(columns={'word':'curse'}) \\\n",
    ".reset_index()"
   ]
  },
  {
   "cell_type": "code",
   "execution_count": 104,
   "metadata": {},
   "outputs": [],
   "source": [
    "# Нахожу соотношение по фильмам.\n",
    "ratio_by_films['curse_to_death_ratio'] = round(ratio_by_films.death / ratio_by_films.curse, 2)"
   ]
  },
  {
   "cell_type": "code",
   "execution_count": 105,
   "metadata": {},
   "outputs": [
    {
     "name": "stdout",
     "output_type": "stream",
     "text": [
      "В фильме 'Django Unchained' количество смертей: 47, количество проклятий: 262, их соотношение равняется 0.18.\n",
      "В фильме 'Inglorious Basterds' количество смертей: 48, количество проклятий: 58, их соотношение равняется 0.83.\n",
      "В фильме 'Jackie Brown' количество смертей: 4, количество проклятий: 368, их соотношение равняется 0.01.\n",
      "В фильме 'Kill Bill: Vol. 1' количество смертей: 63, количество проклятий: 57, их соотношение равняется 1.11.\n",
      "В фильме 'Kill Bill: Vol. 2' количество смертей: 11, количество проклятий: 69, их соотношение равняется 0.16.\n",
      "В фильме 'Pulp Fiction' количество смертей: 7, количество проклятий: 469, их соотношение равняется 0.01.\n",
      "В фильме 'Reservoir Dogs' количество смертей: 10, количество проклятий: 421, их соотношение равняется 0.02.\n"
     ]
    }
   ],
   "source": [
    "# С помощью итерации по строкам осуществляю красивый вывод.\n",
    "for none, row in ratio_by_films.iterrows():\n",
    "    print(\n",
    "        f\"В фильме '{row['movie']}' количество смертей: {row['death']}, \"\n",
    "        f\"количество проклятий: {row['curse']}, их соотношение равняется {row['curse_to_death_ratio']:.2f}.\"\n",
    "    )"
   ]
  },
  {
   "cell_type": "code",
   "execution_count": 106,
   "metadata": {},
   "outputs": [
    {
     "name": "stdout",
     "output_type": "stream",
     "text": [
      "Корреляция возраста и количества покупок: \n",
      "Коэффициент корреляции Пирсона:-0.6674 \n",
      "Значение p-value: 0.1014\n"
     ]
    }
   ],
   "source": [
    "# Коррелирующие колонки типа int, использую коэффициент корреляции Пирсона:\n",
    "statistic_death_curse, p_death_curse = pearsonr(ratio_by_films['death'], ratio_by_films['curse'])\n",
    "print(f\"Корреляция возраста и количества покупок: \\nКоэффициент корреляции Пирсона:{statistic_death_curse:.4} \\nЗначение p-value: {p_death_curse:.4}\")"
   ]
  },
  {
   "cell_type": "markdown",
   "metadata": {},
   "source": [
    "#### Значение p-value выше заданного уровня значимости (0.05), значит можно сделать вывод, что не существует статистически значимой зависимости между возрастом пользователя и количеством покупок."
   ]
  },
  {
   "cell_type": "code",
   "execution_count": null,
   "metadata": {},
   "outputs": [],
   "source": []
  },
  {
   "cell_type": "code",
   "execution_count": null,
   "metadata": {},
   "outputs": [],
   "source": []
  },
  {
   "cell_type": "markdown",
   "metadata": {},
   "source": [
    "## 2)"
   ]
  },
  {
   "cell_type": "markdown",
   "metadata": {},
   "source": [
    "#### Частота употребления конкретных проклятий в абсолютных значениях."
   ]
  },
  {
   "cell_type": "code",
   "execution_count": 107,
   "metadata": {},
   "outputs": [],
   "source": [
    "frequency_curse_absolute = tarantino.groupby('curse').size().reset_index(name='frequency')"
   ]
  },
  {
   "cell_type": "code",
   "execution_count": 108,
   "metadata": {
    "scrolled": true
   },
   "outputs": [],
   "source": [
    "frequency_curse_absolute = frequency_curse_absolute.sort_values(by='frequency', ascending=False)"
   ]
  },
  {
   "cell_type": "code",
   "execution_count": 109,
   "metadata": {},
   "outputs": [
    {
     "name": "stdout",
     "output_type": "stream",
     "text": [
      "Проклятие 'fucking' использовано 407 раз(а).\n",
      "Проклятие 'shit' использовано 221 раз(а).\n",
      "Проклятие 'fuck' использовано 213 раз(а).\n",
      "Проклятие 'n-word ' использовано 179 раз(а).\n",
      "Проклятие 'ass' использовано 140 раз(а).\n",
      "Проклятие 'goddamn' использовано 113 раз(а).\n",
      "Проклятие 'motherfucker' использовано 70 раз(а).\n",
      "Проклятие 'bitch' использовано 64 раз(а).\n",
      "Проклятие 'hell' использовано 45 раз(а).\n",
      "Проклятие 'damn' использовано 37 раз(а).\n",
      "Проклятие 'motherfucking' использовано 27 раз(а).\n",
      "Проклятие 'fucked' использовано 25 раз(а).\n",
      "Проклятие 'motherfuckers' использовано 15 раз(а).\n",
      "Проклятие 'bullshit' использовано 15 раз(а).\n",
      "Проклятие 'dick' использовано 14 раз(а).\n",
      "Проклятие 'pussy' использовано 11 раз(а).\n",
      "Проклятие 'bastard' использовано 10 раз(а).\n",
      "Проклятие 'asshole' использовано 10 раз(а).\n",
      "Проклятие 'bitches' использовано 9 раз(а).\n",
      "Проклятие 'fucker' использовано 8 раз(а).\n",
      "Проклятие 'dicks' использовано 5 раз(а).\n",
      "Проклятие 'assholes' использовано 5 раз(а).\n",
      "Проклятие 'negro ' использовано 5 раз(а).\n",
      "Проклятие 'asses' использовано 4 раз(а).\n",
      "Проклятие 'shitty' использовано 4 раз(а).\n",
      "Проклятие 'shithead' использовано 3 раз(а).\n",
      "Проклятие 'damned' использовано 3 раз(а).\n",
      "Проклятие 'fucks' использовано 3 раз(а).\n",
      "Проклятие 'wetback' использовано 2 раз(а).\n",
      "Проклятие 'shitload' использовано 2 раз(а).\n",
      "Проклятие 'horseshit' использовано 2 раз(а).\n",
      "Проклятие 'cunt' использовано 2 раз(а).\n",
      "Проклятие 'cocksucker' использовано 2 раз(а).\n",
      "Проклятие 'gooks' использовано 2 раз(а).\n",
      "Проклятие 'japs' использовано 2 раз(а).\n",
      "Проклятие 'fuckers' использовано 1 раз(а).\n",
      "Проклятие 'asshead' использовано 1 раз(а).\n",
      "Проклятие 'bastards' использовано 1 раз(а).\n",
      "Проклятие 'chickenshit' использовано 1 раз(а).\n",
      "Проклятие 'dumbass' использовано 1 раз(а).\n",
      "Проклятие 'faggot' использовано 1 раз(а).\n",
      "Проклятие 'dickless' использовано 1 раз(а).\n",
      "Проклятие 'cunts' использовано 1 раз(а).\n",
      "Проклятие 'cockblockery' использовано 1 раз(а).\n",
      "Проклятие 'fuckhead' использовано 1 раз(а).\n",
      "Проклятие 'fuckface' использовано 1 раз(а).\n",
      "Проклятие 'jackass' использовано 1 раз(а).\n",
      "Проклятие 'jap' использовано 1 раз(а).\n",
      "Проклятие 'horeshit' использовано 1 раз(а).\n",
      "Проклятие 'fuckup' использовано 1 раз(а).\n",
      "Проклятие 'gook' использовано 1 раз(а).\n",
      "Проклятие 'goddamned' использовано 1 раз(а).\n",
      "Проклятие 'merde' использовано 1 раз(а).\n",
      "Проклятие 'jew (verb)' использовано 1 раз(а).\n",
      "Проклятие 'shitless' использовано 1 раз(а).\n",
      "Проклятие 'shittiest' использовано 1 раз(а).\n",
      "Проклятие 'shitting' использовано 1 раз(а).\n",
      "Проклятие 'slope' использовано 1 раз(а).\n",
      "Проклятие 'slut' использовано 1 раз(а).\n",
      "Проклятие 'squaw' использовано 1 раз(а).\n"
     ]
    }
   ],
   "source": [
    "for none, row in frequency_curse_absolute.iterrows():\n",
    "    print(f\"Проклятие '{row['curse']}' использовано {row['frequency']} раз(а).\")"
   ]
  },
  {
   "cell_type": "code",
   "execution_count": 110,
   "metadata": {},
   "outputs": [
    {
     "data": {
      "image/png": "[encoded data removed]",
      "text/plain": [
       "<Figure size 1200x600 with 1 Axes>"
      ]
     },
     "metadata": {},
     "output_type": "display_data"
    }
   ],
   "source": [
    "# Визуализация абсолютного значения (Топ-20).\n",
    "plt.figure(figsize=(12, 6))\n",
    "top_curses_absolute = frequency_curse_absolute.head(20)\n",
    "ax = sns.barplot(x='curse', y='frequency', data=top_curses_absolute, color='red', alpha=0.9, legend=False)\n",
    "ax.set(xlabel='Проклятие', ylabel='Количество проклятий') \n",
    "plt.title('Топ-20 проклятий в фильмах Тарантино в абсолютном значении')\n",
    "plt.xticks(rotation=45)\n",
    "plt.show()"
   ]
  },
  {
   "cell_type": "code",
   "execution_count": null,
   "metadata": {},
   "outputs": [],
   "source": []
  },
  {
   "cell_type": "markdown",
   "metadata": {},
   "source": [
    "#### Частота употребления конкретных проклятий в процентном соотношении относительно всех проклятий."
   ]
  },
  {
   "cell_type": "code",
   "execution_count": 111,
   "metadata": {
    "scrolled": true
   },
   "outputs": [],
   "source": [
    "frequency_curse_proportion = tarantino.curse.value_counts(normalize=True).mul(100).reset_index()"
   ]
  },
  {
   "cell_type": "code",
   "execution_count": 112,
   "metadata": {},
   "outputs": [
    {
     "name": "stdout",
     "output_type": "stream",
     "text": [
      "Проклятие 'fucking' занимает 23.88% от всех проклятий.\n",
      "Проклятие 'shit' занимает 12.97% от всех проклятий.\n",
      "Проклятие 'fuck' занимает 12.5% от всех проклятий.\n",
      "Проклятие 'n-word ' занимает 10.5% от всех проклятий.\n",
      "Проклятие 'ass' занимает 8.22% от всех проклятий.\n",
      "Проклятие 'goddamn' занимает 6.63% от всех проклятий.\n",
      "Проклятие 'motherfucker' занимает 4.11% от всех проклятий.\n",
      "Проклятие 'bitch' занимает 3.76% от всех проклятий.\n",
      "Проклятие 'hell' занимает 2.64% от всех проклятий.\n",
      "Проклятие 'damn' занимает 2.17% от всех проклятий.\n",
      "Проклятие 'motherfucking' занимает 1.58% от всех проклятий.\n",
      "Проклятие 'fucked' занимает 1.47% от всех проклятий.\n",
      "Проклятие 'motherfuckers' занимает 0.88% от всех проклятий.\n",
      "Проклятие 'bullshit' занимает 0.88% от всех проклятий.\n",
      "Проклятие 'dick' занимает 0.82% от всех проклятий.\n",
      "Проклятие 'pussy' занимает 0.65% от всех проклятий.\n",
      "Проклятие 'bastard' занимает 0.59% от всех проклятий.\n",
      "Проклятие 'asshole' занимает 0.59% от всех проклятий.\n",
      "Проклятие 'bitches' занимает 0.53% от всех проклятий.\n",
      "Проклятие 'fucker' занимает 0.47% от всех проклятий.\n",
      "Проклятие 'assholes' занимает 0.29% от всех проклятий.\n",
      "Проклятие 'dicks' занимает 0.29% от всех проклятий.\n",
      "Проклятие 'negro ' занимает 0.29% от всех проклятий.\n",
      "Проклятие 'asses' занимает 0.23% от всех проклятий.\n",
      "Проклятие 'shitty' занимает 0.23% от всех проклятий.\n",
      "Проклятие 'shithead' занимает 0.18% от всех проклятий.\n",
      "Проклятие 'damned' занимает 0.18% от всех проклятий.\n",
      "Проклятие 'fucks' занимает 0.18% от всех проклятий.\n",
      "Проклятие 'shitload' занимает 0.12% от всех проклятий.\n",
      "Проклятие 'horseshit' занимает 0.12% от всех проклятий.\n",
      "Проклятие 'japs' занимает 0.12% от всех проклятий.\n",
      "Проклятие 'gooks' занимает 0.12% от всех проклятий.\n",
      "Проклятие 'cunt' занимает 0.12% от всех проклятий.\n",
      "Проклятие 'cocksucker' занимает 0.12% от всех проклятий.\n",
      "Проклятие 'wetback' занимает 0.12% от всех проклятий.\n",
      "Проклятие 'jap' занимает 0.06% от всех проклятий.\n",
      "Проклятие 'asshead' занимает 0.06% от всех проклятий.\n",
      "Проклятие 'fuckup' занимает 0.06% от всех проклятий.\n",
      "Проклятие 'chickenshit' занимает 0.06% от всех проклятий.\n",
      "Проклятие 'slope' занимает 0.06% от всех проклятий.\n",
      "Проклятие 'dickless' занимает 0.06% от всех проклятий.\n",
      "Проклятие 'fuckers' занимает 0.06% от всех проклятий.\n",
      "Проклятие 'gook' занимает 0.06% от всех проклятий.\n",
      "Проклятие 'faggot' занимает 0.06% от всех проклятий.\n",
      "Проклятие 'fuckface' занимает 0.06% от всех проклятий.\n",
      "Проклятие 'cunts' занимает 0.06% от всех проклятий.\n",
      "Проклятие 'fuckhead' занимает 0.06% от всех проклятий.\n",
      "Проклятие 'merde' занимает 0.06% от всех проклятий.\n",
      "Проклятие 'bastards' занимает 0.06% от всех проклятий.\n",
      "Проклятие 'horeshit' занимает 0.06% от всех проклятий.\n",
      "Проклятие 'jew (verb)' занимает 0.06% от всех проклятий.\n",
      "Проклятие 'cockblockery' занимает 0.06% от всех проклятий.\n",
      "Проклятие 'shitting' занимает 0.06% от всех проклятий.\n",
      "Проклятие 'shitless' занимает 0.06% от всех проклятий.\n",
      "Проклятие 'squaw' занимает 0.06% от всех проклятий.\n",
      "Проклятие 'slut' занимает 0.06% от всех проклятий.\n",
      "Проклятие 'jackass' занимает 0.06% от всех проклятий.\n",
      "Проклятие 'goddamned' занимает 0.06% от всех проклятий.\n",
      "Проклятие 'shittiest' занимает 0.06% от всех проклятий.\n",
      "Проклятие 'dumbass' занимает 0.06% от всех проклятий.\n"
     ]
    }
   ],
   "source": [
    "for none, row in frequency_curse_proportion.iterrows():\n",
    "    print(f\"Проклятие '{row['curse']}' занимает {round(row['proportion'], 2)}% от всех проклятий.\")"
   ]
  },
  {
   "cell_type": "code",
   "execution_count": 113,
   "metadata": {},
   "outputs": [
    {
     "data": {
      "image/png": "[encoded data removed]",
      "text/plain": [
       "<Figure size 1200x600 with 1 Axes>"
      ]
     },
     "metadata": {},
     "output_type": "display_data"
    }
   ],
   "source": [
    "# Визуализация относительных значений (Топ-20).\n",
    "plt.figure(figsize=(12, 6))\n",
    "top_curses_proportion = frequency_curse_proportion.head(20)\n",
    "ax = sns.barplot(x='curse', y='proportion', data=top_curses_proportion, color='red', alpha=0.9, legend=False)\n",
    "ax.set(xlabel='Проклятие', ylabel='Процент проклятий') \n",
    "plt.title('Топ-20 проклятий в фильмах Тарантино в относительном значении')\n",
    "plt.xticks(rotation=45)\n",
    "plt.show()"
   ]
  },
  {
   "cell_type": "code",
   "execution_count": null,
   "metadata": {},
   "outputs": [],
   "source": []
  },
  {
   "cell_type": "code",
   "execution_count": null,
   "metadata": {},
   "outputs": [],
   "source": []
  },
  {
   "cell_type": "markdown",
   "metadata": {},
   "source": [
    "## 3)"
   ]
  },
  {
   "cell_type": "code",
   "execution_count": 114,
   "metadata": {},
   "outputs": [],
   "source": [
    "distribution_time_between_curses = tarantino.query('type == \"word\"').groupby('movie')['minutes_in'].apply(lambda x: round(x.diff(), 2)).reset_index()"
   ]
  },
  {
   "cell_type": "code",
   "execution_count": 115,
   "metadata": {},
   "outputs": [],
   "source": [
    "distribution_time_between_curses = distribution_time_between_curses.groupby('minutes_in').size().reset_index(name='count')"
   ]
  },
  {
   "cell_type": "code",
   "execution_count": 116,
   "metadata": {},
   "outputs": [],
   "source": [
    "distribution_time_between_curses = distribution_time_between_curses.sort_values(by='count', ascending=False)"
   ]
  },
  {
   "cell_type": "code",
   "execution_count": 117,
   "metadata": {
    "scrolled": true
   },
   "outputs": [
    {
     "name": "stdout",
     "output_type": "stream",
     "text": [
      "Спустя 0.05 минут(ы) произносилось в сумме 142 проклятия(е).\n",
      "Спустя 0.02 минут(ы) произносилось в сумме 119 проклятия(е).\n",
      "Спустя 0.03 минут(ы) произносилось в сумме 112 проклятия(е).\n",
      "Спустя 0.1 минут(ы) произносилось в сумме 86 проклятия(е).\n",
      "Спустя 0.0 минут(ы) произносилось в сумме 81 проклятия(е).\n",
      "Спустя 0.07 минут(ы) произносилось в сумме 67 проклятия(е).\n",
      "Спустя 0.01 минут(ы) произносилось в сумме 66 проклятия(е).\n",
      "Спустя 0.04 минут(ы) произносилось в сумме 59 проклятия(е).\n",
      "Спустя 0.08 минут(ы) произносилось в сумме 51 проклятия(е).\n",
      "Спустя 0.12 минут(ы) произносилось в сумме 40 проклятия(е).\n",
      "Спустя 0.15 минут(ы) произносилось в сумме 40 проклятия(е).\n",
      "Спустя 0.06 минут(ы) произносилось в сумме 35 проклятия(е).\n",
      "Спустя 0.25 минут(ы) произносилось в сумме 32 проклятия(е).\n",
      "Спустя 0.13 минут(ы) произносилось в сумме 30 проклятия(е).\n",
      "Спустя 0.09 минут(ы) произносилось в сумме 25 проклятия(е).\n",
      "Спустя 0.17 минут(ы) произносилось в сумме 25 проклятия(е).\n",
      "Спустя 0.14 минут(ы) произносилось в сумме 24 проклятия(е).\n",
      "Спустя 0.2 минут(ы) произносилось в сумме 21 проклятия(е).\n",
      "Спустя 0.11 минут(ы) произносилось в сумме 20 проклятия(е).\n",
      "Спустя 0.18 минут(ы) произносилось в сумме 17 проклятия(е).\n",
      "Спустя 0.4 минут(ы) произносилось в сумме 17 проклятия(е).\n",
      "Спустя 0.23 минут(ы) произносилось в сумме 16 проклятия(е).\n",
      "Спустя 0.28 минут(ы) произносилось в сумме 15 проклятия(е).\n",
      "Спустя 0.22 минут(ы) произносилось в сумме 15 проклятия(е).\n",
      "Спустя 0.32 минут(ы) произносилось в сумме 12 проклятия(е).\n",
      "Спустя 0.37 минут(ы) произносилось в сумме 12 проклятия(е).\n",
      "Спустя 0.3 минут(ы) произносилось в сумме 12 проклятия(е).\n",
      "Спустя 0.65 минут(ы) произносилось в сумме 12 проклятия(е).\n",
      "Спустя 0.27 минут(ы) произносилось в сумме 11 проклятия(е).\n",
      "Спустя 0.33 минут(ы) произносилось в сумме 11 проклятия(е).\n",
      "Спустя 0.5 минут(ы) произносилось в сумме 11 проклятия(е).\n",
      "Спустя 0.35 минут(ы) произносилось в сумме 11 проклятия(е).\n",
      "Спустя 0.16 минут(ы) произносилось в сумме 11 проклятия(е).\n",
      "Спустя 0.41 минут(ы) произносилось в сумме 11 проклятия(е).\n",
      "Спустя 0.45 минут(ы) произносилось в сумме 10 проклятия(е).\n",
      "Спустя 0.19 минут(ы) произносилось в сумме 9 проклятия(е).\n",
      "Спустя 0.55 минут(ы) произносилось в сумме 8 проклятия(е).\n",
      "Спустя 0.29 минут(ы) произносилось в сумме 8 проклятия(е).\n",
      "Спустя 0.98 минут(ы) произносилось в сумме 8 проклятия(е).\n",
      "Спустя 0.52 минут(ы) произносилось в сумме 7 проклятия(е).\n",
      "Спустя 0.47 минут(ы) произносилось в сумме 7 проклятия(е).\n",
      "Спустя 0.31 минут(ы) произносилось в сумме 7 проклятия(е).\n",
      "Спустя 0.7 минут(ы) произносилось в сумме 7 проклятия(е).\n",
      "Спустя 0.62 минут(ы) произносилось в сумме 6 проклятия(е).\n",
      "Спустя 0.6 минут(ы) произносилось в сумме 6 проклятия(е).\n",
      "Спустя 0.67 минут(ы) произносилось в сумме 6 проклятия(е).\n",
      "Спустя 0.21 минут(ы) произносилось в сумме 6 проклятия(е).\n",
      "Спустя 0.46 минут(ы) произносилось в сумме 6 проклятия(е).\n",
      "Спустя 0.24 минут(ы) произносилось в сумме 6 проклятия(е).\n",
      "Спустя 0.42 минут(ы) произносилось в сумме 5 проклятия(е).\n",
      "Спустя 0.53 минут(ы) произносилось в сумме 5 проклятия(е).\n",
      "Спустя 0.38 минут(ы) произносилось в сумме 5 проклятия(е).\n",
      "Спустя 0.34 минут(ы) произносилось в сумме 5 проклятия(е).\n",
      "Спустя 0.39 минут(ы) произносилось в сумме 5 проклятия(е).\n",
      "Спустя 0.58 минут(ы) произносилось в сумме 5 проклятия(е).\n",
      "Спустя 0.75 минут(ы) произносилось в сумме 5 проклятия(е).\n",
      "Спустя 0.51 минут(ы) произносилось в сумме 4 проклятия(е).\n",
      "Спустя 0.43 минут(ы) произносилось в сумме 4 проклятия(е).\n",
      "Спустя 1.07 минут(ы) произносилось в сумме 4 проклятия(е).\n",
      "Спустя 0.68 минут(ы) произносилось в сумме 4 проклятия(е).\n",
      "Спустя 2.8 минут(ы) произносилось в сумме 4 проклятия(е).\n",
      "Спустя 1.3 минут(ы) произносилось в сумме 4 проклятия(е).\n",
      "Спустя 0.83 минут(ы) произносилось в сумме 3 проклятия(е).\n",
      "Спустя 0.95 минут(ы) произносилось в сумме 3 проклятия(е).\n",
      "Спустя 0.9 минут(ы) произносилось в сумме 3 проклятия(е).\n",
      "Спустя 1.08 минут(ы) произносилось в сумме 3 проклятия(е).\n",
      "Спустя 0.36 минут(ы) произносилось в сумме 3 проклятия(е).\n",
      "Спустя 0.49 минут(ы) произносилось в сумме 3 проклятия(е).\n",
      "Спустя 1.11 минут(ы) произносилось в сумме 3 проклятия(е).\n",
      "Спустя 1.15 минут(ы) произносилось в сумме 3 проклятия(е).\n",
      "Спустя 0.8 минут(ы) произносилось в сумме 3 проклятия(е).\n",
      "Спустя 1.57 минут(ы) произносилось в сумме 3 проклятия(е).\n",
      "Спустя 0.78 минут(ы) произносилось в сумме 3 проклятия(е).\n",
      "Спустя 0.44 минут(ы) произносилось в сумме 3 проклятия(е).\n",
      "Спустя 1.33 минут(ы) произносилось в сумме 3 проклятия(е).\n",
      "Спустя 1.2 минут(ы) произносилось в сумме 2 проклятия(е).\n",
      "Спустя 1.19 минут(ы) произносилось в сумме 2 проклятия(е).\n",
      "Спустя 1.04 минут(ы) произносилось в сумме 2 проклятия(е).\n",
      "Спустя 1.25 минут(ы) произносилось в сумме 2 проклятия(е).\n",
      "Спустя 0.79 минут(ы) произносилось в сумме 2 проклятия(е).\n",
      "Спустя 0.76 минут(ы) произносилось в сумме 2 проклятия(е).\n",
      "Спустя 0.72 минут(ы) произносилось в сумме 2 проклятия(е).\n",
      "Спустя 0.87 минут(ы) произносилось в сумме 2 проклятия(е).\n",
      "Спустя 0.82 минут(ы) произносилось в сумме 2 проклятия(е).\n",
      "Спустя 0.85 минут(ы) произносилось в сумме 2 проклятия(е).\n",
      "Спустя 0.61 минут(ы) произносилось в сумме 2 проклятия(е).\n",
      "Спустя 0.84 минут(ы) произносилось в сумме 2 проклятия(е).\n",
      "Спустя 0.48 минут(ы) произносилось в сумме 2 проклятия(е).\n",
      "Спустя -0.97 минут(ы) произносилось в сумме 2 проклятия(е).\n",
      "Спустя 0.26 минут(ы) произносилось в сумме 2 проклятия(е).\n",
      "Спустя 0.97 минут(ы) произносилось в сумме 2 проклятия(е).\n",
      "Спустя 1.0 минут(ы) произносилось в сумме 2 проклятия(е).\n",
      "Спустя 0.94 минут(ы) произносилось в сумме 2 проклятия(е).\n",
      "Спустя 1.09 минут(ы) произносилось в сумме 2 проклятия(е).\n",
      "Спустя 1.05 минут(ы) произносилось в сумме 2 проклятия(е).\n",
      "Спустя 0.96 минут(ы) произносилось в сумме 2 проклятия(е).\n",
      "Спустя 0.92 минут(ы) произносилось в сумме 2 проклятия(е).\n",
      "Спустя 0.88 минут(ы) произносилось в сумме 2 проклятия(е).\n",
      "Спустя 0.93 минут(ы) произносилось в сумме 2 проклятия(е).\n",
      "Спустя 2.73 минут(ы) произносилось в сумме 2 проклятия(е).\n",
      "Спустя 2.9 минут(ы) произносилось в сумме 2 проклятия(е).\n",
      "Спустя 2.0 минут(ы) произносилось в сумме 2 проклятия(е).\n",
      "Спустя 2.26 минут(ы) произносилось в сумме 2 проклятия(е).\n",
      "Спустя 2.38 минут(ы) произносилось в сумме 2 проклятия(е).\n",
      "Спустя 2.83 минут(ы) произносилось в сумме 2 проклятия(е).\n",
      "Спустя 2.2 минут(ы) произносилось в сумме 2 проклятия(е).\n",
      "Спустя 1.37 минут(ы) произносилось в сумме 2 проклятия(е).\n",
      "Спустя 1.93 минут(ы) произносилось в сумме 2 проклятия(е).\n",
      "Спустя 2.05 минут(ы) произносилось в сумме 2 проклятия(е).\n",
      "Спустя 1.72 минут(ы) произносилось в сумме 2 проклятия(е).\n",
      "Спустя 1.9 минут(ы) произносилось в сумме 2 проклятия(е).\n",
      "Спустя 1.85 минут(ы) произносилось в сумме 2 проклятия(е).\n",
      "Спустя 1.77 минут(ы) произносилось в сумме 2 проклятия(е).\n",
      "Спустя 1.8 минут(ы) произносилось в сумме 2 проклятия(е).\n",
      "Спустя 1.32 минут(ы) произносилось в сумме 2 проклятия(е).\n",
      "Спустя 1.58 минут(ы) произносилось в сумме 2 проклятия(е).\n",
      "Спустя 1.63 минут(ы) произносилось в сумме 2 проклятия(е).\n",
      "Спустя 1.52 минут(ы) произносилось в сумме 2 проклятия(е).\n",
      "Спустя 0.56 минут(ы) произносилось в сумме 2 проклятия(е).\n",
      "Спустя 0.63 минут(ы) произносилось в сумме 2 проклятия(е).\n",
      "Спустя 0.54 минут(ы) произносилось в сумме 2 проклятия(е).\n",
      "Спустя 0.59 минут(ы) произносилось в сумме 2 проклятия(е).\n",
      "Спустя 4.6 минут(ы) произносилось в сумме 2 проклятия(е).\n",
      "Спустя 1.24 минут(ы) произносилось в сумме 1 проклятия(е).\n",
      "Спустя 1.14 минут(ы) произносилось в сумме 1 проклятия(е).\n",
      "Спустя 1.23 минут(ы) произносилось в сумме 1 проклятия(е).\n",
      "Спустя 1.06 минут(ы) произносилось в сумме 1 проклятия(е).\n",
      "Спустя 1.1 минут(ы) произносилось в сумме 1 проклятия(е).\n",
      "Спустя 0.99 минут(ы) произносилось в сумме 1 проклятия(е).\n",
      "Спустя 1.17 минут(ы) произносилось в сумме 1 проклятия(е).\n",
      "Спустя 0.91 минут(ы) произносилось в сумме 1 проклятия(е).\n",
      "Спустя 0.89 минут(ы) произносилось в сумме 1 проклятия(е).\n",
      "Спустя 0.86 минут(ы) произносилось в сумме 1 проклятия(е).\n",
      "Спустя 0.73 минут(ы) произносилось в сумме 1 проклятия(е).\n",
      "Спустя 0.77 минут(ы) произносилось в сумме 1 проклятия(е).\n",
      "Спустя 0.74 минут(ы) произносилось в сумме 1 проклятия(е).\n",
      "Спустя 0.71 минут(ы) произносилось в сумме 1 проклятия(е).\n",
      "Спустя 0.81 минут(ы) произносилось в сумме 1 проклятия(е).\n",
      "Спустя 0.69 минут(ы) произносилось в сумме 1 проклятия(е).\n",
      "Спустя 0.66 минут(ы) произносилось в сумме 1 проклятия(е).\n",
      "Спустя 0.57 минут(ы) произносилось в сумме 1 проклятия(е).\n",
      "Спустя -0.19 минут(ы) произносилось в сумме 1 проклятия(е).\n",
      "Спустя -0.65 минут(ы) произносилось в сумме 1 проклятия(е).\n",
      "Спустя -0.13 минут(ы) произносилось в сумме 1 проклятия(е).\n",
      "Спустя -0.49 минут(ы) произносилось в сумме 1 проклятия(е).\n",
      "Спустя 1.03 минут(ы) произносилось в сумме 1 проклятия(е).\n",
      "Спустя 1.54 минут(ы) произносилось в сумме 1 проклятия(е).\n",
      "Спустя 1.5 минут(ы) произносилось в сумме 1 проклятия(е).\n",
      "Спустя 1.47 минут(ы) произносилось в сумме 1 проклятия(е).\n",
      "Спустя 1.45 минут(ы) произносилось в сумме 1 проклятия(е).\n",
      "Спустя 1.42 минут(ы) произносилось в сумме 1 проклятия(е).\n",
      "Спустя 1.27 минут(ы) произносилось в сумме 1 проклятия(е).\n",
      "Спустя 1.35 минут(ы) произносилось в сумме 1 проклятия(е).\n",
      "Спустя 1.44 минут(ы) произносилось в сумме 1 проклятия(е).\n",
      "Спустя 1.82 минут(ы) произносилось в сумме 1 проклятия(е).\n",
      "Спустя 1.83 минут(ы) произносилось в сумме 1 проклятия(е).\n",
      "Спустя 1.76 минут(ы) произносилось в сумме 1 проклятия(е).\n",
      "Спустя 1.75 минут(ы) произносилось в сумме 1 проклятия(е).\n",
      "Спустя 1.56 минут(ы) произносилось в сумме 1 проклятия(е).\n",
      "Спустя 1.67 минут(ы) произносилось в сумме 1 проклятия(е).\n",
      "Спустя 1.7 минут(ы) произносилось в сумме 1 проклятия(е).\n",
      "Спустя 1.73 минут(ы) произносилось в сумме 1 проклятия(е).\n",
      "Спустя 1.39 минут(ы) произносилось в сумме 1 проклятия(е).\n",
      "Спустя 1.4 минут(ы) произносилось в сумме 1 проклятия(е).\n",
      "Спустя 2.07 минут(ы) произносилось в сумме 1 проклятия(е).\n",
      "Спустя 2.15 минут(ы) произносилось в сумме 1 проклятия(е).\n",
      "Спустя 2.13 минут(ы) произносилось в сумме 1 проклятия(е).\n",
      "Спустя 2.1 минут(ы) произносилось в сумме 1 проклятия(е).\n",
      "Спустя 2.02 минут(ы) произносилось в сумме 1 проклятия(е).\n",
      "Спустя 1.95 минут(ы) произносилось в сумме 1 проклятия(е).\n",
      "Спустя 2.43 минут(ы) произносилось в сумме 1 проклятия(е).\n",
      "Спустя 2.33 минут(ы) произносилось в сумме 1 проклятия(е).\n",
      "Спустя 2.31 минут(ы) произносилось в сумме 1 проклятия(е).\n",
      "Спустя 2.23 минут(ы) произносилось в сумме 1 проклятия(е).\n",
      "Спустя 2.46 минут(ы) произносилось в сумме 1 проклятия(е).\n",
      "Спустя 2.48 минут(ы) произносилось в сумме 1 проклятия(е).\n",
      "Спустя 2.52 минут(ы) произносилось в сумме 1 проклятия(е).\n",
      "Спустя 2.53 минут(ы) произносилось в сумме 1 проклятия(е).\n",
      "Спустя 2.72 минут(ы) произносилось в сумме 1 проклятия(е).\n",
      "Спустя 2.71 минут(ы) произносилось в сумме 1 проклятия(е).\n",
      "Спустя 2.6 минут(ы) произносилось в сумме 1 проклятия(е).\n",
      "Спустя 2.55 минут(ы) произносилось в сумме 1 проклятия(е).\n",
      "Спустя 2.77 минут(ы) произносилось в сумме 1 проклятия(е).\n",
      "Спустя 2.75 минут(ы) произносилось в сумме 1 проклятия(е).\n",
      "Спустя 2.85 минут(ы) произносилось в сумме 1 проклятия(е).\n",
      "Спустя 1.34 минут(ы) произносилось в сумме 1 проклятия(е).\n",
      "Спустя 2.86 минут(ы) произносилось в сумме 1 проклятия(е).\n",
      "Спустя 2.91 минут(ы) произносилось в сумме 1 проклятия(е).\n",
      "Спустя 2.95 минут(ы) произносилось в сумме 1 проклятия(е).\n",
      "Спустя 2.94 минут(ы) произносилось в сумме 1 проклятия(е).\n",
      "Спустя 3.0 минут(ы) произносилось в сумме 1 проклятия(е).\n",
      "Спустя 3.04 минут(ы) произносилось в сумме 1 проклятия(е).\n",
      "Спустя 3.2 минут(ы) произносилось в сумме 1 проклятия(е).\n",
      "Спустя 2.98 минут(ы) произносилось в сумме 1 проклятия(е).\n",
      "Спустя 3.23 минут(ы) произносилось в сумме 1 проклятия(е).\n",
      "Спустя 3.31 минут(ы) произносилось в сумме 1 проклятия(е).\n",
      "Спустя 3.38 минут(ы) произносилось в сумме 1 проклятия(е).\n",
      "Спустя 3.43 минут(ы) произносилось в сумме 1 проклятия(е).\n",
      "Спустя 3.44 минут(ы) произносилось в сумме 1 проклятия(е).\n",
      "Спустя 3.5 минут(ы) произносилось в сумме 1 проклятия(е).\n",
      "Спустя 3.51 минут(ы) произносилось в сумме 1 проклятия(е).\n",
      "Спустя 3.21 минут(ы) произносилось в сумме 1 проклятия(е).\n",
      "Спустя 3.55 минут(ы) произносилось в сумме 1 проклятия(е).\n",
      "Спустя 3.56 минут(ы) произносилось в сумме 1 проклятия(е).\n",
      "Спустя 3.57 минут(ы) произносилось в сумме 1 проклятия(е).\n",
      "Спустя 3.61 минут(ы) произносилось в сумме 1 проклятия(е).\n",
      "Спустя 3.65 минут(ы) произносилось в сумме 1 проклятия(е).\n",
      "Спустя 3.75 минут(ы) произносилось в сумме 1 проклятия(е).\n",
      "Спустя 3.76 минут(ы) произносилось в сумме 1 проклятия(е).\n",
      "Спустя 3.78 минут(ы) произносилось в сумме 1 проклятия(е).\n",
      "Спустя 3.85 минут(ы) произносилось в сумме 1 проклятия(е).\n",
      "Спустя 3.95 минут(ы) произносилось в сумме 1 проклятия(е).\n",
      "Спустя 4.02 минут(ы) произносилось в сумме 1 проклятия(е).\n",
      "Спустя 4.05 минут(ы) произносилось в сумме 1 проклятия(е).\n",
      "Спустя 4.12 минут(ы) произносилось в сумме 1 проклятия(е).\n",
      "Спустя 4.15 минут(ы) произносилось в сумме 1 проклятия(е).\n",
      "Спустя 4.19 минут(ы) произносилось в сумме 1 проклятия(е).\n",
      "Спустя 3.54 минут(ы) произносилось в сумме 1 проклятия(е).\n",
      "Спустя 4.25 минут(ы) произносилось в сумме 1 проклятия(е).\n",
      "Спустя 4.27 минут(ы) произносилось в сумме 1 проклятия(е).\n",
      "Спустя 4.29 минут(ы) произносилось в сумме 1 проклятия(е).\n",
      "Спустя 4.28 минут(ы) произносилось в сумме 1 проклятия(е).\n",
      "Спустя 4.35 минут(ы) произносилось в сумме 1 проклятия(е).\n",
      "Спустя 4.59 минут(ы) произносилось в сумме 1 проклятия(е).\n",
      "Спустя 4.76 минут(ы) произносилось в сумме 1 проклятия(е).\n",
      "Спустя 4.78 минут(ы) произносилось в сумме 1 проклятия(е).\n",
      "Спустя 4.95 минут(ы) произносилось в сумме 1 проклятия(е).\n",
      "Спустя 4.97 минут(ы) произносилось в сумме 1 проклятия(е).\n",
      "Спустя 5.32 минут(ы) произносилось в сумме 1 проклятия(е).\n",
      "Спустя 5.88 минут(ы) произносилось в сумме 1 проклятия(е).\n",
      "Спустя 6.34 минут(ы) произносилось в сумме 1 проклятия(е).\n",
      "Спустя 6.45 минут(ы) произносилось в сумме 1 проклятия(е).\n",
      "Спустя 6.63 минут(ы) произносилось в сумме 1 проклятия(е).\n",
      "Спустя 6.65 минут(ы) произносилось в сумме 1 проклятия(е).\n",
      "Спустя 7.65 минут(ы) произносилось в сумме 1 проклятия(е).\n",
      "Спустя 8.38 минут(ы) произносилось в сумме 1 проклятия(е).\n",
      "Спустя 8.69 минут(ы) произносилось в сумме 1 проклятия(е).\n",
      "Спустя 9.1 минут(ы) произносилось в сумме 1 проклятия(е).\n",
      "Спустя 9.35 минут(ы) произносилось в сумме 1 проклятия(е).\n",
      "Спустя 10.1 минут(ы) произносилось в сумме 1 проклятия(е).\n",
      "Спустя 11.14 минут(ы) произносилось в сумме 1 проклятия(е).\n",
      "Спустя 11.23 минут(ы) произносилось в сумме 1 проклятия(е).\n",
      "Спустя 11.55 минут(ы) произносилось в сумме 1 проклятия(е).\n",
      "Спустя 11.92 минут(ы) произносилось в сумме 1 проклятия(е).\n",
      "Спустя 12.87 минут(ы) произносилось в сумме 1 проклятия(е).\n",
      "Спустя 13.1 минут(ы) произносилось в сумме 1 проклятия(е).\n",
      "Спустя 13.73 минут(ы) произносилось в сумме 1 проклятия(е).\n",
      "Спустя 14.7 минут(ы) произносилось в сумме 1 проклятия(е).\n",
      "Спустя 14.74 минут(ы) произносилось в сумме 1 проклятия(е).\n",
      "Спустя 16.72 минут(ы) произносилось в сумме 1 проклятия(е).\n"
     ]
    }
   ],
   "source": [
    "for none, row in distribution_time_between_curses.iterrows():\n",
    "    print(f\"Спустя {row['minutes_in']} минут(ы) произносилось в сумме {round(row['count'])} проклятия(е).\")"
   ]
  },
  {
   "cell_type": "code",
   "execution_count": 118,
   "metadata": {},
   "outputs": [],
   "source": [
    "# Придаю колонке minutes_in тип str, чтобы в визуализации колонки были по порядку.\n",
    "distribution_time_between_curses['minutes_in'] = distribution_time_between_curses['minutes_in'].astype('str')"
   ]
  },
  {
   "cell_type": "code",
   "execution_count": 119,
   "metadata": {},
   "outputs": [
    {
     "data": {
      "image/png": "[encoded data removed]",
      "text/plain": [
       "<Figure size 1200x600 with 1 Axes>"
      ]
     },
     "metadata": {},
     "output_type": "display_data"
    }
   ],
   "source": [
    "# Визуализация времени распределения проклятий.\n",
    "plt.figure(figsize=(12, 6))\n",
    "top_distribution_time = distribution_time_between_curses.head(20)\n",
    "ax = sns.barplot(x='minutes_in', y='count', data=top_distribution_time, color='brown', alpha=0.9, legend=False)\n",
    "# Переименовываю оси X и Y.\n",
    "ax.set(xlabel='Время в минутах', ylabel='Количество проклятий') \n",
    "plt.title('Топ-20 времени (в минутах) между проклятиями в фильмах Тарантино')\n",
    "plt.xticks(rotation=45)\n",
    "plt.show()"
   ]
  },
  {
   "cell_type": "code",
   "execution_count": null,
   "metadata": {},
   "outputs": [],
   "source": []
  }
 ],
 "metadata": {
  "kernelspec": {
   "display_name": "Python 3 (ipykernel)",
   "language": "python",
   "name": "python3"
  },
  "language_info": {
   "codemirror_mode": {
    "name": "ipython",
    "version": 3
   },
   "file_extension": ".py",
   "mimetype": "text/x-python",
   "name": "python",
   "nbconvert_exporter": "python",
   "pygments_lexer": "ipython3",
   "version": "3.11.5"
  }
 },
 "nbformat": 4,
 "nbformat_minor": 4
}
