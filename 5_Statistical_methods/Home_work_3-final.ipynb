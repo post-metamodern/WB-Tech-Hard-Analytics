{
 "cells": [
  {
   "cell_type": "code",
   "execution_count": 1,
   "id": "290b2a9d-92bc-473d-a961-5f0a14d21d4f",
   "metadata": {},
   "outputs": [],
   "source": [
    "# Импортирую необходимые для работы библиотеки.\n",
    "import pandas as pd\n",
    "import numpy as np\n",
    "from scipy.stats import normaltest, ttest_ind, f_oneway, ttest_rel\n",
    "import statsmodels.api as sm\n",
    "import statsmodels.formula.api as smf\n",
    "\n",
    "import matplotlib.pyplot as plt\n",
    "import seaborn as sns\n",
    "%matplotlib inline"
   ]
  },
  {
   "cell_type": "code",
   "execution_count": null,
   "id": "bc2a1392-1d49-4817-8d4c-4282ab8bf14d",
   "metadata": {},
   "outputs": [],
   "source": []
  },
  {
   "cell_type": "code",
   "execution_count": 2,
   "id": "395c85ea-8999-4cf8-8d26-018f2270ba48",
   "metadata": {},
   "outputs": [],
   "source": [
    "# Считываю файл csv\n",
    "ab_test_delivery_time = pd.read_csv('experiment_lesson_4.csv')"
   ]
  },
  {
   "cell_type": "code",
   "execution_count": 3,
   "id": "7c3d07cd-fcf6-438b-b30c-14aa4fecf067",
   "metadata": {},
   "outputs": [
    {
     "data": {
      "text/html": [
       "<div>\n",
       "<style scoped>\n",
       "    .dataframe tbody tr th:only-of-type {\n",
       "        vertical-align: middle;\n",
       "    }\n",
       "\n",
       "    .dataframe tbody tr th {\n",
       "        vertical-align: top;\n",
       "    }\n",
       "\n",
       "    .dataframe thead th {\n",
       "        text-align: right;\n",
       "    }\n",
       "</style>\n",
       "<table border=\"1\" class=\"dataframe\">\n",
       "  <thead>\n",
       "    <tr style=\"text-align: right;\">\n",
       "      <th></th>\n",
       "      <th>order_id</th>\n",
       "      <th>delivery_time</th>\n",
       "      <th>district</th>\n",
       "      <th>experiment_group</th>\n",
       "    </tr>\n",
       "  </thead>\n",
       "  <tbody>\n",
       "    <tr>\n",
       "      <th>0</th>\n",
       "      <td>3159</td>\n",
       "      <td>44.0</td>\n",
       "      <td>Purlieus</td>\n",
       "      <td>control</td>\n",
       "    </tr>\n",
       "    <tr>\n",
       "      <th>1</th>\n",
       "      <td>10426</td>\n",
       "      <td>51.0</td>\n",
       "      <td>Purlieus</td>\n",
       "      <td>control</td>\n",
       "    </tr>\n",
       "    <tr>\n",
       "      <th>2</th>\n",
       "      <td>9155</td>\n",
       "      <td>46.0</td>\n",
       "      <td>Purlieus</td>\n",
       "      <td>control</td>\n",
       "    </tr>\n",
       "    <tr>\n",
       "      <th>3</th>\n",
       "      <td>10699</td>\n",
       "      <td>34.0</td>\n",
       "      <td>Purlieus</td>\n",
       "      <td>control</td>\n",
       "    </tr>\n",
       "    <tr>\n",
       "      <th>4</th>\n",
       "      <td>10061</td>\n",
       "      <td>43.0</td>\n",
       "      <td>Purlieus</td>\n",
       "      <td>control</td>\n",
       "    </tr>\n",
       "  </tbody>\n",
       "</table>\n",
       "</div>"
      ],
      "text/plain": [
       "   order_id  delivery_time  district experiment_group\n",
       "0      3159           44.0  Purlieus          control\n",
       "1     10426           51.0  Purlieus          control\n",
       "2      9155           46.0  Purlieus          control\n",
       "3     10699           34.0  Purlieus          control\n",
       "4     10061           43.0  Purlieus          control"
      ]
     },
     "execution_count": 3,
     "metadata": {},
     "output_type": "execute_result"
    }
   ],
   "source": [
    "# Вывод части (головы) данных\n",
    "ab_test_delivery_time.head()"
   ]
  },
  {
   "cell_type": "code",
   "execution_count": 4,
   "id": "c981dcba-3c91-4f94-bab3-599ddd08cbd1",
   "metadata": {},
   "outputs": [
    {
     "data": {
      "text/plain": [
       "(20196, 4)"
      ]
     },
     "execution_count": 4,
     "metadata": {},
     "output_type": "execute_result"
    }
   ],
   "source": [
    "# Размеры таблицы\n",
    "ab_test_delivery_time.shape"
   ]
  },
  {
   "cell_type": "code",
   "execution_count": 5,
   "id": "c2640c4a-7876-439f-b866-1d972e04df19",
   "metadata": {},
   "outputs": [
    {
     "data": {
      "text/plain": [
       "order_id            0\n",
       "delivery_time       0\n",
       "district            0\n",
       "experiment_group    0\n",
       "dtype: int64"
      ]
     },
     "execution_count": 5,
     "metadata": {},
     "output_type": "execute_result"
    }
   ],
   "source": [
    "# Кол-во пропущенных значений\n",
    "ab_test_delivery_time.isna().sum()"
   ]
  },
  {
   "cell_type": "code",
   "execution_count": 6,
   "id": "ad8c7c01-4624-47a3-978e-5081a018a762",
   "metadata": {},
   "outputs": [
    {
     "data": {
      "text/plain": [
       "order_id            20196\n",
       "delivery_time          72\n",
       "district                3\n",
       "experiment_group        2\n",
       "dtype: int64"
      ]
     },
     "execution_count": 6,
     "metadata": {},
     "output_type": "execute_result"
    }
   ],
   "source": [
    "# Кол-во уникальных элементов\n",
    "ab_test_delivery_time.nunique()"
   ]
  },
  {
   "cell_type": "code",
   "execution_count": 7,
   "id": "a6e33caa-440f-40d3-83b0-0b39651161f0",
   "metadata": {},
   "outputs": [
    {
     "name": "stdout",
     "output_type": "stream",
     "text": [
      "<class 'pandas.core.frame.DataFrame'>\n",
      "RangeIndex: 20196 entries, 0 to 20195\n",
      "Data columns (total 4 columns):\n",
      " #   Column            Non-Null Count  Dtype  \n",
      "---  ------            --------------  -----  \n",
      " 0   order_id          20196 non-null  int64  \n",
      " 1   delivery_time     20196 non-null  float64\n",
      " 2   district          20196 non-null  object \n",
      " 3   experiment_group  20196 non-null  object \n",
      "dtypes: float64(1), int64(1), object(2)\n",
      "memory usage: 631.3+ KB\n"
     ]
    }
   ],
   "source": [
    "# Типы колонок таблицы\n",
    "ab_test_delivery_time.info()"
   ]
  },
  {
   "cell_type": "code",
   "execution_count": 8,
   "id": "4797d28c-cf79-4c4e-99fd-16335f034611",
   "metadata": {},
   "outputs": [
    {
     "data": {
      "text/html": [
       "<div>\n",
       "<style scoped>\n",
       "    .dataframe tbody tr th:only-of-type {\n",
       "        vertical-align: middle;\n",
       "    }\n",
       "\n",
       "    .dataframe tbody tr th {\n",
       "        vertical-align: top;\n",
       "    }\n",
       "\n",
       "    .dataframe thead th {\n",
       "        text-align: right;\n",
       "    }\n",
       "</style>\n",
       "<table border=\"1\" class=\"dataframe\">\n",
       "  <thead>\n",
       "    <tr style=\"text-align: right;\">\n",
       "      <th></th>\n",
       "      <th>order_id</th>\n",
       "      <th>delivery_time</th>\n",
       "    </tr>\n",
       "  </thead>\n",
       "  <tbody>\n",
       "    <tr>\n",
       "      <th>count</th>\n",
       "      <td>20196.000000</td>\n",
       "      <td>20196.000000</td>\n",
       "    </tr>\n",
       "    <tr>\n",
       "      <th>mean</th>\n",
       "      <td>11103.503565</td>\n",
       "      <td>42.054169</td>\n",
       "    </tr>\n",
       "    <tr>\n",
       "      <th>std</th>\n",
       "      <td>5835.424404</td>\n",
       "      <td>10.382196</td>\n",
       "    </tr>\n",
       "    <tr>\n",
       "      <th>min</th>\n",
       "      <td>1000.000000</td>\n",
       "      <td>10.000000</td>\n",
       "    </tr>\n",
       "    <tr>\n",
       "      <th>25%</th>\n",
       "      <td>6048.750000</td>\n",
       "      <td>35.000000</td>\n",
       "    </tr>\n",
       "    <tr>\n",
       "      <th>50%</th>\n",
       "      <td>11109.500000</td>\n",
       "      <td>42.000000</td>\n",
       "    </tr>\n",
       "    <tr>\n",
       "      <th>75%</th>\n",
       "      <td>16158.250000</td>\n",
       "      <td>49.000000</td>\n",
       "    </tr>\n",
       "    <tr>\n",
       "      <th>max</th>\n",
       "      <td>21207.000000</td>\n",
       "      <td>83.000000</td>\n",
       "    </tr>\n",
       "  </tbody>\n",
       "</table>\n",
       "</div>"
      ],
      "text/plain": [
       "           order_id  delivery_time\n",
       "count  20196.000000   20196.000000\n",
       "mean   11103.503565      42.054169\n",
       "std     5835.424404      10.382196\n",
       "min     1000.000000      10.000000\n",
       "25%     6048.750000      35.000000\n",
       "50%    11109.500000      42.000000\n",
       "75%    16158.250000      49.000000\n",
       "max    21207.000000      83.000000"
      ]
     },
     "execution_count": 8,
     "metadata": {},
     "output_type": "execute_result"
    }
   ],
   "source": [
    "# Описание числовых колонок\n",
    "ab_test_delivery_time.describe()"
   ]
  },
  {
   "cell_type": "code",
   "execution_count": 9,
   "id": "f2a5cd9d-af80-4618-9b0c-ecf3cc4bb57b",
   "metadata": {},
   "outputs": [
    {
     "data": {
      "text/html": [
       "<div>\n",
       "<style scoped>\n",
       "    .dataframe tbody tr th:only-of-type {\n",
       "        vertical-align: middle;\n",
       "    }\n",
       "\n",
       "    .dataframe tbody tr th {\n",
       "        vertical-align: top;\n",
       "    }\n",
       "\n",
       "    .dataframe thead th {\n",
       "        text-align: right;\n",
       "    }\n",
       "</style>\n",
       "<table border=\"1\" class=\"dataframe\">\n",
       "  <thead>\n",
       "    <tr style=\"text-align: right;\">\n",
       "      <th></th>\n",
       "      <th>district</th>\n",
       "      <th>experiment_group</th>\n",
       "    </tr>\n",
       "  </thead>\n",
       "  <tbody>\n",
       "    <tr>\n",
       "      <th>count</th>\n",
       "      <td>20196</td>\n",
       "      <td>20196</td>\n",
       "    </tr>\n",
       "    <tr>\n",
       "      <th>unique</th>\n",
       "      <td>3</td>\n",
       "      <td>2</td>\n",
       "    </tr>\n",
       "    <tr>\n",
       "      <th>top</th>\n",
       "      <td>Purlieus</td>\n",
       "      <td>test</td>\n",
       "    </tr>\n",
       "    <tr>\n",
       "      <th>freq</th>\n",
       "      <td>16960</td>\n",
       "      <td>10104</td>\n",
       "    </tr>\n",
       "  </tbody>\n",
       "</table>\n",
       "</div>"
      ],
      "text/plain": [
       "        district experiment_group\n",
       "count      20196            20196\n",
       "unique         3                2\n",
       "top     Purlieus             test\n",
       "freq       16960            10104"
      ]
     },
     "execution_count": 9,
     "metadata": {},
     "output_type": "execute_result"
    }
   ],
   "source": [
    "# Описание строковых колонок\n",
    "ab_test_delivery_time.describe(include='object')"
   ]
  },
  {
   "cell_type": "code",
   "execution_count": null,
   "id": "bc306e37-2cae-4fa9-8877-df15e7624fb6",
   "metadata": {},
   "outputs": [],
   "source": []
  },
  {
   "cell_type": "markdown",
   "id": "1b3dcb53-23e7-4abc-86e4-708166360437",
   "metadata": {},
   "source": [
    "### Формулирование гипотезы для проверки:\n",
    "1) Нулевая гипотеза (H0): Разницы между средним временем доставки в тестовой и контрольной группе нет\n",
    "2) Альтернативная гипотеза (H1): Разница между средним временем доставки в тестовой и контрольной группе есть"
   ]
  },
  {
   "cell_type": "code",
   "execution_count": null,
   "id": "92441dd5-ba0d-4592-b124-7aef93c7700b",
   "metadata": {},
   "outputs": [],
   "source": []
  },
  {
   "cell_type": "markdown",
   "id": "3b00be6c-7f1e-4737-891e-c28af030392a",
   "metadata": {},
   "source": [
    "### Строю гистограмму распределения времени доставки"
   ]
  },
  {
   "cell_type": "code",
   "execution_count": 10,
   "id": "803c85c2-33a7-49b2-964f-7491a6962298",
   "metadata": {},
   "outputs": [
    {
     "data": {
      "image/png": "[encoded data removed]",
      "text/plain": [
       "<Figure size 1200x600 with 1 Axes>"
      ]
     },
     "metadata": {},
     "output_type": "display_data"
    }
   ],
   "source": [
    "# Размер графика\n",
    "plt.figure(figsize=(12, 6))\n",
    "# Создание двух hist-плотов для контрольной и тетсовой группы на одном графике\n",
    "sns.histplot(data=ab_test_delivery_time.query(\"experiment_group == 'control'\")\n",
    "             .groupby('order_id').delivery_time.sum()\n",
    "             , kde=True\n",
    "             , color='black'\n",
    "             , label='Контрольная группа')\n",
    "sns.histplot(data=ab_test_delivery_time.query(\"experiment_group == 'test'\")\n",
    "             .groupby('order_id').delivery_time.sum()\n",
    "             , kde=True\n",
    "             , color='red'\n",
    "             , label='Тестовая группа')\n",
    "# Название графика, название осей, размеры надписей.\n",
    "plt.legend(title=\"Виды групп\", fontsize=12)\n",
    "plt.title(\"Распределения времени доставки в тестовой и контрольной группе\", fontsize=12)\n",
    "plt.xlabel(\"Время доставки\", fontsize=12)\n",
    "plt.ylabel(\"Частота\", fontsize=12)\n",
    "# Сетка и показ графика.\n",
    "plt.grid(alpha=0.1)\n",
    "plt.show()"
   ]
  },
  {
   "cell_type": "code",
   "execution_count": null,
   "id": "c2945dde-56ca-4f74-8e84-2785937b1aee",
   "metadata": {},
   "outputs": [],
   "source": []
  },
  {
   "cell_type": "markdown",
   "id": "c7038d52-9fd6-49b6-968d-fc4e5964dfb2",
   "metadata": {},
   "source": [
    "### Нахожу количество наблюдений в тестовой и контрольной группе и вычисляю разницу по модулю"
   ]
  },
  {
   "cell_type": "code",
   "execution_count": 11,
   "id": "8de1e67a-cc7e-4384-b459-f92f3c7728e1",
   "metadata": {},
   "outputs": [
    {
     "data": {
      "text/plain": [
       "experiment_group\n",
       "test       10104\n",
       "control    10092\n",
       "Name: count, dtype: int64"
      ]
     },
     "execution_count": 11,
     "metadata": {},
     "output_type": "execute_result"
    }
   ],
   "source": [
    "# Кол-во значений в группах\n",
    "group_counts = ab_test_delivery_time.value_counts('experiment_group')\n",
    "group_counts"
   ]
  },
  {
   "cell_type": "code",
   "execution_count": 12,
   "id": "824d2c8c-dba7-4b15-8730-41527a9c8efc",
   "metadata": {},
   "outputs": [],
   "source": [
    "# Нахождение в методе кол-во пользователей в группе\n",
    "control_count = group_counts.get('control', 0)\n",
    "test_count = group_counts.get('test', 0)"
   ]
  },
  {
   "cell_type": "code",
   "execution_count": 13,
   "id": "7284b6d5-cabf-4fd4-a2b3-f72afcb10935",
   "metadata": {},
   "outputs": [
    {
     "name": "stdout",
     "output_type": "stream",
     "text": [
      "Количество наблюдений в тестовой группе и контрольной отличается по модулю на 12\n"
     ]
    }
   ],
   "source": [
    "# Нахождение по модулю число отличия наблюдений \n",
    "quantitative_difference = abs(control_count - test_count)\n",
    "print(f'Количество наблюдений в тестовой группе и контрольной отличается по модулю на {quantitative_difference}')"
   ]
  },
  {
   "cell_type": "code",
   "execution_count": null,
   "id": "4f06eb91-ccd2-4f18-b643-94b98b6a1c16",
   "metadata": {},
   "outputs": [],
   "source": []
  },
  {
   "cell_type": "markdown",
   "id": "1be0cf57-5f7c-4455-84f2-498bb758ecca",
   "metadata": {},
   "source": [
    "### Проверяю выборки на нормальность с помощью теста Агостино-Пирсона (normaltest). \n",
    "\n",
    "Основые гипотезы:\n",
    "1) Данные в контрольной группе распределены нормально \n",
    "2) Данные в тестовой группе распределены нормально"
   ]
  },
  {
   "cell_type": "code",
   "execution_count": 14,
   "id": "714fcfce-c754-4d14-835c-ccebd009536b",
   "metadata": {},
   "outputs": [],
   "source": [
    "# Разделение данных на группы\n",
    "control_group = ab_test_delivery_time[ab_test_delivery_time['experiment_group'] == 'control']['delivery_time'].dropna()\n",
    "test_group = ab_test_delivery_time[ab_test_delivery_time['experiment_group'] == 'test']['delivery_time'].dropna()"
   ]
  },
  {
   "cell_type": "code",
   "execution_count": 15,
   "id": "ca182eb5-dde8-429b-8d51-230e4f89731f",
   "metadata": {},
   "outputs": [],
   "source": [
    "# Использование теста Агостино-Пирсона (normaltest)\n",
    "statistic_control_group, p_value_control_group = normaltest(control_group)\n",
    "statistic_test_group, p_value_test_group = normaltest(test_group)"
   ]
  },
  {
   "cell_type": "code",
   "execution_count": 16,
   "id": "9bb7677a-a53b-4221-acad-816f74f606cd",
   "metadata": {},
   "outputs": [
    {
     "name": "stdout",
     "output_type": "stream",
     "text": [
      "Статистика контрольной группы: 0.25\n",
      "p-значение контрольной группы: 0.8810\n",
      "Статистика тестовой группы: 7.02\n",
      "p-значение тестовой группы: 0.0298\n"
     ]
    }
   ],
   "source": [
    "print(f\"Статистика контрольной группы: {statistic_control_group:.2f}\")\n",
    "print(f\"p-значение контрольной группы: {p_value_control_group:.4f}\")\n",
    "print(f\"Статистика тестовой группы: {statistic_test_group:.2f}\")\n",
    "print(f\"p-значение тестовой группы: {p_value_test_group:.4f}\")"
   ]
  },
  {
   "cell_type": "code",
   "execution_count": 17,
   "id": "8fa515d2-e6c8-47a0-a038-8909d9fe58bd",
   "metadata": {},
   "outputs": [
    {
     "name": "stdout",
     "output_type": "stream",
     "text": [
      "Нет достаточных оснований отвергнуть гипотезу о нормальности данных контрольной группы.\n"
     ]
    }
   ],
   "source": [
    "if p_value_control_group > 0.05:\n",
    "    print(\"Нет достаточных оснований отвергнуть гипотезу о нормальности данных контрольной группы.\")\n",
    "else:\n",
    "    print(\"Отвергаем гипотезу о нормальности данных контрольной группы.\")"
   ]
  },
  {
   "cell_type": "code",
   "execution_count": 18,
   "id": "9dac8f7c-1d3f-40d1-be94-7c8185b6aad7",
   "metadata": {},
   "outputs": [
    {
     "name": "stdout",
     "output_type": "stream",
     "text": [
      "Отвергаем гипотезу о нормальности данных тестовой группы.\n"
     ]
    }
   ],
   "source": [
    "if p_value_test_group > 0.05:\n",
    "    print(\"Нет достаточных оснований отвергнуть гипотезу о нормальности данных тестовой группы.\")\n",
    "else:\n",
    "    print(\"Отвергаем гипотезу о нормальности данных тестовой группы.\")"
   ]
  },
  {
   "cell_type": "code",
   "execution_count": null,
   "id": "14b2f70d-8123-4c3b-a25c-ea065b500177",
   "metadata": {},
   "outputs": [],
   "source": []
  },
  {
   "cell_type": "markdown",
   "id": "59062440-2eed-466d-9ad3-69bed7c523d7",
   "metadata": {},
   "source": [
    "### Нахожу стандартное отклонение времени доставки в минутах в контрольной и тестовой группе"
   ]
  },
  {
   "cell_type": "code",
   "execution_count": 19,
   "id": "b35da43a-898b-44cd-88ad-2dc2e83c2872",
   "metadata": {},
   "outputs": [
    {
     "name": "stdout",
     "output_type": "stream",
     "text": [
      "Стандартное отклонение времени доставки в минутах в контрольной группе: 9.99\n",
      "Стандартное отклонение времени доставки в минутах в тестовой группе: 9.88\n"
     ]
    }
   ],
   "source": [
    "# Стандартные отклонения в контрольной и тестовой группах\n",
    "std_control_group = control_group.std(ddof=1)\n",
    "std_test_group = test_group.std(ddof=1)\n",
    "print(f'Стандартное отклонение времени доставки в минутах в контрольной группе: {std_control_group:.2f}')\n",
    "print(f'Стандартное отклонение времени доставки в минутах в тестовой группе: {std_test_group:.2f}')"
   ]
  },
  {
   "cell_type": "code",
   "execution_count": null,
   "id": "af18972c-429f-47df-8cab-e73cd9738e4b",
   "metadata": {},
   "outputs": [],
   "source": []
  },
  {
   "cell_type": "markdown",
   "id": "abd5c6ef-7919-4ebd-995f-168a0bf6e0a5",
   "metadata": {},
   "source": [
    "### Сравниваю средние в тесте и контроле"
   ]
  },
  {
   "cell_type": "code",
   "execution_count": 20,
   "id": "26dd50ee-2648-4685-82f6-df52f22eb2a8",
   "metadata": {},
   "outputs": [
    {
     "name": "stdout",
     "output_type": "stream",
     "text": [
      "На -13.35% изменилось среднее время доставки в тестовой группе по сравнению с контрольной\n"
     ]
    }
   ],
   "source": [
    "# Вычисление процента изменения среднего времени доставки\n",
    "percentage_time_change = (100 - (ab_test_delivery_time.query(\"experiment_group == 'test'\").delivery_time.mean()/\n",
    "ab_test_delivery_time.query(\"experiment_group == 'control'\").delivery_time.mean() * 100)) * -1\n",
    "print(f'На {percentage_time_change:.2f}% изменилось среднее время доставки в тестовой группе по сравнению с контрольной')"
   ]
  },
  {
   "cell_type": "code",
   "execution_count": null,
   "id": "41876a63-d947-473c-8c5f-3d27152ed576",
   "metadata": {},
   "outputs": [],
   "source": []
  },
  {
   "cell_type": "markdown",
   "id": "105ace28-7c9c-46be-bae9-c7573862498a",
   "metadata": {},
   "source": [
    "### Нахождение Т-Статистики\n",
    "Для данной задачи подходит двухвыборочный t-test (ttest_ind), так как необходимо сравнить средние значения контрольной и тестовой группы."
   ]
  },
  {
   "cell_type": "code",
   "execution_count": 21,
   "id": "eb04a407-d4d1-4839-b7e1-e51ad5f25350",
   "metadata": {},
   "outputs": [
    {
     "name": "stdout",
     "output_type": "stream",
     "text": [
      "t-статистика: 43.04\n",
      "р-значение: 0.0000\n"
     ]
    }
   ],
   "source": [
    "# Т-статистика и p-значение\n",
    "t_statistic_delivery_time, p_value_delivery_time = ttest_ind(control_group, test_group)\n",
    "print(f\"t-статистика: {t_statistic_delivery_time:.2f}\") \n",
    "print(f\"р-значение: {p_value_delivery_time:.4f}\")"
   ]
  },
  {
   "cell_type": "code",
   "execution_count": null,
   "id": "c9cc168d-7a78-46e7-95ed-6a525301a83e",
   "metadata": {},
   "outputs": [],
   "source": []
  },
  {
   "cell_type": "markdown",
   "id": "c4dea89d-1d91-45a5-b383-f5b1ca6ad6e7",
   "metadata": {},
   "source": [
    "### Научный вывод"
   ]
  },
  {
   "cell_type": "code",
   "execution_count": 22,
   "id": "e33d2709-7484-4ffb-b515-1a72360a2a19",
   "metadata": {},
   "outputs": [
    {
     "name": "stdout",
     "output_type": "stream",
     "text": [
      "Значение p-value (0.0000) ниже заданного уровня значимости (0.05), \n",
      "значит мы отвергаем нулевую гипотезу о равенстве среднего времени доставки\n",
      "у курьеров в контрольной и тестовой группах,\n",
      "в пользу альтернативной гипотезы о наличии статистически значимой разницы.\n"
     ]
    }
   ],
   "source": [
    "# Вывод по нулевой гипотезе\n",
    "alpha = 0.05\n",
    "if p_value_delivery_time < alpha:\n",
    "    print(f\"\"\"Значение p-value ({p_value_delivery_time:.4f}) ниже заданного уровня значимости ({alpha}), \n",
    "    \\rзначит мы отвергаем нулевую гипотезу о равенстве среднего времени доставки\n",
    "    \\rу курьеров в контрольной и тестовой группах,\n",
    "    \\rв пользу альтернативной гипотезы о наличии статистически значимой разницы.\"\"\")\n",
    "else:\n",
    "    print(f\"\"\"Значение p-value ({p_value_delivery_time:.4f}) выше уровня значимости ({alpha}), \n",
    "    \\rзначит у нас нет достаточных оснований для отвержения нулевой гипотезы\n",
    "    \\rо равенстве среднего времени доставки у курьеров в контрольной и тестовой группах.\"\"\")"
   ]
  },
  {
   "cell_type": "markdown",
   "id": "4a5c5d4d-d42e-44d3-9e02-36bf6adab6cf",
   "metadata": {},
   "source": [
    "### Вывод понятный человеку, который не является специалистом в статистике"
   ]
  },
  {
   "cell_type": "markdown",
   "id": "54f1dd8c-717f-400f-bc2e-2fde36f76bcd",
   "metadata": {},
   "source": [
    "Расчёты показывают, что использование новой опции \"по пути\" действительно помогает курьерам справляться с большими объемами заказов в конце дня. \n",
    "\n",
    "Курьеры из тестовой группы теперь доставляют заказы быстрее, что является положительным результатом для нашей компании."
   ]
  },
  {
   "cell_type": "code",
   "execution_count": null,
   "id": "5526aa69-d770-487f-adb1-08d4f1ab2ca5",
   "metadata": {},
   "outputs": [],
   "source": []
  }
 ],
 "metadata": {
  "kernelspec": {
   "display_name": "Python 3 (ipykernel)",
   "language": "python",
   "name": "python3"
  },
  "language_info": {
   "codemirror_mode": {
    "name": "ipython",
    "version": 3
   },
   "file_extension": ".py",
   "mimetype": "text/x-python",
   "name": "python",
   "nbconvert_exporter": "python",
   "pygments_lexer": "ipython3",
   "version": "3.11.5"
  }
 },
 "nbformat": 4,
 "nbformat_minor": 5
}
